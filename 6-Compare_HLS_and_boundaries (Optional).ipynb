{
 "cells": [
  {
   "cell_type": "markdown",
   "metadata": {},
   "source": [
    "# Get HLS and DSWE\n",
    "\n",
    "Get some related data"
   ]
  },
  {
   "cell_type": "code",
   "execution_count": null,
   "metadata": {},
   "outputs": [],
   "source": [
    "import geopandas as gpd\n",
    "import os\n",
    "import rasterio\n",
    "import rasterio.mask\n",
    "from pathlib import Path\n",
    "from rasterio.plot import show\n",
    "from rasterio.crs import CRS\n",
    "import matplotlib.pyplot as plt\n",
    "import pandas as pd\n",
    "from pystac_client import Client  \n",
    "from osgeo import gdal\n",
    "from tqdm import tqdm\n",
    "import numpy as np\n",
    "from shapely.geometry import shape"
   ]
  },
  {
   "cell_type": "markdown",
   "metadata": {},
   "source": [
    "# Parameters\n",
    "\n",
    "Specify *exactly* one. The `site_name` or the `planet_id`. The former is given to the chip by the validation team. Because we are not selecting multiple planet scenes per chip and not selecting planet images that cover multiple chips (they are sufficiently spaced apart), this should be a 1 to 1 mapping."
   ]
  },
  {
   "cell_type": "code",
   "execution_count": null,
   "metadata": {},
   "outputs": [],
   "source": [
    "PLANET_ID = ''\n",
    "SITE_NAME = '3_28'\n",
    "\n",
    "# ^ is exclusive or; makes sure you only specified one\n",
    "assert((len(PLANET_ID) == 0) ^ (len(SITE_NAME) == 0))"
   ]
  },
  {
   "cell_type": "code",
   "execution_count": null,
   "metadata": {},
   "outputs": [],
   "source": [
    "download_dir = Path('planet_images')"
   ]
  },
  {
   "cell_type": "markdown",
   "metadata": {},
   "source": [
    "# Environment"
   ]
  },
  {
   "cell_type": "code",
   "execution_count": null,
   "metadata": {},
   "outputs": [],
   "source": [
    "os.environ[\"AWS_NO_SIGN_REQUEST\"] = \"YES\""
   ]
  },
  {
   "cell_type": "markdown",
   "metadata": {},
   "source": [
    "# Get Image Database"
   ]
  },
  {
   "cell_type": "code",
   "execution_count": null,
   "metadata": {},
   "outputs": [],
   "source": [
    "df_images = gpd.read_file('s3://opera-calval-database-dswx/image.geojson')\n",
    "df_images.dropna(inplace=True)\n",
    "df_images.head()"
   ]
  },
  {
   "cell_type": "code",
   "execution_count": null,
   "metadata": {},
   "outputs": [],
   "source": [
    "temp = df_images[['image_name', 'site_name']]\n",
    "df_site2image = temp.set_index('site_name')\n",
    "df_image2site = temp.set_index('image_name')\n",
    "df_site2image.head()"
   ]
  },
  {
   "cell_type": "code",
   "execution_count": null,
   "metadata": {},
   "outputs": [],
   "source": [
    "df_site = gpd.read_file('s3://opera-calval-database-dswx/site.geojson')\n",
    "df_site.dropna(inplace=True)\n",
    "df_site.head()"
   ]
  },
  {
   "cell_type": "code",
   "execution_count": null,
   "metadata": {},
   "outputs": [],
   "source": [
    "cols_to_merge = [col for col in df_images.columns if col != 'geometry']\n",
    "df_temp = df_images[cols_to_merge]\n",
    "df_chips = pd.merge(df_site, df_temp , on='site_name', how='left')\n",
    "df_chips.head()"
   ]
  },
  {
   "cell_type": "code",
   "execution_count": null,
   "metadata": {},
   "outputs": [],
   "source": [
    "if not PLANET_ID:\n",
    "    values = PLANET_ID = df_site2image.loc[SITE_NAME].tolist()\n",
    "    PLANET_ID = values[0]\n",
    "    print(f'There was {len(values)} planet images for this chip')\n",
    "else:\n",
    "    values = df_image2site.loc[PLANET_ID].tolist()\n",
    "    SITE_NAME = values[0]\n",
    "    print(f'There were {len(values)} chips for this planet_image')\n",
    "\n",
    "(SITE_NAME, PLANET_ID)"
   ]
  },
  {
   "cell_type": "code",
   "execution_count": null,
   "metadata": {},
   "outputs": [],
   "source": [
    "HLS_ID = df_images[df_images['image_name'] == PLANET_ID]['collocated_dswx'].values[0]\n",
    "HLS_ID"
   ]
  },
  {
   "cell_type": "markdown",
   "metadata": {},
   "source": [
    "# Get HLS\n",
    "\n",
    "You will need to have logged into Earthdata Login credentials in your `.netrc`."
   ]
  },
  {
   "cell_type": "code",
   "execution_count": null,
   "metadata": {},
   "outputs": [],
   "source": [
    "STAC_URL = 'https://cmr.earthdata.nasa.gov/stac'\n",
    "api = Client.open(f'{STAC_URL}/LPCLOUD/')\n",
    "hls_collections = ['HLSL30.v2.0', 'HLSS30.v2.0']\n",
    "\n",
    "search_params = {\"collections\": hls_collections,\n",
    "                 \"ids\": HLS_ID}\n",
    "search_hls = api.search(**search_params)\n",
    "search_hls"
   ]
  },
  {
   "cell_type": "code",
   "execution_count": null,
   "metadata": {},
   "outputs": [],
   "source": [
    "search_hls.matched()"
   ]
  },
  {
   "cell_type": "code",
   "execution_count": null,
   "metadata": {},
   "outputs": [],
   "source": [
    "hls_collection = list(search_hls.get_all_items())\n",
    "metadata = hls_collection[0].to_dict()\n",
    "metadata"
   ]
  },
  {
   "cell_type": "markdown",
   "metadata": {},
   "source": [
    "# HLS Imagery\n",
    "\n",
    "First, make sure you have logged into [Earthdata Login](https://urs.earthdata.nasa.gov/) (it will store cookies in ~/cookies.txt). Below, I copied code from this [link](https://lpdaac.usgs.gov/resources/e-learning/getting-started-cloud-native-hls-data-python/) in section 4. It seems to work."
   ]
  },
  {
   "cell_type": "code",
   "execution_count": null,
   "metadata": {},
   "outputs": [],
   "source": [
    "# GDAL configs used to successfully access LP DAAC Cloud Assets via vsicurl \n",
    "gdal.SetConfigOption(\"GDAL_HTTP_UNSAFESSL\", \"YES\")\n",
    "gdal.SetConfigOption('GDAL_HTTP_COOKIEFILE','~/cookies.txt')\n",
    "gdal.SetConfigOption('GDAL_HTTP_COOKIEJAR', '~/cookies.txt')\n",
    "gdal.SetConfigOption('GDAL_DISABLE_READDIR_ON_OPEN','YES')\n",
    "gdal.SetConfigOption('GDAL_DISABLE_READDIR_ON_OPEN','FALSE')\n",
    "gdal.SetConfigOption('CPL_VSIL_CURL_ALLOWED_EXTENSIONS','TIF')"
   ]
  },
  {
   "cell_type": "code",
   "execution_count": null,
   "metadata": {},
   "outputs": [],
   "source": [
    "urls = [metadata['assets'][band]['href'] for band in ['B02', 'B03', 'B04']]\n",
    "urls"
   ]
  },
  {
   "cell_type": "code",
   "execution_count": null,
   "metadata": {},
   "outputs": [],
   "source": [
    "def read_one(url):\n",
    "    with rasterio.open(url) as ds:\n",
    "        p = ds.profile\n",
    "        X = ds.read(1)\n",
    "    return X, p\n",
    "\n",
    "images, profiles = zip(*[read_one(url) for url in tqdm(urls)])\n",
    "plt.imshow(images[0])"
   ]
  },
  {
   "cell_type": "markdown",
   "metadata": {},
   "source": [
    "# Save"
   ]
  },
  {
   "cell_type": "code",
   "execution_count": null,
   "metadata": {},
   "outputs": [],
   "source": [
    "data_dir = Path(f'data/{PLANET_ID}/')\n",
    "data_dir.mkdir(exist_ok=True, parents=True)"
   ]
  },
  {
   "cell_type": "code",
   "execution_count": null,
   "metadata": {},
   "outputs": [],
   "source": [
    "rgb = np.stack(images, axis=2)\n",
    "plt.imshow(rgb)"
   ]
  },
  {
   "cell_type": "code",
   "execution_count": null,
   "metadata": {},
   "outputs": [],
   "source": [
    "p = profiles[0].copy()\n",
    "p['count'] = 3\n",
    "\n",
    "with rasterio.open(data_dir/f'rgb_{HLS_ID}.tif', 'w', **p) as ds:\n",
    "    ds.write(rgb.transpose([2, 0, 1]))"
   ]
  },
  {
   "cell_type": "markdown",
   "metadata": {
    "ExecuteTime": {
     "end_time": "2022-09-14T19:13:10.438903Z",
     "start_time": "2022-09-14T19:13:10.436727Z"
    }
   },
   "source": [
    "# Visualize Data Boudnaries"
   ]
  },
  {
   "cell_type": "code",
   "execution_count": null,
   "metadata": {},
   "outputs": [],
   "source": [
    "hls_boundary = shape(metadata['geometry'])\n",
    "hls_boundary"
   ]
  },
  {
   "cell_type": "code",
   "execution_count": null,
   "metadata": {},
   "outputs": [],
   "source": [
    "planet_image = df_images[df_images.image_name == PLANET_ID].geometry.values[0]\n",
    "planet_image"
   ]
  },
  {
   "cell_type": "code",
   "execution_count": null,
   "metadata": {},
   "outputs": [],
   "source": [
    "validation_area = df_chips[df_chips.image_name == PLANET_ID].geometry.values[0]\n",
    "validation_area"
   ]
  },
  {
   "cell_type": "code",
   "execution_count": null,
   "metadata": {},
   "outputs": [],
   "source": [
    "df_all = gpd.GeoDataFrame({'extent_label': ['hls', 'planet', 'validation']},\n",
    "                          geometry=[hls_boundary, planet_image, validation_area],\n",
    "                          crs=df_chips.crs)"
   ]
  },
  {
   "cell_type": "code",
   "execution_count": null,
   "metadata": {},
   "outputs": [],
   "source": [
    "fig, ax = plt.subplots(figsize=(10, 10))\n",
    "df_all.plot(column='extent_label', legend=True, ax=ax, alpha=.5)"
   ]
  }
 ],
 "metadata": {
  "language_info": {
   "name": "python"
  }
 },
 "nbformat": 4,
 "nbformat_minor": 2
}
