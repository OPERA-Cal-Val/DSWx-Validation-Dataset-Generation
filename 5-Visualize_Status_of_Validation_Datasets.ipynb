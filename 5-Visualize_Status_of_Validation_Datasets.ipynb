{
 "cells": [
  {
   "cell_type": "markdown",
   "id": "acquired-battery",
   "metadata": {},
   "source": [
    "Grabbing the latest chips that are being worked on."
   ]
  },
  {
   "cell_type": "code",
   "execution_count": 1,
   "id": "honest-facial",
   "metadata": {
    "ExecuteTime": {
     "end_time": "2022-09-21T20:24:00.773808Z",
     "start_time": "2022-09-21T20:24:00.415515Z"
    }
   },
   "outputs": [],
   "source": [
    "import geopandas as gpd\n",
    "import os\n",
    "import matplotlib.pyplot as plt"
   ]
  },
  {
   "cell_type": "code",
   "execution_count": 2,
   "id": "affecting-encoding",
   "metadata": {
    "ExecuteTime": {
     "end_time": "2022-09-21T20:24:00.779037Z",
     "start_time": "2022-09-21T20:24:00.776156Z"
    }
   },
   "outputs": [],
   "source": [
    "os.environ[\"AWS_NO_SIGN_REQUEST\"] = \"YES\""
   ]
  },
  {
   "cell_type": "code",
   "execution_count": 3,
   "id": "logical-strip",
   "metadata": {
    "ExecuteTime": {
     "end_time": "2022-09-21T20:24:01.881625Z",
     "start_time": "2022-09-21T20:24:01.171521Z"
    }
   },
   "outputs": [
    {
     "data": {
      "text/html": [
       "<div>\n",
       "<style scoped>\n",
       "    .dataframe tbody tr th:only-of-type {\n",
       "        vertical-align: middle;\n",
       "    }\n",
       "\n",
       "    .dataframe tbody tr th {\n",
       "        vertical-align: top;\n",
       "    }\n",
       "\n",
       "    .dataframe thead th {\n",
       "        text-align: right;\n",
       "    }\n",
       "</style>\n",
       "<table border=\"1\" class=\"dataframe\">\n",
       "  <thead>\n",
       "    <tr style=\"text-align: right;\">\n",
       "      <th></th>\n",
       "      <th>bucket</th>\n",
       "      <th>calc_type</th>\n",
       "      <th>calculated_by</th>\n",
       "      <th>image_calc_name</th>\n",
       "      <th>image_name</th>\n",
       "      <th>notes</th>\n",
       "      <th>oversight_level</th>\n",
       "      <th>previous_name</th>\n",
       "      <th>processing_level</th>\n",
       "      <th>public</th>\n",
       "      <th>reviewed_by</th>\n",
       "      <th>s3_keys</th>\n",
       "      <th>upload_date</th>\n",
       "      <th>version</th>\n",
       "      <th>water_strata</th>\n",
       "      <th>water_stratum</th>\n",
       "      <th>geometry</th>\n",
       "    </tr>\n",
       "  </thead>\n",
       "  <tbody>\n",
       "    <tr>\n",
       "      <th>12</th>\n",
       "      <td>opera-calval-database-dswx</td>\n",
       "      <td>Manual classification</td>\n",
       "      <td>Alexander Handwerger</td>\n",
       "      <td>20210906_101112_28_225a_classification_v0</td>\n",
       "      <td>20210906_101112_28_225a</td>\n",
       "      <td>Supervised Classification using Semiautomatic ...</td>\n",
       "      <td>None</td>\n",
       "      <td>None</td>\n",
       "      <td>Intermediate</td>\n",
       "      <td>True</td>\n",
       "      <td>None</td>\n",
       "      <td>data/site/3_28/image/20210906_101112_28_225a/i...</td>\n",
       "      <td>20220916_154315</td>\n",
       "      <td>0.0</td>\n",
       "      <td>NaN</td>\n",
       "      <td>NaN</td>\n",
       "      <td>POLYGON ((-0.04389 43.05233, -0.04389 43.16776...</td>\n",
       "    </tr>\n",
       "    <tr>\n",
       "      <th>20</th>\n",
       "      <td>opera-calval-database-dswx</td>\n",
       "      <td>Manual classification</td>\n",
       "      <td>Alexander Handwerger</td>\n",
       "      <td>20210922_171337_39_2420_classification_v1.0</td>\n",
       "      <td>20210922_171337_39_2420</td>\n",
       "      <td>Manual Edit of Supervised Classification.</td>\n",
       "      <td>None</td>\n",
       "      <td>20210922_171337_39_2420_classification_v0</td>\n",
       "      <td>Intermediate</td>\n",
       "      <td>True</td>\n",
       "      <td>None</td>\n",
       "      <td>data/site/2_26/image/20210922_171337_39_2420/i...</td>\n",
       "      <td>20220920_172249</td>\n",
       "      <td>1.0</td>\n",
       "      <td>NaN</td>\n",
       "      <td>1.0</td>\n",
       "      <td>POLYGON ((-109.07831 38.43146, -109.07831 38.4...</td>\n",
       "    </tr>\n",
       "    <tr>\n",
       "      <th>7</th>\n",
       "      <td>opera-calval-database-dswx</td>\n",
       "      <td>Manual Edit of Classification</td>\n",
       "      <td>Alexander Handwerger</td>\n",
       "      <td>20210924_000522_94_2421_class_edit</td>\n",
       "      <td>20210924_000522_94_2421</td>\n",
       "      <td>None</td>\n",
       "      <td>None</td>\n",
       "      <td>20210924_000522_94_2421_class</td>\n",
       "      <td>Intermediate</td>\n",
       "      <td>True</td>\n",
       "      <td>None</td>\n",
       "      <td>data/site/4_42/image/20210924_000522_94_2421/i...</td>\n",
       "      <td>20220805_131950</td>\n",
       "      <td>NaN</td>\n",
       "      <td>NaN</td>\n",
       "      <td>NaN</td>\n",
       "      <td>POLYGON ((139.47770 -16.88868, 139.43688 -17.0...</td>\n",
       "    </tr>\n",
       "    <tr>\n",
       "      <th>5</th>\n",
       "      <td>opera-calval-database-dswx</td>\n",
       "      <td>Manual Edit of Classification</td>\n",
       "      <td>Alexander Handwerger</td>\n",
       "      <td>20210924_082025_48_2424_class_edit</td>\n",
       "      <td>20210924_082025_48_2424</td>\n",
       "      <td>None</td>\n",
       "      <td>None</td>\n",
       "      <td>20210924_082025_48_2424_class</td>\n",
       "      <td>Intermediate</td>\n",
       "      <td>True</td>\n",
       "      <td>None</td>\n",
       "      <td>data/site/4_37/image/20210924_082025_48_2424/i...</td>\n",
       "      <td>20220805_124214</td>\n",
       "      <td>NaN</td>\n",
       "      <td>NaN</td>\n",
       "      <td>NaN</td>\n",
       "      <td>POLYGON ((28.20956 -9.14523, 28.17025 -9.34005...</td>\n",
       "    </tr>\n",
       "    <tr>\n",
       "      <th>8</th>\n",
       "      <td>opera-calval-database-dswx</td>\n",
       "      <td>TEST</td>\n",
       "      <td>Matthew Bonnema</td>\n",
       "      <td>20210928_141837_16_2407_classification_v0</td>\n",
       "      <td>20210928_141837_16_2407</td>\n",
       "      <td>This is a fake entry for testing. Delete when ...</td>\n",
       "      <td>None</td>\n",
       "      <td>None</td>\n",
       "      <td>Intermediate</td>\n",
       "      <td>True</td>\n",
       "      <td>None</td>\n",
       "      <td>data/site/2_1/image/20210928_141837_16_2407/im...</td>\n",
       "      <td>20220916_115719</td>\n",
       "      <td>0.0</td>\n",
       "      <td>NaN</td>\n",
       "      <td>NaN</td>\n",
       "      <td>POLYGON ((-60.62407 -14.76471, -60.66244 -14.9...</td>\n",
       "    </tr>\n",
       "  </tbody>\n",
       "</table>\n",
       "</div>"
      ],
      "text/plain": [
       "                        bucket                      calc_type  \\\n",
       "12  opera-calval-database-dswx          Manual classification   \n",
       "20  opera-calval-database-dswx          Manual classification   \n",
       "7   opera-calval-database-dswx  Manual Edit of Classification   \n",
       "5   opera-calval-database-dswx  Manual Edit of Classification   \n",
       "8   opera-calval-database-dswx                           TEST   \n",
       "\n",
       "           calculated_by                              image_calc_name  \\\n",
       "12  Alexander Handwerger    20210906_101112_28_225a_classification_v0   \n",
       "20  Alexander Handwerger  20210922_171337_39_2420_classification_v1.0   \n",
       "7   Alexander Handwerger           20210924_000522_94_2421_class_edit   \n",
       "5   Alexander Handwerger           20210924_082025_48_2424_class_edit   \n",
       "8        Matthew Bonnema    20210928_141837_16_2407_classification_v0   \n",
       "\n",
       "                 image_name  \\\n",
       "12  20210906_101112_28_225a   \n",
       "20  20210922_171337_39_2420   \n",
       "7   20210924_000522_94_2421   \n",
       "5   20210924_082025_48_2424   \n",
       "8   20210928_141837_16_2407   \n",
       "\n",
       "                                                notes oversight_level  \\\n",
       "12  Supervised Classification using Semiautomatic ...            None   \n",
       "20          Manual Edit of Supervised Classification.            None   \n",
       "7                                                None            None   \n",
       "5                                                None            None   \n",
       "8   This is a fake entry for testing. Delete when ...            None   \n",
       "\n",
       "                                previous_name processing_level public  \\\n",
       "12                                       None     Intermediate   True   \n",
       "20  20210922_171337_39_2420_classification_v0     Intermediate   True   \n",
       "7               20210924_000522_94_2421_class     Intermediate   True   \n",
       "5               20210924_082025_48_2424_class     Intermediate   True   \n",
       "8                                        None     Intermediate   True   \n",
       "\n",
       "   reviewed_by                                            s3_keys  \\\n",
       "12        None  data/site/3_28/image/20210906_101112_28_225a/i...   \n",
       "20        None  data/site/2_26/image/20210922_171337_39_2420/i...   \n",
       "7         None  data/site/4_42/image/20210924_000522_94_2421/i...   \n",
       "5         None  data/site/4_37/image/20210924_082025_48_2424/i...   \n",
       "8         None  data/site/2_1/image/20210928_141837_16_2407/im...   \n",
       "\n",
       "        upload_date  version  water_strata  water_stratum  \\\n",
       "12  20220916_154315      0.0           NaN            NaN   \n",
       "20  20220920_172249      1.0           NaN            1.0   \n",
       "7   20220805_131950      NaN           NaN            NaN   \n",
       "5   20220805_124214      NaN           NaN            NaN   \n",
       "8   20220916_115719      0.0           NaN            NaN   \n",
       "\n",
       "                                             geometry  \n",
       "12  POLYGON ((-0.04389 43.05233, -0.04389 43.16776...  \n",
       "20  POLYGON ((-109.07831 38.43146, -109.07831 38.4...  \n",
       "7   POLYGON ((139.47770 -16.88868, 139.43688 -17.0...  \n",
       "5   POLYGON ((28.20956 -9.14523, 28.17025 -9.34005...  \n",
       "8   POLYGON ((-60.62407 -14.76471, -60.66244 -14.9...  "
      ]
     },
     "execution_count": 3,
     "metadata": {},
     "output_type": "execute_result"
    }
   ],
   "source": [
    "df_image_calc = gpd.read_file('s3://opera-calval-database-dswx/image_calc.geojson')\n",
    "df_image_calc.dropna(subset='geometry', inplace=True)\n",
    "df_image_calc = df_image_calc.sort_values(by=['image_name', 'upload_date'], ascending=True)\n",
    "df_image_calc = df_image_calc.groupby('image_name').tail(1)\n",
    "df_image_calc.head()"
   ]
  },
  {
   "cell_type": "code",
   "execution_count": 4,
   "id": "knowing-disco",
   "metadata": {
    "ExecuteTime": {
     "end_time": "2022-09-21T20:24:01.888875Z",
     "start_time": "2022-09-21T20:24:01.883776Z"
    }
   },
   "outputs": [
    {
     "data": {
      "text/plain": [
       "<Geographic 2D CRS: EPSG:4326>\n",
       "Name: WGS 84\n",
       "Axis Info [ellipsoidal]:\n",
       "- Lat[north]: Geodetic latitude (degree)\n",
       "- Lon[east]: Geodetic longitude (degree)\n",
       "Area of Use:\n",
       "- name: World.\n",
       "- bounds: (-180.0, -90.0, 180.0, 90.0)\n",
       "Datum: World Geodetic System 1984 ensemble\n",
       "- Ellipsoid: WGS 84\n",
       "- Prime Meridian: Greenwich"
      ]
     },
     "execution_count": 4,
     "metadata": {},
     "output_type": "execute_result"
    }
   ],
   "source": [
    "df_image_calc.crs"
   ]
  },
  {
   "cell_type": "code",
   "execution_count": 5,
   "id": "alpine-performance",
   "metadata": {
    "ExecuteTime": {
     "end_time": "2022-09-21T20:24:03.443365Z",
     "start_time": "2022-09-21T20:24:02.595172Z"
    }
   },
   "outputs": [
    {
     "name": "stderr",
     "output_type": "stream",
     "text": [
      "/var/folders/s6/fbsc26cd0ddffbp3_knts_9c0wcxj1/T/ipykernel_48342/1878483146.py:1: UserWarning: Geometry is in a geographic CRS. Results from 'buffer' are likely incorrect. Use 'GeoSeries.to_crs()' to re-project geometries to a projected CRS before this operation.\n",
      "\n",
      "  df_image_calc.geometry.buffer(1).plot()\n"
     ]
    },
    {
     "data": {
      "text/plain": [
       "<AxesSubplot:>"
      ]
     },
     "execution_count": 5,
     "metadata": {},
     "output_type": "execute_result"
    },
    {
     "data": {
      "image/png": "[encoded data removed]",
      "text/plain": [
       "<Figure size 432x288 with 1 Axes>"
      ]
     },
     "metadata": {
      "needs_background": "light"
     },
     "output_type": "display_data"
    }
   ],
   "source": [
    "df_image_calc.geometry.buffer(1).plot()"
   ]
  },
  {
   "cell_type": "code",
   "execution_count": 6,
   "id": "rental-tract",
   "metadata": {
    "ExecuteTime": {
     "end_time": "2022-09-21T20:24:04.083478Z",
     "start_time": "2022-09-21T20:24:04.044015Z"
    }
   },
   "outputs": [],
   "source": [
    "df_image_calc.to_file('image_calc_current.geojson', driver='GeoJSON')"
   ]
  },
  {
   "cell_type": "code",
   "execution_count": 15,
   "id": "right-frontier",
   "metadata": {
    "ExecuteTime": {
     "end_time": "2022-09-21T20:26:01.484833Z",
     "start_time": "2022-09-21T20:26:01.201456Z"
    }
   },
   "outputs": [
    {
     "data": {
      "text/plain": [
       "Text(0, 0.5, 'Frequency')"
      ]
     },
     "execution_count": 15,
     "metadata": {},
     "output_type": "execute_result"
    },
    {
     "data": {
      "image/png": "[encoded data removed]",
      "text/plain": [
       "<Figure size 432x288 with 1 Axes>"
      ]
     },
     "metadata": {
      "needs_background": "light"
     },
     "output_type": "display_data"
    }
   ],
   "source": [
    "plt.hist(df_image_calc.water_stratum)\n",
    "plt.xlabel('Water Stratum')\n",
    "plt.ylabel('Frequency')"
   ]
  },
  {
   "cell_type": "code",
   "execution_count": 18,
   "id": "starting-exception",
   "metadata": {
    "ExecuteTime": {
     "end_time": "2022-09-21T20:26:26.668364Z",
     "start_time": "2022-09-21T20:26:26.664769Z"
    }
   },
   "outputs": [
    {
     "data": {
      "text/plain": [
       "'We have submitted 9 images currently'"
      ]
     },
     "execution_count": 18,
     "metadata": {},
     "output_type": "execute_result"
    }
   ],
   "source": [
    "n = df_image_calc.shape[0]\n",
    "f'We have submitted {n} images currently'"
   ]
  }
 ],
 "metadata": {
  "kernelspec": {
   "display_name": "dswx_val",
   "language": "python",
   "name": "dswx_val"
  },
  "language_info": {
   "codemirror_mode": {
    "name": "ipython",
    "version": 3
   },
   "file_extension": ".py",
   "mimetype": "text/x-python",
   "name": "python",
   "nbconvert_exporter": "python",
   "pygments_lexer": "ipython3",
   "version": "3.10.5"
  }
 },
 "nbformat": 4,
 "nbformat_minor": 5
}
