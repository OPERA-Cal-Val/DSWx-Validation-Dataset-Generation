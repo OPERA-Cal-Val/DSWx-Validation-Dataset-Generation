{
 "cells": [
  {
   "cell_type": "markdown",
   "id": "arbitrary-commitment",
   "metadata": {},
   "source": [
    "Grabbing the latest chips that are being worked on."
   ]
  },
  {
   "cell_type": "code",
   "execution_count": null,
   "id": "polyphonic-finland",
   "metadata": {
    "ExecuteTime": {
     "end_time": "2022-09-19T22:27:32.797277Z",
     "start_time": "2022-09-19T22:27:32.471487Z"
    }
   },
   "outputs": [],
   "source": [
    "import geopandas as gpd\n",
    "import os"
   ]
  },
  {
   "cell_type": "code",
   "execution_count": null,
   "id": "leading-tablet",
   "metadata": {
    "ExecuteTime": {
     "end_time": "2022-09-19T22:27:32.886546Z",
     "start_time": "2022-09-19T22:27:32.883995Z"
    }
   },
   "outputs": [],
   "source": [
    "os.environ[\"AWS_NO_SIGN_REQUEST\"] = \"YES\""
   ]
  },
  {
   "cell_type": "code",
   "execution_count": null,
   "id": "destroyed-compiler",
   "metadata": {
    "ExecuteTime": {
     "end_time": "2022-09-19T22:27:34.093144Z",
     "start_time": "2022-09-19T22:27:33.412328Z"
    }
   },
   "outputs": [],
   "source": [
    "df_image_calc = gpd.read_file('s3://opera-calval-database-dswx/image_calc.geojson')\n",
    "df_image_calc.dropna(subset='geometry', inplace=True)\n",
    "df_image_calc = df_image_calc.sort_values(by=['image_name', 'upload_date'], ascending=True)\n",
    "df_image_calc = df_image_calc.groupby('image_name').tail(1)\n",
    "df_image_calc.head()"
   ]
  },
  {
   "cell_type": "code",
   "execution_count": null,
   "id": "fatal-astrology",
   "metadata": {
    "ExecuteTime": {
     "end_time": "2022-09-19T22:27:35.543390Z",
     "start_time": "2022-09-19T22:27:35.539808Z"
    }
   },
   "outputs": [],
   "source": [
    "df_image_calc.crs"
   ]
  },
  {
   "cell_type": "code",
   "execution_count": null,
   "id": "pressed-intersection",
   "metadata": {
    "ExecuteTime": {
     "end_time": "2022-09-19T22:27:37.444926Z",
     "start_time": "2022-09-19T22:27:36.763905Z"
    }
   },
   "outputs": [],
   "source": [
    "df_image_calc.geometry.buffer(1).plot()"
   ]
  },
  {
   "cell_type": "code",
   "execution_count": null,
   "id": "everyday-chester",
   "metadata": {
    "ExecuteTime": {
     "end_time": "2022-09-19T22:27:37.580069Z",
     "start_time": "2022-09-19T22:27:37.555743Z"
    }
   },
   "outputs": [],
   "source": [
    "df_image_calc.to_file('image_calc_current.geojson', driver='GeoJSON')"
   ]
  }
 ],
 "metadata": {
  "kernelspec": {
   "display_name": "dswx_val",
   "language": "python",
   "name": "dswx_val"
  },
  "language_info": {
   "codemirror_mode": {
    "name": "ipython",
    "version": 3
   },
   "file_extension": ".py",
   "mimetype": "text/x-python",
   "name": "python",
   "nbconvert_exporter": "python",
   "pygments_lexer": "ipython3",
   "version": "3.10.5"
  }
 },
 "nbformat": 4,
 "nbformat_minor": 5
}
