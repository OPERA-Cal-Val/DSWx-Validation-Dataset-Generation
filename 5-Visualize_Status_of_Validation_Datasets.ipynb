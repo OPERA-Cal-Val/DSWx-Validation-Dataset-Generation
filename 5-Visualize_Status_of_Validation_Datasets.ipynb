{
 "cells": [
  {
   "cell_type": "markdown",
   "id": "amazing-payment",
   "metadata": {},
   "source": [
    "Grabbing the latest chips that are being worked on."
   ]
  },
  {
   "cell_type": "code",
   "execution_count": null,
   "id": "noble-warrior",
   "metadata": {},
   "outputs": [],
   "source": [
    "import geopandas as gpd\n",
    "import os\n",
    "import matplotlib.pyplot as plt\n",
    "from tools.lookup import connect_site_and_planet_ids"
   ]
  },
  {
   "cell_type": "code",
   "execution_count": null,
   "id": "anonymous-scope",
   "metadata": {},
   "outputs": [],
   "source": [
    "os.environ[\"AWS_NO_SIGN_REQUEST\"] = \"YES\""
   ]
  },
  {
   "cell_type": "code",
   "execution_count": null,
   "id": "photographic-interstate",
   "metadata": {},
   "outputs": [],
   "source": [
    "df_image_calc = gpd.read_file('s3://opera-calval-database-dswx/image_calc.geojson')\n",
    "\n",
    "#  Group by upload date and image name and get the most recent\n",
    "df_image_calc = df_image_calc.sort_values(by=['image_name', 'upload_date'], ascending=True)\n",
    "df_image_calc = df_image_calc.groupby('image_name').tail(1)\n",
    "\n",
    "# Check if \"final\" is in processing level\n",
    "df_image_calc.dropna(subset=['processing_level'], inplace=True)\n",
    "temp = df_image_calc.processing_level.str.lower()\n",
    "df_image_calc = df_image_calc[temp.str.contains('final')].reset_index(drop=True)\n",
    "\n",
    "df_image_calc.head()"
   ]
  },
  {
   "cell_type": "code",
   "execution_count": null,
   "id": "israeli-handle",
   "metadata": {},
   "outputs": [],
   "source": [
    "df_image_calc.geometry.buffer(2).plot()"
   ]
  },
  {
   "cell_type": "code",
   "execution_count": null,
   "id": "historic-morris",
   "metadata": {},
   "outputs": [],
   "source": [
    "df_image_calc.to_file('image_calc_current.geojson', driver='GeoJSON')"
   ]
  },
  {
   "cell_type": "code",
   "execution_count": null,
   "id": "sexual-partner",
   "metadata": {},
   "outputs": [],
   "source": [
    "plt.hist(df_image_calc.water_stratum)\n",
    "plt.xlabel('Water Stratum')\n",
    "plt.ylabel('Frequency')"
   ]
  },
  {
   "cell_type": "code",
   "execution_count": null,
   "id": "relative-penetration",
   "metadata": {},
   "outputs": [],
   "source": [
    "n = df_image_calc.shape[0]\n",
    "f'We have finalized {n} images.'"
   ]
  },
  {
   "cell_type": "code",
   "execution_count": null,
   "id": "inclusive-exercise",
   "metadata": {},
   "outputs": [],
   "source": [
    "planet_ids = df_image_calc.image_name.tolist()\n",
    "site_names = [connect_site_and_planet_ids({'planet_id': planet_id, 'site_name': ''})['site_name'] \n",
    "              for planet_id in planet_ids]\n",
    "ids = list(zip(site_names, planet_ids))\n",
    "ids"
   ]
  },
  {
   "cell_type": "code",
   "execution_count": null,
   "id": "resident-malpractice",
   "metadata": {},
   "outputs": [],
   "source": [
    "site_names = [connect_site_and_planet_ids({'planet_id': planet_id, 'site_name': ''})['site_name'] \n",
    "              for planet_id in planet_ids]\n",
    "site_names"
   ]
  },
  {
   "cell_type": "code",
   "execution_count": null,
   "id": "timely-scout",
   "metadata": {},
   "outputs": [],
   "source": [
    "ids = list(zip(site_names, planet_ids))\n",
    "ids"
   ]
  },
  {
   "cell_type": "code",
   "execution_count": null,
   "id": "local-transfer",
   "metadata": {},
   "outputs": [],
   "source": []
  }
 ],
 "metadata": {
  "language_info": {
   "name": "python"
  }
 },
 "nbformat": 4,
 "nbformat_minor": 5
}
