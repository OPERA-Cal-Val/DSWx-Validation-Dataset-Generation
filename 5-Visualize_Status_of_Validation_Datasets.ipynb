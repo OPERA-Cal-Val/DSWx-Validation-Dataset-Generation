{
 "cells": [
  {
   "cell_type": "markdown",
   "id": "acquired-battery",
   "metadata": {},
   "source": [
    "Grabbing the latest chips that are being worked on."
   ]
  },
  {
   "cell_type": "code",
   "execution_count": null,
   "id": "honest-facial",
   "metadata": {},
   "outputs": [],
   "source": [
    "import geopandas as gpd\n",
    "import os\n",
    "import matplotlib.pyplot as plt"
   ]
  },
  {
   "cell_type": "code",
   "execution_count": null,
   "id": "affecting-encoding",
   "metadata": {},
   "outputs": [],
   "source": [
    "os.environ[\"AWS_NO_SIGN_REQUEST\"] = \"YES\""
   ]
  },
  {
   "cell_type": "code",
   "execution_count": null,
   "id": "logical-strip",
   "metadata": {},
   "outputs": [],
   "source": [
    "df_image_calc = gpd.read_file('s3://opera-calval-database-dswx/image_calc.geojson')\n",
    "df_image_calc.dropna(subset='geometry', inplace=True)\n",
    "df_image_calc = df_image_calc.sort_values(by=['image_name', 'upload_date'], ascending=True)\n",
    "df_image_calc = df_image_calc.groupby('image_name').tail(1)\n",
    "df_image_calc.head()"
   ]
  },
  {
   "cell_type": "code",
   "execution_count": null,
   "id": "knowing-disco",
   "metadata": {},
   "outputs": [],
   "source": [
    "df_image_calc.crs"
   ]
  },
  {
   "cell_type": "code",
   "execution_count": null,
   "id": "alpine-performance",
   "metadata": {},
   "outputs": [],
   "source": [
    "df_image_calc.geometry.buffer(1).plot()"
   ]
  },
  {
   "cell_type": "code",
   "execution_count": null,
   "id": "rental-tract",
   "metadata": {},
   "outputs": [],
   "source": [
    "df_image_calc.to_file('image_calc_current.geojson', driver='GeoJSON')"
   ]
  },
  {
   "cell_type": "code",
   "execution_count": null,
   "id": "right-frontier",
   "metadata": {},
   "outputs": [],
   "source": [
    "plt.hist(df_image_calc.water_stratum)\n",
    "plt.xlabel('Water Stratum')\n",
    "plt.ylabel('Frequency')"
   ]
  },
  {
   "cell_type": "code",
   "execution_count": null,
   "id": "starting-exception",
   "metadata": {},
   "outputs": [],
   "source": [
    "n = df_image_calc.shape[0]\n",
    "f'We have submitted {n} images currently'"
   ]
  }
 ],
 "metadata": {
  "language_info": {
   "name": "python"
  }
 },
 "nbformat": 4,
 "nbformat_minor": 5
}
