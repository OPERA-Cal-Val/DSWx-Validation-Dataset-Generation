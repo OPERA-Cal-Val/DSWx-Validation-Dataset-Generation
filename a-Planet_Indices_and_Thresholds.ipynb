{
 "cells": [
  {
   "cell_type": "markdown",
   "metadata": {},
   "source": [
    "# Use NDWI/NDVI for Initial Classification"
   ]
  },
  {
   "cell_type": "code",
   "execution_count": null,
   "metadata": {},
   "outputs": [],
   "source": [
    "import geopandas as gpd\n",
    "import os\n",
    "import rasterio\n",
    "import rasterio.mask\n",
    "from pathlib import Path\n",
    "from rasterio.plot import show\n",
    "from rasterio.crs import CRS\n",
    "import matplotlib.pyplot as plt\n",
    "import pandas as pd\n",
    "import shutil\n",
    "import numpy as np\n",
    "from tools.lookup import connect_site_and_planet_ids"
   ]
  },
  {
   "cell_type": "markdown",
   "metadata": {},
   "source": [
    "# Parameters\n",
    "\n",
    "Specify *exactly* one. The `site_name` or the `planet_id`. The former is given to the chip by the validation team. Because we are not selecting multiple planet scenes per chip and not selecting planet images that cover multiple chips (they are sufficiently spaced apart), this should be a 1 to 1 mapping."
   ]
  },
  {
   "cell_type": "code",
   "execution_count": null,
   "metadata": {},
   "outputs": [],
   "source": [
    "PLANET_ID = '20210903_150800_60_2458'\n",
    "SITE_NAME = ''"
   ]
  },
  {
   "cell_type": "markdown",
   "metadata": {},
   "source": [
    "# Connect IDs"
   ]
  },
  {
   "cell_type": "code",
   "execution_count": null,
   "metadata": {},
   "outputs": [],
   "source": [
    "data = connect_site_and_planet_ids({'planet_id': PLANET_ID, \n",
    "                                    'site_name': SITE_NAME})\n",
    "data"
   ]
  },
  {
   "cell_type": "code",
   "execution_count": null,
   "metadata": {},
   "outputs": [],
   "source": [
    "PLANET_ID = data['planet_id']\n",
    "SITE_NAME = data['site_name']"
   ]
  },
  {
   "cell_type": "markdown",
   "metadata": {},
   "source": [
    "# Indices: NDWI and NDVI"
   ]
  },
  {
   "cell_type": "markdown",
   "metadata": {},
   "source": [
    "Source: https://github.com/planetlabs/notebooks/blob/master/jupyter-notebooks/toar/toar_planetscope.ipynb\n",
    "\n",
    "## Metadata"
   ]
  },
  {
   "cell_type": "code",
   "execution_count": null,
   "metadata": {},
   "outputs": [],
   "source": [
    "data_dir = Path(f'data/{PLANET_ID}/')\n",
    "data_dir.mkdir(exist_ok=True, parents=True)\n",
    "\n",
    "cropped_dir = Path(f'planet_images_cropped/{PLANET_ID}/')\n",
    "cropped_dir.mkdir(exist_ok=True, parents=True)"
   ]
  },
  {
   "cell_type": "code",
   "execution_count": null,
   "metadata": {},
   "outputs": [],
   "source": [
    "metadata_xml = list(data_dir.glob('*metadata.xml'))[0]\n",
    "metadata_xml"
   ]
  },
  {
   "cell_type": "code",
   "execution_count": null,
   "metadata": {},
   "outputs": [],
   "source": [
    "original_path = list(data_dir.glob(f'{PLANET_ID}*.tif'))[0]\n",
    "\n",
    "with rasterio.open(original_path) as ds:\n",
    "    desc = list(enumerate(ds.descriptions, start=1))\n",
    "desc"
   ]
  },
  {
   "cell_type": "code",
   "execution_count": null,
   "metadata": {},
   "outputs": [],
   "source": [
    "with rasterio.open(cropped_dir / f'cropped_{PLANET_ID}.tif') as ds:\n",
    "    image_c = ds.read().transpose([1, 2, 0]).astype(np.float32)\n",
    "    p = ds.profile\n",
    "    mask = ~ds.read_masks(1).astype(bool)"
   ]
  },
  {
   "cell_type": "code",
   "execution_count": null,
   "metadata": {},
   "outputs": [],
   "source": [
    "from xml.dom import minidom\n",
    "\n",
    "xmldoc = minidom.parse(str(metadata_xml))\n",
    "nodes = xmldoc.getElementsByTagName(\"ps:bandSpecificMetadata\")\n",
    "\n",
    "# XML parser refers to bands by numbers 1-4\n",
    "coeffs = {}\n",
    "for node in nodes:\n",
    "    bn = node.getElementsByTagName(\"ps:bandNumber\")[0].firstChild.data\n",
    "    if bn in [str(n) for n in range(1, 9)]:\n",
    "        i = int(bn)\n",
    "        value = node.getElementsByTagName(\"ps:reflectanceCoefficient\")[0].firstChild.data\n",
    "        coeffs[i] = float(value)\n",
    "\n",
    "coeffs"
   ]
  },
  {
   "cell_type": "code",
   "execution_count": null,
   "metadata": {},
   "outputs": [],
   "source": [
    "## If you have 4 band imagery image you will have to N = 4\n",
    "# N = 4\n",
    "N = 8\n",
    "coeffs_arr = np.array([coeffs[k] for k in range(1, N + 1)])\n",
    "image_c_sr = image_c * coeffs_arr\n",
    "\n"
   ]
  },
  {
   "cell_type": "markdown",
   "metadata": {},
   "source": [
    "## NDWI"
   ]
  },
  {
   "cell_type": "code",
   "execution_count": null,
   "metadata": {},
   "outputs": [],
   "source": [
    "ndwi = (image_c_sr[..., 3] - image_c_sr[..., 7]) / (image_c_sr[..., 3] + image_c_sr[..., 7])\n",
    "\n",
    "## If you have 4 band use below\n",
    "# ndwi = (image_c_sr[..., 1] - image_c_sr[..., 3]) / (image_c_sr[..., 1] + image_c_sr[..., 3])"
   ]
  },
  {
   "cell_type": "code",
   "execution_count": null,
   "metadata": {},
   "outputs": [],
   "source": [
    "plt.imshow(ndwi)\n",
    "plt.colorbar()"
   ]
  },
  {
   "cell_type": "code",
   "execution_count": null,
   "metadata": {},
   "outputs": [],
   "source": [
    "ndwi_t = (ndwi > -.6).astype(np.uint8)\n",
    "plt.imshow(ndwi_t, interpolation='none')"
   ]
  },
  {
   "cell_type": "code",
   "execution_count": null,
   "metadata": {},
   "outputs": [],
   "source": [
    "from scipy import signal\n",
    "\n",
    "def majority_filter(arr, n_pixels=4):\n",
    "    arr_maj = signal.convolve2d(arr, np.ones((3, 3)), boundary='symm', mode='same')\n",
    "    arr_maj = (arr_maj > n_pixels).astype(np.uint8)\n",
    "    return arr_maj\n",
    "\n",
    "ndwi_t = majority_filter(ndwi_t)\n",
    "plt.imshow(ndwi_t, interpolation='none')"
   ]
  },
  {
   "cell_type": "code",
   "execution_count": null,
   "metadata": {},
   "outputs": [],
   "source": [
    "p_new = p.copy()\n",
    "p_new.update({'count': 1, 'dtype': 'uint8', 'nodata': 255})\n",
    "with rasterio.open(cropped_dir / f'ndwi_thresh_{PLANET_ID}.tif', 'w', **p_new) as ds:\n",
    "    ds.write(ndwi_t, 1)"
   ]
  },
  {
   "cell_type": "code",
   "execution_count": null,
   "metadata": {},
   "outputs": [],
   "source": [
    "p_new = p.copy()\n",
    "p_new.update({'count': 1, 'dtype': 'float32', 'nodata': 255})\n",
    "with rasterio.open(cropped_dir / f'ndwi_{PLANET_ID}.tif', 'w', **p_new) as ds:\n",
    "    ds.write(ndwi.astype(np.float32), 1)"
   ]
  },
  {
   "cell_type": "markdown",
   "metadata": {
    "ExecuteTime": {
     "end_time": "2022-09-29T16:38:08.928972Z",
     "start_time": "2022-09-29T16:38:08.926932Z"
    }
   },
   "source": [
    "## NDVI"
   ]
  },
  {
   "cell_type": "code",
   "execution_count": null,
   "metadata": {},
   "outputs": [],
   "source": [
    "ndvi = (image_c_sr[..., 7] - image_c_sr[..., 5]) / (image_c_sr[..., 7] + image_c_sr[..., 5])\n",
    "\n",
    "plt.imshow(ndvi)\n",
    "plt.colorbar()"
   ]
  },
  {
   "cell_type": "code",
   "execution_count": null,
   "metadata": {},
   "outputs": [],
   "source": [
    "ndvi_t = (ndvi < 0.6).astype(np.uint8)\n",
    "\n",
    "\n",
    "ndvi_t = majority_filter(ndvi_t)\n",
    "plt.imshow(ndvi_t, interpolation='none')"
   ]
  },
  {
   "cell_type": "code",
   "execution_count": null,
   "metadata": {},
   "outputs": [],
   "source": [
    "p_new = p.copy()\n",
    "p_new.update({'count': 1, 'dtype': 'uint8', 'nodata': 255})\n",
    "with rasterio.open(cropped_dir / f'ndvi_thresh_{PLANET_ID}.tif', 'w', **p_new) as ds:\n",
    "    ds.write(ndvi_t, 1)"
   ]
  },
  {
   "cell_type": "markdown",
   "metadata": {},
   "source": [
    "# Final combination\n",
    "\n",
    "Selected based on scene and manual thresholds above. Do some boolean logic that makes sense for your scene."
   ]
  },
  {
   "cell_type": "code",
   "execution_count": null,
   "metadata": {},
   "outputs": [],
   "source": [
    "water = ndwi_t #| ndvi_t\n",
    "plt.imshow(water, interpolation='none')"
   ]
  },
  {
   "cell_type": "code",
   "execution_count": null,
   "metadata": {},
   "outputs": [],
   "source": [
    "p_new = p.copy()\n",
    "p_new.update({'count': 1, 'dtype': 'uint8', 'nodata': 255})\n",
    "class_t_final = np.zeros(mask.shape)\n",
    "\n",
    "class_t_final[mask.astype(bool)] = 255\n",
    "class_t_final[water.astype(bool)] = 1\n",
    "\n",
    "with rasterio.open(cropped_dir / f'classification_{PLANET_ID}.tif', 'w', **p_new) as ds:\n",
    "    ds.write(class_t_final, 1)"
   ]
  }
 ],
 "metadata": {
  "language_info": {
   "name": "python"
  }
 },
 "nbformat": 4,
 "nbformat_minor": 2
}
