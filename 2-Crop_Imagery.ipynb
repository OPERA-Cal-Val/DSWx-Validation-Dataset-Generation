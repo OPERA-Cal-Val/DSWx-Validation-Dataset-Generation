{
 "cells": [
  {
   "cell_type": "markdown",
   "metadata": {},
   "source": [
    "# Crop the Planet Image\n",
    "\n",
    "This notebook shows how to crop the planet image."
   ]
  },
  {
   "cell_type": "code",
   "execution_count": null,
   "metadata": {},
   "outputs": [],
   "source": [
    "import geopandas as gpd\n",
    "import os\n",
    "import rasterio\n",
    "import rasterio.mask\n",
    "from pathlib import Path\n",
    "from rasterio.plot import show\n",
    "from rasterio.crs import CRS\n",
    "import matplotlib.pyplot as plt\n",
    "import pandas as pd\n",
    "import shutil\n",
    "import numpy as np"
   ]
  },
  {
   "cell_type": "markdown",
   "metadata": {},
   "source": [
    "# Parameters\n",
    "\n",
    "Specify *exactly* one. The `site_name` or the `planet_id`. The former is given to the chip by the validation team. Because we are not selecting multiple planet scenes per chip and not selecting planet images that cover multiple chips (they are sufficiently spaced apart), this should be a 1 to 1 mapping."
   ]
  },
  {
   "cell_type": "code",
   "execution_count": null,
   "metadata": {},
   "outputs": [],
   "source": [
    "PLANET_ID = ''\n",
    "SITE_NAME = '2_26'\n",
    "\n",
    "# ^ is exclusive or; makes sure you only specified one\n",
    "assert((len(PLANET_ID) == 0) ^ (len(SITE_NAME) == 0))"
   ]
  },
  {
   "cell_type": "markdown",
   "metadata": {},
   "source": [
    "# Environment"
   ]
  },
  {
   "cell_type": "code",
   "execution_count": null,
   "metadata": {},
   "outputs": [],
   "source": [
    "os.environ[\"AWS_NO_SIGN_REQUEST\"] = \"YES\""
   ]
  },
  {
   "cell_type": "markdown",
   "metadata": {},
   "source": [
    "# Get Image Database"
   ]
  },
  {
   "cell_type": "code",
   "execution_count": null,
   "metadata": {},
   "outputs": [],
   "source": [
    "df_images = gpd.read_file('s3://opera-calval-database-dswx/image.geojson')\n",
    "df_images.dropna(inplace=True)\n",
    "df_images.head()"
   ]
  },
  {
   "cell_type": "code",
   "execution_count": null,
   "metadata": {},
   "outputs": [],
   "source": [
    "df_site = gpd.read_file('s3://opera-calval-database-dswx/site.geojson')\n",
    "df_site.dropna(inplace=True)\n",
    "df_site.head()"
   ]
  },
  {
   "cell_type": "code",
   "execution_count": null,
   "metadata": {},
   "outputs": [],
   "source": [
    "cols_to_merge = [col for col in df_images.columns if col != 'geometry']\n",
    "df_temp = df_images[cols_to_merge]\n",
    "df_chips = pd.merge(df_site, df_temp , on='site_name', how='left')\n",
    "df_chips.head()"
   ]
  },
  {
   "cell_type": "code",
   "execution_count": null,
   "metadata": {},
   "outputs": [],
   "source": [
    "df_chips.buffer(2).plot()"
   ]
  },
  {
   "cell_type": "code",
   "execution_count": null,
   "metadata": {},
   "outputs": [],
   "source": [
    "temp = df_chips[['image_name', 'site_name']]\n",
    "df_site2image = temp.set_index('site_name')\n",
    "df_image2site = temp.set_index('image_name')\n",
    "df_site2image.head()"
   ]
  },
  {
   "cell_type": "code",
   "execution_count": null,
   "metadata": {},
   "outputs": [],
   "source": [
    "if not PLANET_ID:\n",
    "    values = PLANET_ID = df_site2image.loc[SITE_NAME].tolist()\n",
    "    PLANET_ID = values[0]\n",
    "    print(f'There was {len(values)} planet images for this chip')\n",
    "else:\n",
    "    values = df_image2site.loc[PLANET_ID].tolist()\n",
    "    SITE_NAME = values[0]\n",
    "    print(f'There were {len(values)} chips for this planet_image')\n",
    "\n",
    "(SITE_NAME, PLANET_ID)"
   ]
  },
  {
   "cell_type": "code",
   "execution_count": null,
   "metadata": {},
   "outputs": [],
   "source": [
    "df_chips.to_file('chips.geojson', driver='GeoJSON')"
   ]
  },
  {
   "cell_type": "markdown",
   "metadata": {},
   "source": [
    "# Crop"
   ]
  },
  {
   "cell_type": "code",
   "execution_count": null,
   "metadata": {},
   "outputs": [],
   "source": [
    "data_dir = Path(f'data/{PLANET_ID}/')\n",
    "data_dir.mkdir(exist_ok=True, parents=True)\n",
    "\n",
    "cropped_dir = Path(f'planet_images_cropped/{PLANET_ID}/')\n",
    "cropped_dir.mkdir(exist_ok=True, parents=True)"
   ]
  },
  {
   "cell_type": "code",
   "execution_count": null,
   "metadata": {},
   "outputs": [],
   "source": [
    "n = len(PLANET_ID)\n",
    "planet_images = list(data_dir.glob('*.tif'))\n",
    "planet_image_path = list(filter(lambda x: x.name[:n] == PLANET_ID, planet_images))[0]\n",
    "planet_image_path"
   ]
  },
  {
   "cell_type": "code",
   "execution_count": null,
   "metadata": {},
   "outputs": [],
   "source": [
    "with rasterio.open(planet_image_path) as ds:\n",
    "    planet_crs = ds.crs\n",
    "    planet_profile = ds.profile\n",
    "    \n",
    "planet_profile"
   ]
  },
  {
   "cell_type": "code",
   "execution_count": null,
   "metadata": {},
   "outputs": [],
   "source": [
    "df_chip = df_chips[df_chips.image_name == PLANET_ID]\n",
    "\n",
    "# 500 meter buffer\n",
    "df_chip_utm = df_chip.to_crs(planet_crs).buffer(500, join_style=2)\n",
    "df_chip_utm.plot()"
   ]
  },
  {
   "cell_type": "code",
   "execution_count": null,
   "metadata": {},
   "outputs": [],
   "source": [
    "with rasterio.open(planet_image_path) as src:\n",
    "    out_image, out_transform = rasterio.mask.mask(src, df_chip_utm.geometry, crop=True)\n",
    "    out_meta = src.meta\n",
    "\n",
    "out_meta.update({\"driver\": \"GTiff\",\n",
    "         \"height\": out_image.shape[1],\n",
    "         \"width\": out_image.shape[2],\n",
    "         \"transform\": out_transform,\n",
    "         \"compress\": \"lzw\"})\n",
    "\n",
    "with rasterio.open(cropped_dir / f'cropped_{PLANET_ID}.tif', \"w\", **out_meta) as dest:\n",
    "    dest.write(out_image)"
   ]
  },
  {
   "cell_type": "markdown",
   "metadata": {},
   "source": [
    "Copy original data (if you want), say in the event you are reviewing an old extent."
   ]
  },
  {
   "cell_type": "code",
   "execution_count": null,
   "metadata": {},
   "outputs": [],
   "source": [
    "if True:\n",
    "    shutil.copy(str(planet_image_path),\n",
    "                str(cropped_dir / f'orig_{PLANET_ID}.tif'))"
   ]
  },
  {
   "cell_type": "markdown",
   "metadata": {},
   "source": [
    "Make new raster for hand-editing"
   ]
  },
  {
   "cell_type": "code",
   "execution_count": null,
   "metadata": {},
   "outputs": [],
   "source": [
    "if True:\n",
    "    with rasterio.open(cropped_dir / f'cropped_{PLANET_ID}.tif') as ds:\n",
    "        mask = ~(ds.read_masks(1).astype(bool))\n",
    "        \n",
    "    hand_edited = np.zeros(out_image[0,...].shape, dtype='uint8')\n",
    "    p_he = out_meta.copy()\n",
    "    p_he['count'] = 1\n",
    "    p_he['dtype'] = 'uint8'\n",
    "    p_he['nodata'] = 255\n",
    "    p_he['compress'] = 'lzw'\n",
    "    with rasterio.open(cropped_dir / f'hand_edited_{PLANET_ID}.tif', \"w\", **p_he) as dest:\n",
    "        dest.write(hand_edited, 1)"
   ]
  },
  {
   "cell_type": "markdown",
   "metadata": {},
   "source": [
    "# Check"
   ]
  },
  {
   "cell_type": "code",
   "execution_count": null,
   "metadata": {},
   "outputs": [],
   "source": [
    "fig, ax = plt.subplots()\n",
    "show(out_image[0,...], transform=out_transform, ax=ax)\n",
    "df_chip_utm.boundary.plot(ax=ax)"
   ]
  }
 ],
 "metadata": {
  "kernelspec": {
   "display_name": "Python 3",
   "language": "python",
   "name": "python3"
  },
  "language_info": {
   "codemirror_mode": {
    "name": "ipython",
    "version": 3
   },
   "file_extension": ".py",
   "mimetype": "text/x-python",
   "name": "python",
   "nbconvert_exporter": "python",
   "pygments_lexer": "ipython3",
   "version": "3.8.5"
  }
 },
 "nbformat": 4,
 "nbformat_minor": 2
}
