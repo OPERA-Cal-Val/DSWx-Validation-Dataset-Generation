{
 "cells": [
  {
   "cell_type": "markdown",
   "metadata": {},
   "source": [
    "# Crop the Planet Image\n",
    "\n",
    "This notebook shows how to crop the planet image."
   ]
  },
  {
   "cell_type": "code",
   "execution_count": 17,
   "metadata": {
    "ExecuteTime": {
     "end_time": "2022-09-20T00:20:51.401701Z",
     "start_time": "2022-09-20T00:20:51.398405Z"
    }
   },
   "outputs": [],
   "source": [
    "import geopandas as gpd\n",
    "import os\n",
    "import rasterio\n",
    "import rasterio.mask\n",
    "from pathlib import Path\n",
    "from rasterio.plot import show\n",
    "from rasterio.crs import CRS\n",
    "import matplotlib.pyplot as plt\n",
    "import pandas as pd\n",
    "import shutil"
   ]
  },
  {
   "cell_type": "markdown",
   "metadata": {},
   "source": [
    "# Parameters\n",
    "\n",
    "Specify *exactly* one. The `site_name` or the `planet_id`. The former is given to the chip by the validation team. Because we are not selecting multiple planet scenes per chip and not selecting planet images that cover multiple chips (they are sufficiently spaced apart), this should be a 1 to 1 mapping."
   ]
  },
  {
   "cell_type": "code",
   "execution_count": 2,
   "metadata": {
    "ExecuteTime": {
     "end_time": "2022-09-20T00:05:26.527231Z",
     "start_time": "2022-09-20T00:05:26.524794Z"
    }
   },
   "outputs": [],
   "source": [
    "PLANET_ID = ''\n",
    "SITE_NAME = '3_8'\n",
    "\n",
    "# ^ is exclusive or; makes sure you only specified one\n",
    "assert((len(PLANET_ID) == 0) ^ (len(SITE_NAME) == 0))"
   ]
  },
  {
   "cell_type": "markdown",
   "metadata": {},
   "source": [
    "# Environment"
   ]
  },
  {
   "cell_type": "code",
   "execution_count": 3,
   "metadata": {
    "ExecuteTime": {
     "end_time": "2022-09-20T00:05:26.531056Z",
     "start_time": "2022-09-20T00:05:26.528453Z"
    }
   },
   "outputs": [],
   "source": [
    "os.environ[\"AWS_NO_SIGN_REQUEST\"] = \"YES\""
   ]
  },
  {
   "cell_type": "markdown",
   "metadata": {},
   "source": [
    "# Get Image Database"
   ]
  },
  {
   "cell_type": "code",
   "execution_count": 4,
   "metadata": {
    "ExecuteTime": {
     "end_time": "2022-09-20T00:05:27.305571Z",
     "start_time": "2022-09-20T00:05:26.533300Z"
    }
   },
   "outputs": [
    {
     "data": {
      "text/html": [
       "<div>\n",
       "<style scoped>\n",
       "    .dataframe tbody tr th:only-of-type {\n",
       "        vertical-align: middle;\n",
       "    }\n",
       "\n",
       "    .dataframe tbody tr th {\n",
       "        vertical-align: top;\n",
       "    }\n",
       "\n",
       "    .dataframe thead th {\n",
       "        text-align: right;\n",
       "    }\n",
       "</style>\n",
       "<table border=\"1\" class=\"dataframe\">\n",
       "  <thead>\n",
       "    <tr style=\"text-align: right;\">\n",
       "      <th></th>\n",
       "      <th>collocated_dswx</th>\n",
       "      <th>dswx_cloud_cover</th>\n",
       "      <th>datetime</th>\n",
       "      <th>image_name</th>\n",
       "      <th>cloud_cover</th>\n",
       "      <th>site_coverage</th>\n",
       "      <th>instrument</th>\n",
       "      <th>provider</th>\n",
       "      <th>resolution</th>\n",
       "      <th>timeDelta_days</th>\n",
       "      <th>site_name</th>\n",
       "      <th>Strata</th>\n",
       "      <th>geometry</th>\n",
       "    </tr>\n",
       "  </thead>\n",
       "  <tbody>\n",
       "    <tr>\n",
       "      <th>0</th>\n",
       "      <td>HLS.S30.T04WDB.2021271T225541.v2.0</td>\n",
       "      <td>4.0</td>\n",
       "      <td>2021-09-29 21:28:09.168000+00:00</td>\n",
       "      <td>20210929_212809_16_2442</td>\n",
       "      <td>0.0</td>\n",
       "      <td>90.820013</td>\n",
       "      <td>PSB.SD</td>\n",
       "      <td>planetscope</td>\n",
       "      <td>3.0</td>\n",
       "      <td>0.938606</td>\n",
       "      <td>3_38</td>\n",
       "      <td>3.0</td>\n",
       "      <td>POLYGON ((-160.00896 69.30478, -160.21043 69.1...</td>\n",
       "    </tr>\n",
       "    <tr>\n",
       "      <th>1</th>\n",
       "      <td>HLS.S30.T33WXP.2021270T104719.v2.0</td>\n",
       "      <td>16.0</td>\n",
       "      <td>2021-09-27 09:55:37.877000+00:00</td>\n",
       "      <td>20210927_095537_0f15</td>\n",
       "      <td>0.0</td>\n",
       "      <td>41.216128</td>\n",
       "      <td>PS2</td>\n",
       "      <td>planetscope</td>\n",
       "      <td>3.0</td>\n",
       "      <td>0.039303</td>\n",
       "      <td>4_43</td>\n",
       "      <td>4.0</td>\n",
       "      <td>POLYGON ((17.22275 66.09223, 17.16459 66.02168...</td>\n",
       "    </tr>\n",
       "    <tr>\n",
       "      <th>2</th>\n",
       "      <td>HLS.L30.T40WFU.2021268T073033.v2.0</td>\n",
       "      <td>2.0</td>\n",
       "      <td>2021-09-25 07:27:12.166000+00:00</td>\n",
       "      <td>20210925_072712_16_2254</td>\n",
       "      <td>0.0</td>\n",
       "      <td>72.272530</td>\n",
       "      <td>PSB.SD</td>\n",
       "      <td>planetscope</td>\n",
       "      <td>3.0</td>\n",
       "      <td>0.002335</td>\n",
       "      <td>3_1</td>\n",
       "      <td>3.0</td>\n",
       "      <td>POLYGON ((59.00446 65.95517, 58.85023 65.76646...</td>\n",
       "    </tr>\n",
       "    <tr>\n",
       "      <th>3</th>\n",
       "      <td>HLS.S30.T14VPQ.2021244T175911.v2.0</td>\n",
       "      <td>2.0</td>\n",
       "      <td>2021-09-01 17:52:05.712000+00:00</td>\n",
       "      <td>20210901_175205_71_2426</td>\n",
       "      <td>0.0</td>\n",
       "      <td>100.000000</td>\n",
       "      <td>PSB.SD</td>\n",
       "      <td>planetscope</td>\n",
       "      <td>3.0</td>\n",
       "      <td>0.010000</td>\n",
       "      <td>4_34</td>\n",
       "      <td>4.0</td>\n",
       "      <td>POLYGON ((-96.94381 62.88876, -97.07609 62.707...</td>\n",
       "    </tr>\n",
       "    <tr>\n",
       "      <th>4</th>\n",
       "      <td>HLS.S30.T52VFP.2021253T023549.v2.0</td>\n",
       "      <td>2.0</td>\n",
       "      <td>2021-09-11 00:51:29.821000+00:00</td>\n",
       "      <td>20210911_005129_82_106a</td>\n",
       "      <td>0.0</td>\n",
       "      <td>100.000000</td>\n",
       "      <td>PS2.SD</td>\n",
       "      <td>planetscope</td>\n",
       "      <td>3.0</td>\n",
       "      <td>0.924389</td>\n",
       "      <td>3_30</td>\n",
       "      <td>3.0</td>\n",
       "      <td>POLYGON ((130.86458 61.50211, 130.95358 61.357...</td>\n",
       "    </tr>\n",
       "  </tbody>\n",
       "</table>\n",
       "</div>"
      ],
      "text/plain": [
       "                      collocated_dswx  dswx_cloud_cover  \\\n",
       "0  HLS.S30.T04WDB.2021271T225541.v2.0               4.0   \n",
       "1  HLS.S30.T33WXP.2021270T104719.v2.0              16.0   \n",
       "2  HLS.L30.T40WFU.2021268T073033.v2.0               2.0   \n",
       "3  HLS.S30.T14VPQ.2021244T175911.v2.0               2.0   \n",
       "4  HLS.S30.T52VFP.2021253T023549.v2.0               2.0   \n",
       "\n",
       "                          datetime               image_name  cloud_cover  \\\n",
       "0 2021-09-29 21:28:09.168000+00:00  20210929_212809_16_2442          0.0   \n",
       "1 2021-09-27 09:55:37.877000+00:00     20210927_095537_0f15          0.0   \n",
       "2 2021-09-25 07:27:12.166000+00:00  20210925_072712_16_2254          0.0   \n",
       "3 2021-09-01 17:52:05.712000+00:00  20210901_175205_71_2426          0.0   \n",
       "4 2021-09-11 00:51:29.821000+00:00  20210911_005129_82_106a          0.0   \n",
       "\n",
       "   site_coverage instrument     provider  resolution  timeDelta_days  \\\n",
       "0      90.820013     PSB.SD  planetscope         3.0        0.938606   \n",
       "1      41.216128        PS2  planetscope         3.0        0.039303   \n",
       "2      72.272530     PSB.SD  planetscope         3.0        0.002335   \n",
       "3     100.000000     PSB.SD  planetscope         3.0        0.010000   \n",
       "4     100.000000     PS2.SD  planetscope         3.0        0.924389   \n",
       "\n",
       "  site_name  Strata                                           geometry  \n",
       "0      3_38     3.0  POLYGON ((-160.00896 69.30478, -160.21043 69.1...  \n",
       "1      4_43     4.0  POLYGON ((17.22275 66.09223, 17.16459 66.02168...  \n",
       "2       3_1     3.0  POLYGON ((59.00446 65.95517, 58.85023 65.76646...  \n",
       "3      4_34     4.0  POLYGON ((-96.94381 62.88876, -97.07609 62.707...  \n",
       "4      3_30     3.0  POLYGON ((130.86458 61.50211, 130.95358 61.357...  "
      ]
     },
     "execution_count": 4,
     "metadata": {},
     "output_type": "execute_result"
    }
   ],
   "source": [
    "df_images = gpd.read_file('s3://opera-calval-database-dswx/image.geojson')\n",
    "df_images.dropna(inplace=True)\n",
    "df_images.head()"
   ]
  },
  {
   "cell_type": "code",
   "execution_count": 5,
   "metadata": {
    "ExecuteTime": {
     "end_time": "2022-09-20T00:05:27.609173Z",
     "start_time": "2022-09-20T00:05:27.307301Z"
    }
   },
   "outputs": [
    {
     "data": {
      "text/html": [
       "<div>\n",
       "<style scoped>\n",
       "    .dataframe tbody tr th:only-of-type {\n",
       "        vertical-align: middle;\n",
       "    }\n",
       "\n",
       "    .dataframe tbody tr th {\n",
       "        vertical-align: top;\n",
       "    }\n",
       "\n",
       "    .dataframe thead th {\n",
       "        text-align: right;\n",
       "    }\n",
       "</style>\n",
       "<table border=\"1\" class=\"dataframe\">\n",
       "  <thead>\n",
       "    <tr style=\"text-align: right;\">\n",
       "      <th></th>\n",
       "      <th>inundated_vegetation_crop</th>\n",
       "      <th>inundated_vegetation_orig</th>\n",
       "      <th>percent_inundated_vegetation_crop</th>\n",
       "      <th>percent_inundated_vegetation_orig</th>\n",
       "      <th>percent_total_water_crop</th>\n",
       "      <th>percent_total_water_orig</th>\n",
       "      <th>percent_water_crop</th>\n",
       "      <th>percent_water_orig</th>\n",
       "      <th>site_name</th>\n",
       "      <th>total_pixels_crop</th>\n",
       "      <th>total_pixels_orig</th>\n",
       "      <th>water_pixels_crop</th>\n",
       "      <th>water_pixels_orig</th>\n",
       "      <th>geometry</th>\n",
       "    </tr>\n",
       "  </thead>\n",
       "  <tbody>\n",
       "    <tr>\n",
       "      <th>0</th>\n",
       "      <td>0.0</td>\n",
       "      <td>0.0</td>\n",
       "      <td>0.0000</td>\n",
       "      <td>0.000000</td>\n",
       "      <td>0.0000</td>\n",
       "      <td>0.000000</td>\n",
       "      <td>0.0000</td>\n",
       "      <td>0.000000</td>\n",
       "      <td>3_38</td>\n",
       "      <td>250000.0</td>\n",
       "      <td>1252157.0</td>\n",
       "      <td>0.0</td>\n",
       "      <td>0.0</td>\n",
       "      <td>POLYGON ((-159.65271 69.26462, -159.65109 69.2...</td>\n",
       "    </tr>\n",
       "    <tr>\n",
       "      <th>1</th>\n",
       "      <td>3701.0</td>\n",
       "      <td>8919.0</td>\n",
       "      <td>1.4804</td>\n",
       "      <td>0.712673</td>\n",
       "      <td>33.0248</td>\n",
       "      <td>23.612029</td>\n",
       "      <td>31.5444</td>\n",
       "      <td>22.899356</td>\n",
       "      <td>4_27</td>\n",
       "      <td>250000.0</td>\n",
       "      <td>1251485.0</td>\n",
       "      <td>78861.0</td>\n",
       "      <td>286582.0</td>\n",
       "      <td>POLYGON ((-112.98919 67.05036, -112.98479 66.9...</td>\n",
       "    </tr>\n",
       "    <tr>\n",
       "      <th>2</th>\n",
       "      <td>2307.0</td>\n",
       "      <td>41908.0</td>\n",
       "      <td>0.9228</td>\n",
       "      <td>3.367619</td>\n",
       "      <td>78.0388</td>\n",
       "      <td>48.055270</td>\n",
       "      <td>77.1160</td>\n",
       "      <td>44.687651</td>\n",
       "      <td>4_43</td>\n",
       "      <td>250000.0</td>\n",
       "      <td>1244440.0</td>\n",
       "      <td>192790.0</td>\n",
       "      <td>556111.0</td>\n",
       "      <td>POLYGON ((17.82963 66.00245, 17.82368 65.94869...</td>\n",
       "    </tr>\n",
       "    <tr>\n",
       "      <th>3</th>\n",
       "      <td>41560.0</td>\n",
       "      <td>246974.0</td>\n",
       "      <td>16.6240</td>\n",
       "      <td>19.844394</td>\n",
       "      <td>19.5324</td>\n",
       "      <td>21.262333</td>\n",
       "      <td>2.9084</td>\n",
       "      <td>1.417939</td>\n",
       "      <td>3_1</td>\n",
       "      <td>250000.0</td>\n",
       "      <td>1244553.0</td>\n",
       "      <td>7271.0</td>\n",
       "      <td>17647.0</td>\n",
       "      <td>POLYGON ((59.79429 65.84514, 59.78846 65.79137...</td>\n",
       "    </tr>\n",
       "    <tr>\n",
       "      <th>4</th>\n",
       "      <td>69078.0</td>\n",
       "      <td>141601.0</td>\n",
       "      <td>27.6312</td>\n",
       "      <td>11.350572</td>\n",
       "      <td>38.0100</td>\n",
       "      <td>18.365513</td>\n",
       "      <td>10.3788</td>\n",
       "      <td>7.014941</td>\n",
       "      <td>4_34</td>\n",
       "      <td>250000.0</td>\n",
       "      <td>1247523.0</td>\n",
       "      <td>25947.0</td>\n",
       "      <td>87513.0</td>\n",
       "      <td>POLYGON ((-96.50403 62.72532, -96.50857 62.671...</td>\n",
       "    </tr>\n",
       "  </tbody>\n",
       "</table>\n",
       "</div>"
      ],
      "text/plain": [
       "   inundated_vegetation_crop  inundated_vegetation_orig  \\\n",
       "0                        0.0                        0.0   \n",
       "1                     3701.0                     8919.0   \n",
       "2                     2307.0                    41908.0   \n",
       "3                    41560.0                   246974.0   \n",
       "4                    69078.0                   141601.0   \n",
       "\n",
       "   percent_inundated_vegetation_crop  percent_inundated_vegetation_orig  \\\n",
       "0                             0.0000                           0.000000   \n",
       "1                             1.4804                           0.712673   \n",
       "2                             0.9228                           3.367619   \n",
       "3                            16.6240                          19.844394   \n",
       "4                            27.6312                          11.350572   \n",
       "\n",
       "   percent_total_water_crop  percent_total_water_orig  percent_water_crop  \\\n",
       "0                    0.0000                  0.000000              0.0000   \n",
       "1                   33.0248                 23.612029             31.5444   \n",
       "2                   78.0388                 48.055270             77.1160   \n",
       "3                   19.5324                 21.262333              2.9084   \n",
       "4                   38.0100                 18.365513             10.3788   \n",
       "\n",
       "   percent_water_orig site_name  total_pixels_crop  total_pixels_orig  \\\n",
       "0            0.000000      3_38           250000.0          1252157.0   \n",
       "1           22.899356      4_27           250000.0          1251485.0   \n",
       "2           44.687651      4_43           250000.0          1244440.0   \n",
       "3            1.417939       3_1           250000.0          1244553.0   \n",
       "4            7.014941      4_34           250000.0          1247523.0   \n",
       "\n",
       "   water_pixels_crop  water_pixels_orig  \\\n",
       "0                0.0                0.0   \n",
       "1            78861.0           286582.0   \n",
       "2           192790.0           556111.0   \n",
       "3             7271.0            17647.0   \n",
       "4            25947.0            87513.0   \n",
       "\n",
       "                                            geometry  \n",
       "0  POLYGON ((-159.65271 69.26462, -159.65109 69.2...  \n",
       "1  POLYGON ((-112.98919 67.05036, -112.98479 66.9...  \n",
       "2  POLYGON ((17.82963 66.00245, 17.82368 65.94869...  \n",
       "3  POLYGON ((59.79429 65.84514, 59.78846 65.79137...  \n",
       "4  POLYGON ((-96.50403 62.72532, -96.50857 62.671...  "
      ]
     },
     "execution_count": 5,
     "metadata": {},
     "output_type": "execute_result"
    }
   ],
   "source": [
    "df_site = gpd.read_file('s3://opera-calval-database-dswx/site.geojson')\n",
    "df_site.dropna(inplace=True)\n",
    "df_site.head()"
   ]
  },
  {
   "cell_type": "code",
   "execution_count": 6,
   "metadata": {
    "ExecuteTime": {
     "end_time": "2022-09-20T00:05:27.636766Z",
     "start_time": "2022-09-20T00:05:27.610996Z"
    }
   },
   "outputs": [
    {
     "data": {
      "text/html": [
       "<div>\n",
       "<style scoped>\n",
       "    .dataframe tbody tr th:only-of-type {\n",
       "        vertical-align: middle;\n",
       "    }\n",
       "\n",
       "    .dataframe tbody tr th {\n",
       "        vertical-align: top;\n",
       "    }\n",
       "\n",
       "    .dataframe thead th {\n",
       "        text-align: right;\n",
       "    }\n",
       "</style>\n",
       "<table border=\"1\" class=\"dataframe\">\n",
       "  <thead>\n",
       "    <tr style=\"text-align: right;\">\n",
       "      <th></th>\n",
       "      <th>inundated_vegetation_crop</th>\n",
       "      <th>inundated_vegetation_orig</th>\n",
       "      <th>percent_inundated_vegetation_crop</th>\n",
       "      <th>percent_inundated_vegetation_orig</th>\n",
       "      <th>percent_total_water_crop</th>\n",
       "      <th>percent_total_water_orig</th>\n",
       "      <th>percent_water_crop</th>\n",
       "      <th>percent_water_orig</th>\n",
       "      <th>site_name</th>\n",
       "      <th>total_pixels_crop</th>\n",
       "      <th>...</th>\n",
       "      <th>dswx_cloud_cover</th>\n",
       "      <th>datetime</th>\n",
       "      <th>image_name</th>\n",
       "      <th>cloud_cover</th>\n",
       "      <th>site_coverage</th>\n",
       "      <th>instrument</th>\n",
       "      <th>provider</th>\n",
       "      <th>resolution</th>\n",
       "      <th>timeDelta_days</th>\n",
       "      <th>Strata</th>\n",
       "    </tr>\n",
       "  </thead>\n",
       "  <tbody>\n",
       "    <tr>\n",
       "      <th>0</th>\n",
       "      <td>0.0</td>\n",
       "      <td>0.0</td>\n",
       "      <td>0.0000</td>\n",
       "      <td>0.000000</td>\n",
       "      <td>0.0000</td>\n",
       "      <td>0.000000</td>\n",
       "      <td>0.0000</td>\n",
       "      <td>0.000000</td>\n",
       "      <td>3_38</td>\n",
       "      <td>250000.0</td>\n",
       "      <td>...</td>\n",
       "      <td>4.0</td>\n",
       "      <td>2021-09-29 21:28:09.168000+00:00</td>\n",
       "      <td>20210929_212809_16_2442</td>\n",
       "      <td>0.0</td>\n",
       "      <td>90.820013</td>\n",
       "      <td>PSB.SD</td>\n",
       "      <td>planetscope</td>\n",
       "      <td>3.0</td>\n",
       "      <td>0.938606</td>\n",
       "      <td>3.0</td>\n",
       "    </tr>\n",
       "    <tr>\n",
       "      <th>1</th>\n",
       "      <td>3701.0</td>\n",
       "      <td>8919.0</td>\n",
       "      <td>1.4804</td>\n",
       "      <td>0.712673</td>\n",
       "      <td>33.0248</td>\n",
       "      <td>23.612029</td>\n",
       "      <td>31.5444</td>\n",
       "      <td>22.899356</td>\n",
       "      <td>4_27</td>\n",
       "      <td>250000.0</td>\n",
       "      <td>...</td>\n",
       "      <td>NaN</td>\n",
       "      <td>NaT</td>\n",
       "      <td>NaN</td>\n",
       "      <td>NaN</td>\n",
       "      <td>NaN</td>\n",
       "      <td>NaN</td>\n",
       "      <td>NaN</td>\n",
       "      <td>NaN</td>\n",
       "      <td>NaN</td>\n",
       "      <td>NaN</td>\n",
       "    </tr>\n",
       "    <tr>\n",
       "      <th>2</th>\n",
       "      <td>2307.0</td>\n",
       "      <td>41908.0</td>\n",
       "      <td>0.9228</td>\n",
       "      <td>3.367619</td>\n",
       "      <td>78.0388</td>\n",
       "      <td>48.055270</td>\n",
       "      <td>77.1160</td>\n",
       "      <td>44.687651</td>\n",
       "      <td>4_43</td>\n",
       "      <td>250000.0</td>\n",
       "      <td>...</td>\n",
       "      <td>16.0</td>\n",
       "      <td>2021-09-27 09:55:37.877000+00:00</td>\n",
       "      <td>20210927_095537_0f15</td>\n",
       "      <td>0.0</td>\n",
       "      <td>41.216128</td>\n",
       "      <td>PS2</td>\n",
       "      <td>planetscope</td>\n",
       "      <td>3.0</td>\n",
       "      <td>0.039303</td>\n",
       "      <td>4.0</td>\n",
       "    </tr>\n",
       "    <tr>\n",
       "      <th>3</th>\n",
       "      <td>41560.0</td>\n",
       "      <td>246974.0</td>\n",
       "      <td>16.6240</td>\n",
       "      <td>19.844394</td>\n",
       "      <td>19.5324</td>\n",
       "      <td>21.262333</td>\n",
       "      <td>2.9084</td>\n",
       "      <td>1.417939</td>\n",
       "      <td>3_1</td>\n",
       "      <td>250000.0</td>\n",
       "      <td>...</td>\n",
       "      <td>2.0</td>\n",
       "      <td>2021-09-25 07:27:12.166000+00:00</td>\n",
       "      <td>20210925_072712_16_2254</td>\n",
       "      <td>0.0</td>\n",
       "      <td>72.272530</td>\n",
       "      <td>PSB.SD</td>\n",
       "      <td>planetscope</td>\n",
       "      <td>3.0</td>\n",
       "      <td>0.002335</td>\n",
       "      <td>3.0</td>\n",
       "    </tr>\n",
       "    <tr>\n",
       "      <th>4</th>\n",
       "      <td>69078.0</td>\n",
       "      <td>141601.0</td>\n",
       "      <td>27.6312</td>\n",
       "      <td>11.350572</td>\n",
       "      <td>38.0100</td>\n",
       "      <td>18.365513</td>\n",
       "      <td>10.3788</td>\n",
       "      <td>7.014941</td>\n",
       "      <td>4_34</td>\n",
       "      <td>250000.0</td>\n",
       "      <td>...</td>\n",
       "      <td>2.0</td>\n",
       "      <td>2021-09-01 17:52:05.712000+00:00</td>\n",
       "      <td>20210901_175205_71_2426</td>\n",
       "      <td>0.0</td>\n",
       "      <td>100.000000</td>\n",
       "      <td>PSB.SD</td>\n",
       "      <td>planetscope</td>\n",
       "      <td>3.0</td>\n",
       "      <td>0.010000</td>\n",
       "      <td>4.0</td>\n",
       "    </tr>\n",
       "  </tbody>\n",
       "</table>\n",
       "<p>5 rows × 25 columns</p>\n",
       "</div>"
      ],
      "text/plain": [
       "   inundated_vegetation_crop  inundated_vegetation_orig  \\\n",
       "0                        0.0                        0.0   \n",
       "1                     3701.0                     8919.0   \n",
       "2                     2307.0                    41908.0   \n",
       "3                    41560.0                   246974.0   \n",
       "4                    69078.0                   141601.0   \n",
       "\n",
       "   percent_inundated_vegetation_crop  percent_inundated_vegetation_orig  \\\n",
       "0                             0.0000                           0.000000   \n",
       "1                             1.4804                           0.712673   \n",
       "2                             0.9228                           3.367619   \n",
       "3                            16.6240                          19.844394   \n",
       "4                            27.6312                          11.350572   \n",
       "\n",
       "   percent_total_water_crop  percent_total_water_orig  percent_water_crop  \\\n",
       "0                    0.0000                  0.000000              0.0000   \n",
       "1                   33.0248                 23.612029             31.5444   \n",
       "2                   78.0388                 48.055270             77.1160   \n",
       "3                   19.5324                 21.262333              2.9084   \n",
       "4                   38.0100                 18.365513             10.3788   \n",
       "\n",
       "   percent_water_orig site_name  total_pixels_crop  ...  dswx_cloud_cover  \\\n",
       "0            0.000000      3_38           250000.0  ...               4.0   \n",
       "1           22.899356      4_27           250000.0  ...               NaN   \n",
       "2           44.687651      4_43           250000.0  ...              16.0   \n",
       "3            1.417939       3_1           250000.0  ...               2.0   \n",
       "4            7.014941      4_34           250000.0  ...               2.0   \n",
       "\n",
       "                          datetime               image_name cloud_cover  \\\n",
       "0 2021-09-29 21:28:09.168000+00:00  20210929_212809_16_2442         0.0   \n",
       "1                              NaT                      NaN         NaN   \n",
       "2 2021-09-27 09:55:37.877000+00:00     20210927_095537_0f15         0.0   \n",
       "3 2021-09-25 07:27:12.166000+00:00  20210925_072712_16_2254         0.0   \n",
       "4 2021-09-01 17:52:05.712000+00:00  20210901_175205_71_2426         0.0   \n",
       "\n",
       "  site_coverage  instrument     provider resolution  timeDelta_days  Strata  \n",
       "0     90.820013      PSB.SD  planetscope        3.0        0.938606     3.0  \n",
       "1           NaN         NaN          NaN        NaN             NaN     NaN  \n",
       "2     41.216128         PS2  planetscope        3.0        0.039303     4.0  \n",
       "3     72.272530      PSB.SD  planetscope        3.0        0.002335     3.0  \n",
       "4    100.000000      PSB.SD  planetscope        3.0        0.010000     4.0  \n",
       "\n",
       "[5 rows x 25 columns]"
      ]
     },
     "execution_count": 6,
     "metadata": {},
     "output_type": "execute_result"
    }
   ],
   "source": [
    "cols_to_merge = [col for col in df_images.columns if col != 'geometry']\n",
    "df_temp = df_images[cols_to_merge]\n",
    "df_chips = pd.merge(df_site, df_temp , on='site_name', how='left')\n",
    "df_chips.head()"
   ]
  },
  {
   "cell_type": "code",
   "execution_count": 7,
   "metadata": {
    "ExecuteTime": {
     "end_time": "2022-09-20T00:05:27.916109Z",
     "start_time": "2022-09-20T00:05:27.638483Z"
    }
   },
   "outputs": [
    {
     "name": "stderr",
     "output_type": "stream",
     "text": [
      "/var/folders/s6/fbsc26cd0ddffbp3_knts_9c0wcxj1/T/ipykernel_66936/1739921028.py:1: UserWarning: Geometry is in a geographic CRS. Results from 'buffer' are likely incorrect. Use 'GeoSeries.to_crs()' to re-project geometries to a projected CRS before this operation.\n",
      "\n",
      "  df_chips.buffer(2).plot()\n"
     ]
    },
    {
     "data": {
      "text/plain": [
       "<AxesSubplot:>"
      ]
     },
     "execution_count": 7,
     "metadata": {},
     "output_type": "execute_result"
    },
    {
     "data": {
      "image/png": "[encoded data removed]",
      "text/plain": [
       "<Figure size 432x288 with 1 Axes>"
      ]
     },
     "metadata": {
      "needs_background": "light"
     },
     "output_type": "display_data"
    }
   ],
   "source": [
    "df_chips.buffer(2).plot()"
   ]
  },
  {
   "cell_type": "code",
   "execution_count": 8,
   "metadata": {
    "ExecuteTime": {
     "end_time": "2022-09-20T00:05:27.925862Z",
     "start_time": "2022-09-20T00:05:27.918228Z"
    }
   },
   "outputs": [
    {
     "data": {
      "text/html": [
       "<div>\n",
       "<style scoped>\n",
       "    .dataframe tbody tr th:only-of-type {\n",
       "        vertical-align: middle;\n",
       "    }\n",
       "\n",
       "    .dataframe tbody tr th {\n",
       "        vertical-align: top;\n",
       "    }\n",
       "\n",
       "    .dataframe thead th {\n",
       "        text-align: right;\n",
       "    }\n",
       "</style>\n",
       "<table border=\"1\" class=\"dataframe\">\n",
       "  <thead>\n",
       "    <tr style=\"text-align: right;\">\n",
       "      <th></th>\n",
       "      <th>image_name</th>\n",
       "    </tr>\n",
       "    <tr>\n",
       "      <th>site_name</th>\n",
       "      <th></th>\n",
       "    </tr>\n",
       "  </thead>\n",
       "  <tbody>\n",
       "    <tr>\n",
       "      <th>3_38</th>\n",
       "      <td>20210929_212809_16_2442</td>\n",
       "    </tr>\n",
       "    <tr>\n",
       "      <th>4_27</th>\n",
       "      <td>NaN</td>\n",
       "    </tr>\n",
       "    <tr>\n",
       "      <th>4_43</th>\n",
       "      <td>20210927_095537_0f15</td>\n",
       "    </tr>\n",
       "    <tr>\n",
       "      <th>3_1</th>\n",
       "      <td>20210925_072712_16_2254</td>\n",
       "    </tr>\n",
       "    <tr>\n",
       "      <th>4_34</th>\n",
       "      <td>20210901_175205_71_2426</td>\n",
       "    </tr>\n",
       "  </tbody>\n",
       "</table>\n",
       "</div>"
      ],
      "text/plain": [
       "                        image_name\n",
       "site_name                         \n",
       "3_38       20210929_212809_16_2442\n",
       "4_27                           NaN\n",
       "4_43          20210927_095537_0f15\n",
       "3_1        20210925_072712_16_2254\n",
       "4_34       20210901_175205_71_2426"
      ]
     },
     "execution_count": 8,
     "metadata": {},
     "output_type": "execute_result"
    }
   ],
   "source": [
    "temp = df_chips[['image_name', 'site_name']]\n",
    "df_site2image = temp.set_index('site_name')\n",
    "df_image2site = temp.set_index('image_name')\n",
    "df_site2image.head()"
   ]
  },
  {
   "cell_type": "code",
   "execution_count": 9,
   "metadata": {
    "ExecuteTime": {
     "end_time": "2022-09-20T00:05:27.932652Z",
     "start_time": "2022-09-20T00:05:27.927664Z"
    }
   },
   "outputs": [
    {
     "name": "stdout",
     "output_type": "stream",
     "text": [
      "There was 1 planet images for this chip\n"
     ]
    },
    {
     "data": {
      "text/plain": [
       "('3_8', '20211010_135831_84_227e')"
      ]
     },
     "execution_count": 9,
     "metadata": {},
     "output_type": "execute_result"
    }
   ],
   "source": [
    "if not PLANET_ID:\n",
    "    values = PLANET_ID = df_site2image.loc[SITE_NAME].tolist()\n",
    "    PLANET_ID = values[0]\n",
    "    print(f'There was {len(values)} planet images for this chip')\n",
    "else:\n",
    "    values = df_image2site.loc[PLANET_ID].tolist()\n",
    "    SITE_NAME = values[0]\n",
    "    print(f'There were {len(values)} chips for this planet_image')\n",
    "\n",
    "(SITE_NAME, PLANET_ID)"
   ]
  },
  {
   "cell_type": "code",
   "execution_count": 10,
   "metadata": {
    "ExecuteTime": {
     "end_time": "2022-09-20T00:05:28.004252Z",
     "start_time": "2022-09-20T00:05:27.936019Z"
    }
   },
   "outputs": [],
   "source": [
    "df_chips.to_file('chips.geojson', driver='GeoJSON')"
   ]
  },
  {
   "cell_type": "markdown",
   "metadata": {},
   "source": [
    "# Crop"
   ]
  },
  {
   "cell_type": "code",
   "execution_count": 11,
   "metadata": {
    "ExecuteTime": {
     "end_time": "2022-09-20T00:05:28.009046Z",
     "start_time": "2022-09-20T00:05:28.005888Z"
    }
   },
   "outputs": [],
   "source": [
    "data_dir = Path(f'data/{PLANET_ID}/')\n",
    "data_dir.mkdir(exist_ok=True, parents=True)\n",
    "\n",
    "cropped_dir = Path(f'planet_images_cropped/{PLANET_ID}/')\n",
    "cropped_dir.mkdir(exist_ok=True, parents=True)"
   ]
  },
  {
   "cell_type": "code",
   "execution_count": 12,
   "metadata": {
    "ExecuteTime": {
     "end_time": "2022-09-20T00:05:28.015248Z",
     "start_time": "2022-09-20T00:05:28.010713Z"
    }
   },
   "outputs": [
    {
     "data": {
      "text/plain": [
       "PosixPath('data/20211010_135831_84_227e/20211010_135831_84_227e_3B_AnalyticMS_SR_8b.tif')"
      ]
     },
     "execution_count": 12,
     "metadata": {},
     "output_type": "execute_result"
    }
   ],
   "source": [
    "n = len(PLANET_ID)\n",
    "planet_images = list(data_dir.glob('*.tif'))\n",
    "planet_image_path = list(filter(lambda x: x.name[:n] == PLANET_ID, planet_images))[0]\n",
    "planet_image_path"
   ]
  },
  {
   "cell_type": "code",
   "execution_count": 26,
   "metadata": {
    "ExecuteTime": {
     "end_time": "2022-09-20T00:27:30.501231Z",
     "start_time": "2022-09-20T00:27:30.497847Z"
    }
   },
   "outputs": [
    {
     "data": {
      "text/plain": [
       "CRS.from_epsg(32720)"
      ]
     },
     "execution_count": 26,
     "metadata": {},
     "output_type": "execute_result"
    }
   ],
   "source": [
    "planet_crs"
   ]
  },
  {
   "cell_type": "code",
   "execution_count": 27,
   "metadata": {
    "ExecuteTime": {
     "end_time": "2022-09-20T00:27:46.681674Z",
     "start_time": "2022-09-20T00:27:46.674486Z"
    }
   },
   "outputs": [
    {
     "data": {
      "text/plain": [
       "{'driver': 'GTiff', 'dtype': 'uint16', 'nodata': 0.0, 'width': 12908, 'height': 9142, 'count': 8, 'crs': CRS.from_epsg(32720), 'transform': Affine(3.0, 0.0, 281430.0,\n",
       "       0.0, -3.0, 8767935.0), 'blockxsize': 256, 'blockysize': 256, 'tiled': True, 'compress': 'lzw', 'interleave': 'pixel'}"
      ]
     },
     "execution_count": 27,
     "metadata": {},
     "output_type": "execute_result"
    }
   ],
   "source": [
    "with rasterio.open(planet_image_path) as ds:\n",
    "    planet_crs = ds.crs\n",
    "    planet_profile = ds.profile\n",
    "    \n",
    "planet_profile"
   ]
  },
  {
   "cell_type": "code",
   "execution_count": 28,
   "metadata": {
    "ExecuteTime": {
     "end_time": "2022-09-20T00:28:04.630733Z",
     "start_time": "2022-09-20T00:28:04.522034Z"
    }
   },
   "outputs": [
    {
     "data": {
      "text/plain": [
       "<AxesSubplot:>"
      ]
     },
     "execution_count": 28,
     "metadata": {},
     "output_type": "execute_result"
    },
    {
     "data": {
      "image/png": "[encoded data removed]",
      "text/plain": [
       "<Figure size 432x288 with 1 Axes>"
      ]
     },
     "metadata": {
      "needs_background": "light"
     },
     "output_type": "display_data"
    }
   ],
   "source": [
    "df_chip = df_chips[df_chips.image_name == PLANET_ID]\n",
    "\n",
    "# 500 meter buffer\n",
    "df_chip_utm = df_chip.to_crs(planet_crs).buffer(500 / 3, join_style=2)\n",
    "df_chip_utm.plot()"
   ]
  },
  {
   "cell_type": "code",
   "execution_count": 29,
   "metadata": {
    "ExecuteTime": {
     "end_time": "2022-09-20T00:28:06.360076Z",
     "start_time": "2022-09-20T00:28:05.410089Z"
    }
   },
   "outputs": [],
   "source": [
    "with rasterio.open(planet_image_path) as src:\n",
    "    out_image, out_transform = rasterio.mask.mask(src, df_chip_utm.geometry, crop=True)\n",
    "    out_meta = src.meta\n",
    "\n",
    "out_meta.update({\"driver\": \"GTiff\",\n",
    "         \"height\": out_image.shape[1],\n",
    "         \"width\": out_image.shape[2],\n",
    "         \"transform\": out_transform})\n",
    "\n",
    "with rasterio.open(cropped_dir / f'cropped_{PLANET_ID}.tif', \"w\", **out_meta) as dest:\n",
    "    dest.write(out_image)"
   ]
  },
  {
   "cell_type": "markdown",
   "metadata": {},
   "source": [
    "Copy original data (if you want), say in the event you are reviewing an old extent."
   ]
  },
  {
   "cell_type": "code",
   "execution_count": 22,
   "metadata": {
    "ExecuteTime": {
     "end_time": "2022-09-20T00:24:39.774806Z",
     "start_time": "2022-09-20T00:24:39.772167Z"
    }
   },
   "outputs": [],
   "source": [
    "if False:\n",
    "    shutil.copy(str(planet_image_path),\n",
    "                str(cropped_dir / f'orig_{PLANET_ID}.tif'))"
   ]
  },
  {
   "cell_type": "markdown",
   "metadata": {},
   "source": [
    "# Check"
   ]
  },
  {
   "cell_type": "code",
   "execution_count": 16,
   "metadata": {
    "ExecuteTime": {
     "end_time": "2022-09-20T00:05:29.868136Z",
     "start_time": "2022-09-20T00:05:29.457584Z"
    }
   },
   "outputs": [
    {
     "data": {
      "text/plain": [
       "<AxesSubplot:>"
      ]
     },
     "execution_count": 16,
     "metadata": {},
     "output_type": "execute_result"
    },
    {
     "data": {
      "image/png": "[encoded data removed]",
      "text/plain": [
       "<Figure size 432x288 with 1 Axes>"
      ]
     },
     "metadata": {
      "needs_background": "light"
     },
     "output_type": "display_data"
    }
   ],
   "source": [
    "fig, ax = plt.subplots()\n",
    "show(out_image[0,...], transform=out_transform, ax=ax)\n",
    "df_chip_utm.boundary.plot(ax=ax)"
   ]
  }
 ],
 "metadata": {
  "kernelspec": {
   "display_name": "dswx_val",
   "language": "python",
   "name": "dswx_val"
  },
  "language_info": {
   "codemirror_mode": {
    "name": "ipython",
    "version": 3
   },
   "file_extension": ".py",
   "mimetype": "text/x-python",
   "name": "python",
   "nbconvert_exporter": "python",
   "pygments_lexer": "ipython3",
   "version": "3.10.5"
  }
 },
 "nbformat": 4,
 "nbformat_minor": 2
}
