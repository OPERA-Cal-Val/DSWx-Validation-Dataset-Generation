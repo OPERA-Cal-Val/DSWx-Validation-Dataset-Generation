{
 "cells": [
  {
   "cell_type": "markdown",
   "metadata": {},
   "source": [
    "# Crop the Planet Image\n",
    "\n",
    "This notebook shows how to crop the planet image."
   ]
  },
  {
   "cell_type": "code",
   "execution_count": 1,
   "metadata": {
    "ExecuteTime": {
     "end_time": "2022-09-14T18:41:25.605941Z",
     "start_time": "2022-09-14T18:41:24.534656Z"
    }
   },
   "outputs": [],
   "source": [
    "import geopandas as gpd\n",
    "import os\n",
    "import rasterio\n",
    "import rasterio.mask\n",
    "from pathlib import Path\n",
    "from rasterio.plot import show\n",
    "from rasterio.crs import CRS\n",
    "import matplotlib.pyplot as plt\n",
    "import pandas as pd"
   ]
  },
  {
   "cell_type": "markdown",
   "metadata": {},
   "source": [
    "# Parameters\n",
    "\n",
    "Specify *exactly* one. The `site_name` or the `planet_id`. The former is given to the chip by the validation team. Because we are not selecting multiple planet scenes per chip and not selecting planet images that cover multiple chips (they are sufficiently spaced apart), this should be a 1 to 1 mapping."
   ]
  },
  {
   "cell_type": "code",
   "execution_count": 2,
   "metadata": {
    "ExecuteTime": {
     "end_time": "2022-09-14T18:41:25.610578Z",
     "start_time": "2022-09-14T18:41:25.608073Z"
    }
   },
   "outputs": [],
   "source": [
    "PLANET_ID = ''\n",
    "SITE_NAME = '3_28'\n",
    "\n",
    "# ^ is exclusive or; makes sure you only specified one\n",
    "assert((len(PLANET_ID) == 0) ^ (len(SITE_NAME) == 0))"
   ]
  },
  {
   "cell_type": "markdown",
   "metadata": {},
   "source": [
    "# Environment"
   ]
  },
  {
   "cell_type": "code",
   "execution_count": 3,
   "metadata": {
    "ExecuteTime": {
     "end_time": "2022-09-14T18:41:25.614418Z",
     "start_time": "2022-09-14T18:41:25.612184Z"
    }
   },
   "outputs": [],
   "source": [
    "os.environ[\"AWS_NO_SIGN_REQUEST\"] = \"YES\""
   ]
  },
  {
   "cell_type": "markdown",
   "metadata": {},
   "source": [
    "# Get Image Database"
   ]
  },
  {
   "cell_type": "code",
   "execution_count": 4,
   "metadata": {
    "ExecuteTime": {
     "end_time": "2022-09-14T18:41:26.667391Z",
     "start_time": "2022-09-14T18:41:25.616870Z"
    }
   },
   "outputs": [
    {
     "data": {
      "text/html": [
       "<div>\n",
       "<style scoped>\n",
       "    .dataframe tbody tr th:only-of-type {\n",
       "        vertical-align: middle;\n",
       "    }\n",
       "\n",
       "    .dataframe tbody tr th {\n",
       "        vertical-align: top;\n",
       "    }\n",
       "\n",
       "    .dataframe thead th {\n",
       "        text-align: right;\n",
       "    }\n",
       "</style>\n",
       "<table border=\"1\" class=\"dataframe\">\n",
       "  <thead>\n",
       "    <tr style=\"text-align: right;\">\n",
       "      <th></th>\n",
       "      <th>collocated_dswx</th>\n",
       "      <th>dswx_cloud_cover</th>\n",
       "      <th>datetime</th>\n",
       "      <th>image_name</th>\n",
       "      <th>cloud_cover</th>\n",
       "      <th>site_coverage</th>\n",
       "      <th>instrument</th>\n",
       "      <th>provider</th>\n",
       "      <th>resolution</th>\n",
       "      <th>timeDelta_days</th>\n",
       "      <th>site_name</th>\n",
       "      <th>Strata</th>\n",
       "      <th>geometry</th>\n",
       "    </tr>\n",
       "  </thead>\n",
       "  <tbody>\n",
       "    <tr>\n",
       "      <th>0</th>\n",
       "      <td>HLS.S30.T04WDB.2021271T225541.v2.0</td>\n",
       "      <td>4.0</td>\n",
       "      <td>2021-09-29 21:28:09.168000+00:00</td>\n",
       "      <td>20210929_212809_16_2442</td>\n",
       "      <td>0.0</td>\n",
       "      <td>90.820013</td>\n",
       "      <td>PSB.SD</td>\n",
       "      <td>planetscope</td>\n",
       "      <td>3.0</td>\n",
       "      <td>0.938606</td>\n",
       "      <td>3_38</td>\n",
       "      <td>3.0</td>\n",
       "      <td>POLYGON ((-160.00896 69.30478, -160.21043 69.1...</td>\n",
       "    </tr>\n",
       "    <tr>\n",
       "      <th>1</th>\n",
       "      <td>HLS.S30.T33WXP.2021270T104719.v2.0</td>\n",
       "      <td>16.0</td>\n",
       "      <td>2021-09-27 09:55:37.877000+00:00</td>\n",
       "      <td>20210927_095537_0f15</td>\n",
       "      <td>0.0</td>\n",
       "      <td>41.216128</td>\n",
       "      <td>PS2</td>\n",
       "      <td>planetscope</td>\n",
       "      <td>3.0</td>\n",
       "      <td>0.039303</td>\n",
       "      <td>4_43</td>\n",
       "      <td>4.0</td>\n",
       "      <td>POLYGON ((17.22275 66.09223, 17.16459 66.02168...</td>\n",
       "    </tr>\n",
       "    <tr>\n",
       "      <th>2</th>\n",
       "      <td>HLS.L30.T40WFU.2021268T073033.v2.0</td>\n",
       "      <td>2.0</td>\n",
       "      <td>2021-09-25 07:27:12.166000+00:00</td>\n",
       "      <td>20210925_072712_16_2254</td>\n",
       "      <td>0.0</td>\n",
       "      <td>72.272530</td>\n",
       "      <td>PSB.SD</td>\n",
       "      <td>planetscope</td>\n",
       "      <td>3.0</td>\n",
       "      <td>0.002335</td>\n",
       "      <td>3_1</td>\n",
       "      <td>3.0</td>\n",
       "      <td>POLYGON ((59.00446 65.95517, 58.85023 65.76646...</td>\n",
       "    </tr>\n",
       "    <tr>\n",
       "      <th>3</th>\n",
       "      <td>HLS.S30.T14VPQ.2021244T175911.v2.0</td>\n",
       "      <td>2.0</td>\n",
       "      <td>2021-09-01 17:52:05.712000+00:00</td>\n",
       "      <td>20210901_175205_71_2426</td>\n",
       "      <td>0.0</td>\n",
       "      <td>100.000000</td>\n",
       "      <td>PSB.SD</td>\n",
       "      <td>planetscope</td>\n",
       "      <td>3.0</td>\n",
       "      <td>0.010000</td>\n",
       "      <td>4_34</td>\n",
       "      <td>4.0</td>\n",
       "      <td>POLYGON ((-96.94381 62.88876, -97.07609 62.707...</td>\n",
       "    </tr>\n",
       "    <tr>\n",
       "      <th>4</th>\n",
       "      <td>HLS.S30.T52VFP.2021253T023549.v2.0</td>\n",
       "      <td>2.0</td>\n",
       "      <td>2021-09-11 00:51:29.821000+00:00</td>\n",
       "      <td>20210911_005129_82_106a</td>\n",
       "      <td>0.0</td>\n",
       "      <td>100.000000</td>\n",
       "      <td>PS2.SD</td>\n",
       "      <td>planetscope</td>\n",
       "      <td>3.0</td>\n",
       "      <td>0.924389</td>\n",
       "      <td>3_30</td>\n",
       "      <td>3.0</td>\n",
       "      <td>POLYGON ((130.86458 61.50211, 130.95358 61.357...</td>\n",
       "    </tr>\n",
       "  </tbody>\n",
       "</table>\n",
       "</div>"
      ],
      "text/plain": [
       "                      collocated_dswx  dswx_cloud_cover  \\\n",
       "0  HLS.S30.T04WDB.2021271T225541.v2.0               4.0   \n",
       "1  HLS.S30.T33WXP.2021270T104719.v2.0              16.0   \n",
       "2  HLS.L30.T40WFU.2021268T073033.v2.0               2.0   \n",
       "3  HLS.S30.T14VPQ.2021244T175911.v2.0               2.0   \n",
       "4  HLS.S30.T52VFP.2021253T023549.v2.0               2.0   \n",
       "\n",
       "                          datetime               image_name  cloud_cover  \\\n",
       "0 2021-09-29 21:28:09.168000+00:00  20210929_212809_16_2442          0.0   \n",
       "1 2021-09-27 09:55:37.877000+00:00     20210927_095537_0f15          0.0   \n",
       "2 2021-09-25 07:27:12.166000+00:00  20210925_072712_16_2254          0.0   \n",
       "3 2021-09-01 17:52:05.712000+00:00  20210901_175205_71_2426          0.0   \n",
       "4 2021-09-11 00:51:29.821000+00:00  20210911_005129_82_106a          0.0   \n",
       "\n",
       "   site_coverage instrument     provider  resolution  timeDelta_days  \\\n",
       "0      90.820013     PSB.SD  planetscope         3.0        0.938606   \n",
       "1      41.216128        PS2  planetscope         3.0        0.039303   \n",
       "2      72.272530     PSB.SD  planetscope         3.0        0.002335   \n",
       "3     100.000000     PSB.SD  planetscope         3.0        0.010000   \n",
       "4     100.000000     PS2.SD  planetscope         3.0        0.924389   \n",
       "\n",
       "  site_name  Strata                                           geometry  \n",
       "0      3_38     3.0  POLYGON ((-160.00896 69.30478, -160.21043 69.1...  \n",
       "1      4_43     4.0  POLYGON ((17.22275 66.09223, 17.16459 66.02168...  \n",
       "2       3_1     3.0  POLYGON ((59.00446 65.95517, 58.85023 65.76646...  \n",
       "3      4_34     4.0  POLYGON ((-96.94381 62.88876, -97.07609 62.707...  \n",
       "4      3_30     3.0  POLYGON ((130.86458 61.50211, 130.95358 61.357...  "
      ]
     },
     "execution_count": 4,
     "metadata": {},
     "output_type": "execute_result"
    }
   ],
   "source": [
    "df_images = gpd.read_file('s3://opera-calval-database-dswx/image.geojson')\n",
    "df_images.dropna(inplace=True)\n",
    "df_images.head()"
   ]
  },
  {
   "cell_type": "code",
   "execution_count": 5,
   "metadata": {
    "ExecuteTime": {
     "end_time": "2022-09-14T18:41:26.899914Z",
     "start_time": "2022-09-14T18:41:26.669172Z"
    }
   },
   "outputs": [
    {
     "data": {
      "text/html": [
       "<div>\n",
       "<style scoped>\n",
       "    .dataframe tbody tr th:only-of-type {\n",
       "        vertical-align: middle;\n",
       "    }\n",
       "\n",
       "    .dataframe tbody tr th {\n",
       "        vertical-align: top;\n",
       "    }\n",
       "\n",
       "    .dataframe thead th {\n",
       "        text-align: right;\n",
       "    }\n",
       "</style>\n",
       "<table border=\"1\" class=\"dataframe\">\n",
       "  <thead>\n",
       "    <tr style=\"text-align: right;\">\n",
       "      <th></th>\n",
       "      <th>site_name</th>\n",
       "      <th>water_content</th>\n",
       "      <th>geometry</th>\n",
       "    </tr>\n",
       "  </thead>\n",
       "  <tbody>\n",
       "    <tr>\n",
       "      <th>0</th>\n",
       "      <td>3_38</td>\n",
       "      <td>3.0</td>\n",
       "      <td>POLYGON ((-159.78489 69.25969, -159.65899 69.2...</td>\n",
       "    </tr>\n",
       "    <tr>\n",
       "      <th>1</th>\n",
       "      <td>4_27</td>\n",
       "      <td>4.0</td>\n",
       "      <td>POLYGON ((-113.10838 67.09964, -113.09840 67.0...</td>\n",
       "    </tr>\n",
       "    <tr>\n",
       "      <th>2</th>\n",
       "      <td>4_43</td>\n",
       "      <td>4.0</td>\n",
       "      <td>POLYGON ((17.61007 66.01963, 17.81779 66.01970...</td>\n",
       "    </tr>\n",
       "    <tr>\n",
       "      <th>3</th>\n",
       "      <td>3_1</td>\n",
       "      <td>3.0</td>\n",
       "      <td>POLYGON ((59.55613 65.74045, 59.55651 65.83973...</td>\n",
       "    </tr>\n",
       "    <tr>\n",
       "      <th>4</th>\n",
       "      <td>4_34</td>\n",
       "      <td>4.0</td>\n",
       "      <td>POLYGON ((-96.71059 62.77966, -96.57702 62.779...</td>\n",
       "    </tr>\n",
       "  </tbody>\n",
       "</table>\n",
       "</div>"
      ],
      "text/plain": [
       "  site_name  water_content                                           geometry\n",
       "0      3_38            3.0  POLYGON ((-159.78489 69.25969, -159.65899 69.2...\n",
       "1      4_27            4.0  POLYGON ((-113.10838 67.09964, -113.09840 67.0...\n",
       "2      4_43            4.0  POLYGON ((17.61007 66.01963, 17.81779 66.01970...\n",
       "3       3_1            3.0  POLYGON ((59.55613 65.74045, 59.55651 65.83973...\n",
       "4      4_34            4.0  POLYGON ((-96.71059 62.77966, -96.57702 62.779..."
      ]
     },
     "execution_count": 5,
     "metadata": {},
     "output_type": "execute_result"
    }
   ],
   "source": [
    "df_site = gpd.read_file('s3://opera-calval-database-dswx/site.geojson')\n",
    "df_site.dropna(inplace=True)\n",
    "df_site.head()"
   ]
  },
  {
   "cell_type": "code",
   "execution_count": 6,
   "metadata": {
    "ExecuteTime": {
     "end_time": "2022-09-14T18:41:26.920510Z",
     "start_time": "2022-09-14T18:41:26.901740Z"
    }
   },
   "outputs": [
    {
     "data": {
      "text/html": [
       "<div>\n",
       "<style scoped>\n",
       "    .dataframe tbody tr th:only-of-type {\n",
       "        vertical-align: middle;\n",
       "    }\n",
       "\n",
       "    .dataframe tbody tr th {\n",
       "        vertical-align: top;\n",
       "    }\n",
       "\n",
       "    .dataframe thead th {\n",
       "        text-align: right;\n",
       "    }\n",
       "</style>\n",
       "<table border=\"1\" class=\"dataframe\">\n",
       "  <thead>\n",
       "    <tr style=\"text-align: right;\">\n",
       "      <th></th>\n",
       "      <th>site_name</th>\n",
       "      <th>water_content</th>\n",
       "      <th>geometry</th>\n",
       "      <th>collocated_dswx</th>\n",
       "      <th>dswx_cloud_cover</th>\n",
       "      <th>datetime</th>\n",
       "      <th>image_name</th>\n",
       "      <th>cloud_cover</th>\n",
       "      <th>site_coverage</th>\n",
       "      <th>instrument</th>\n",
       "      <th>provider</th>\n",
       "      <th>resolution</th>\n",
       "      <th>timeDelta_days</th>\n",
       "      <th>Strata</th>\n",
       "    </tr>\n",
       "  </thead>\n",
       "  <tbody>\n",
       "    <tr>\n",
       "      <th>0</th>\n",
       "      <td>3_38</td>\n",
       "      <td>3.0</td>\n",
       "      <td>POLYGON ((-159.78489 69.25969, -159.65899 69.2...</td>\n",
       "      <td>HLS.S30.T04WDB.2021271T225541.v2.0</td>\n",
       "      <td>4.0</td>\n",
       "      <td>2021-09-29 21:28:09.168000+00:00</td>\n",
       "      <td>20210929_212809_16_2442</td>\n",
       "      <td>0.0</td>\n",
       "      <td>90.820013</td>\n",
       "      <td>PSB.SD</td>\n",
       "      <td>planetscope</td>\n",
       "      <td>3.0</td>\n",
       "      <td>0.938606</td>\n",
       "      <td>3.0</td>\n",
       "    </tr>\n",
       "    <tr>\n",
       "      <th>1</th>\n",
       "      <td>4_27</td>\n",
       "      <td>4.0</td>\n",
       "      <td>POLYGON ((-113.10838 67.09964, -113.09840 67.0...</td>\n",
       "      <td>NaN</td>\n",
       "      <td>NaN</td>\n",
       "      <td>NaT</td>\n",
       "      <td>NaN</td>\n",
       "      <td>NaN</td>\n",
       "      <td>NaN</td>\n",
       "      <td>NaN</td>\n",
       "      <td>NaN</td>\n",
       "      <td>NaN</td>\n",
       "      <td>NaN</td>\n",
       "      <td>NaN</td>\n",
       "    </tr>\n",
       "    <tr>\n",
       "      <th>2</th>\n",
       "      <td>4_43</td>\n",
       "      <td>4.0</td>\n",
       "      <td>POLYGON ((17.61007 66.01963, 17.81779 66.01970...</td>\n",
       "      <td>HLS.S30.T33WXP.2021270T104719.v2.0</td>\n",
       "      <td>16.0</td>\n",
       "      <td>2021-09-27 09:55:37.877000+00:00</td>\n",
       "      <td>20210927_095537_0f15</td>\n",
       "      <td>0.0</td>\n",
       "      <td>41.216128</td>\n",
       "      <td>PS2</td>\n",
       "      <td>planetscope</td>\n",
       "      <td>3.0</td>\n",
       "      <td>0.039303</td>\n",
       "      <td>4.0</td>\n",
       "    </tr>\n",
       "    <tr>\n",
       "      <th>3</th>\n",
       "      <td>3_1</td>\n",
       "      <td>3.0</td>\n",
       "      <td>POLYGON ((59.55613 65.74045, 59.55651 65.83973...</td>\n",
       "      <td>HLS.L30.T40WFU.2021268T073033.v2.0</td>\n",
       "      <td>2.0</td>\n",
       "      <td>2021-09-25 07:27:12.166000+00:00</td>\n",
       "      <td>20210925_072712_16_2254</td>\n",
       "      <td>0.0</td>\n",
       "      <td>72.272530</td>\n",
       "      <td>PSB.SD</td>\n",
       "      <td>planetscope</td>\n",
       "      <td>3.0</td>\n",
       "      <td>0.002335</td>\n",
       "      <td>3.0</td>\n",
       "    </tr>\n",
       "    <tr>\n",
       "      <th>4</th>\n",
       "      <td>4_34</td>\n",
       "      <td>4.0</td>\n",
       "      <td>POLYGON ((-96.71059 62.77966, -96.57702 62.779...</td>\n",
       "      <td>HLS.S30.T14VPQ.2021244T175911.v2.0</td>\n",
       "      <td>2.0</td>\n",
       "      <td>2021-09-01 17:52:05.712000+00:00</td>\n",
       "      <td>20210901_175205_71_2426</td>\n",
       "      <td>0.0</td>\n",
       "      <td>100.000000</td>\n",
       "      <td>PSB.SD</td>\n",
       "      <td>planetscope</td>\n",
       "      <td>3.0</td>\n",
       "      <td>0.010000</td>\n",
       "      <td>4.0</td>\n",
       "    </tr>\n",
       "  </tbody>\n",
       "</table>\n",
       "</div>"
      ],
      "text/plain": [
       "  site_name  water_content                                           geometry  \\\n",
       "0      3_38            3.0  POLYGON ((-159.78489 69.25969, -159.65899 69.2...   \n",
       "1      4_27            4.0  POLYGON ((-113.10838 67.09964, -113.09840 67.0...   \n",
       "2      4_43            4.0  POLYGON ((17.61007 66.01963, 17.81779 66.01970...   \n",
       "3       3_1            3.0  POLYGON ((59.55613 65.74045, 59.55651 65.83973...   \n",
       "4      4_34            4.0  POLYGON ((-96.71059 62.77966, -96.57702 62.779...   \n",
       "\n",
       "                      collocated_dswx  dswx_cloud_cover  \\\n",
       "0  HLS.S30.T04WDB.2021271T225541.v2.0               4.0   \n",
       "1                                 NaN               NaN   \n",
       "2  HLS.S30.T33WXP.2021270T104719.v2.0              16.0   \n",
       "3  HLS.L30.T40WFU.2021268T073033.v2.0               2.0   \n",
       "4  HLS.S30.T14VPQ.2021244T175911.v2.0               2.0   \n",
       "\n",
       "                          datetime               image_name  cloud_cover  \\\n",
       "0 2021-09-29 21:28:09.168000+00:00  20210929_212809_16_2442          0.0   \n",
       "1                              NaT                      NaN          NaN   \n",
       "2 2021-09-27 09:55:37.877000+00:00     20210927_095537_0f15          0.0   \n",
       "3 2021-09-25 07:27:12.166000+00:00  20210925_072712_16_2254          0.0   \n",
       "4 2021-09-01 17:52:05.712000+00:00  20210901_175205_71_2426          0.0   \n",
       "\n",
       "   site_coverage instrument     provider  resolution  timeDelta_days  Strata  \n",
       "0      90.820013     PSB.SD  planetscope         3.0        0.938606     3.0  \n",
       "1            NaN        NaN          NaN         NaN             NaN     NaN  \n",
       "2      41.216128        PS2  planetscope         3.0        0.039303     4.0  \n",
       "3      72.272530     PSB.SD  planetscope         3.0        0.002335     3.0  \n",
       "4     100.000000     PSB.SD  planetscope         3.0        0.010000     4.0  "
      ]
     },
     "execution_count": 6,
     "metadata": {},
     "output_type": "execute_result"
    }
   ],
   "source": [
    "cols_to_merge = [col for col in df_images.columns if col != 'geometry']\n",
    "df_temp = df_images[cols_to_merge]\n",
    "df_chips = pd.merge(df_site, df_temp , on='site_name', how='left')\n",
    "df_chips.head()"
   ]
  },
  {
   "cell_type": "code",
   "execution_count": 7,
   "metadata": {
    "ExecuteTime": {
     "end_time": "2022-09-14T18:41:27.195437Z",
     "start_time": "2022-09-14T18:41:26.922596Z"
    }
   },
   "outputs": [
    {
     "name": "stderr",
     "output_type": "stream",
     "text": [
      "/var/folders/s6/fbsc26cd0ddffbp3_knts_9c0wcxj1/T/ipykernel_38789/1739921028.py:1: UserWarning: Geometry is in a geographic CRS. Results from 'buffer' are likely incorrect. Use 'GeoSeries.to_crs()' to re-project geometries to a projected CRS before this operation.\n",
      "\n",
      "  df_chips.buffer(2).plot()\n"
     ]
    },
    {
     "data": {
      "text/plain": [
       "<AxesSubplot:>"
      ]
     },
     "execution_count": 7,
     "metadata": {},
     "output_type": "execute_result"
    },
    {
     "data": {
      "image/png": "[encoded data removed]",
      "text/plain": [
       "<Figure size 432x288 with 1 Axes>"
      ]
     },
     "metadata": {
      "needs_background": "light"
     },
     "output_type": "display_data"
    }
   ],
   "source": [
    "df_chips.buffer(2).plot()"
   ]
  },
  {
   "cell_type": "code",
   "execution_count": 8,
   "metadata": {
    "ExecuteTime": {
     "end_time": "2022-09-14T18:41:27.205402Z",
     "start_time": "2022-09-14T18:41:27.197617Z"
    }
   },
   "outputs": [
    {
     "data": {
      "text/html": [
       "<div>\n",
       "<style scoped>\n",
       "    .dataframe tbody tr th:only-of-type {\n",
       "        vertical-align: middle;\n",
       "    }\n",
       "\n",
       "    .dataframe tbody tr th {\n",
       "        vertical-align: top;\n",
       "    }\n",
       "\n",
       "    .dataframe thead th {\n",
       "        text-align: right;\n",
       "    }\n",
       "</style>\n",
       "<table border=\"1\" class=\"dataframe\">\n",
       "  <thead>\n",
       "    <tr style=\"text-align: right;\">\n",
       "      <th></th>\n",
       "      <th>image_name</th>\n",
       "    </tr>\n",
       "    <tr>\n",
       "      <th>site_name</th>\n",
       "      <th></th>\n",
       "    </tr>\n",
       "  </thead>\n",
       "  <tbody>\n",
       "    <tr>\n",
       "      <th>3_38</th>\n",
       "      <td>20210929_212809_16_2442</td>\n",
       "    </tr>\n",
       "    <tr>\n",
       "      <th>4_27</th>\n",
       "      <td>NaN</td>\n",
       "    </tr>\n",
       "    <tr>\n",
       "      <th>4_43</th>\n",
       "      <td>20210927_095537_0f15</td>\n",
       "    </tr>\n",
       "    <tr>\n",
       "      <th>3_1</th>\n",
       "      <td>20210925_072712_16_2254</td>\n",
       "    </tr>\n",
       "    <tr>\n",
       "      <th>4_34</th>\n",
       "      <td>20210901_175205_71_2426</td>\n",
       "    </tr>\n",
       "  </tbody>\n",
       "</table>\n",
       "</div>"
      ],
      "text/plain": [
       "                        image_name\n",
       "site_name                         \n",
       "3_38       20210929_212809_16_2442\n",
       "4_27                           NaN\n",
       "4_43          20210927_095537_0f15\n",
       "3_1        20210925_072712_16_2254\n",
       "4_34       20210901_175205_71_2426"
      ]
     },
     "execution_count": 8,
     "metadata": {},
     "output_type": "execute_result"
    }
   ],
   "source": [
    "temp = df_chips[['image_name', 'site_name']]\n",
    "df_site2image = temp.set_index('site_name')\n",
    "df_image2site = temp.set_index('image_name')\n",
    "df_site2image.head()"
   ]
  },
  {
   "cell_type": "code",
   "execution_count": 9,
   "metadata": {
    "ExecuteTime": {
     "end_time": "2022-09-14T18:41:27.212560Z",
     "start_time": "2022-09-14T18:41:27.207566Z"
    }
   },
   "outputs": [
    {
     "name": "stdout",
     "output_type": "stream",
     "text": [
      "There was 1 planet images for this chip\n"
     ]
    },
    {
     "data": {
      "text/plain": [
       "('3_28', '20210906_101112_28_225a')"
      ]
     },
     "execution_count": 9,
     "metadata": {},
     "output_type": "execute_result"
    }
   ],
   "source": [
    "if not PLANET_ID:\n",
    "    values = PLANET_ID = df_site2image.loc[SITE_NAME].tolist()\n",
    "    PLANET_ID = values[0]\n",
    "    print(f'There was {len(values)} planet images for this chip')\n",
    "else:\n",
    "    values = df_image2site.loc[PLANET_ID].tolist()\n",
    "    SITE_NAME = values[0]\n",
    "    print(f'There were {len(values)} chips for this planet_image')\n",
    "\n",
    "(SITE_NAME, PLANET_ID)"
   ]
  },
  {
   "cell_type": "code",
   "execution_count": 10,
   "metadata": {
    "ExecuteTime": {
     "end_time": "2022-09-14T18:41:27.269184Z",
     "start_time": "2022-09-14T18:41:27.216560Z"
    }
   },
   "outputs": [],
   "source": [
    "df_chips.to_file('chips.geojson', driver='GeoJSON')"
   ]
  },
  {
   "cell_type": "markdown",
   "metadata": {},
   "source": [
    "# Crop"
   ]
  },
  {
   "cell_type": "code",
   "execution_count": 11,
   "metadata": {
    "ExecuteTime": {
     "end_time": "2022-09-14T18:41:27.273538Z",
     "start_time": "2022-09-14T18:41:27.270944Z"
    }
   },
   "outputs": [],
   "source": [
    "data_dir = Path(f'data/{PLANET_ID}/')\n",
    "data_dir.mkdir(exist_ok=True, parents=True)"
   ]
  },
  {
   "cell_type": "code",
   "execution_count": 12,
   "metadata": {
    "ExecuteTime": {
     "end_time": "2022-09-14T18:41:27.279577Z",
     "start_time": "2022-09-14T18:41:27.275362Z"
    }
   },
   "outputs": [
    {
     "data": {
      "text/plain": [
       "PosixPath('data/20210906_101112_28_225a/20210906_101112_28_225a_3B_AnalyticMS_SR_8b.tif')"
      ]
     },
     "execution_count": 12,
     "metadata": {},
     "output_type": "execute_result"
    }
   ],
   "source": [
    "n = len(PLANET_ID)\n",
    "planet_images = list(data_dir.glob('*.tif'))\n",
    "planet_image_path = list(filter(lambda x: x.name[:n] == PLANET_ID, planet_images))[0]\n",
    "planet_image_path"
   ]
  },
  {
   "cell_type": "code",
   "execution_count": 13,
   "metadata": {
    "ExecuteTime": {
     "end_time": "2022-09-14T18:41:27.288284Z",
     "start_time": "2022-09-14T18:41:27.281511Z"
    }
   },
   "outputs": [],
   "source": [
    "with rasterio.open(planet_image_path) as ds:\n",
    "    planet_crs = ds.crs"
   ]
  },
  {
   "cell_type": "code",
   "execution_count": 14,
   "metadata": {
    "ExecuteTime": {
     "end_time": "2022-09-14T18:41:27.460982Z",
     "start_time": "2022-09-14T18:41:27.290487Z"
    }
   },
   "outputs": [
    {
     "data": {
      "text/plain": [
       "<AxesSubplot:>"
      ]
     },
     "execution_count": 14,
     "metadata": {},
     "output_type": "execute_result"
    },
    {
     "data": {
      "image/png": "[encoded data removed]",
      "text/plain": [
       "<Figure size 432x288 with 1 Axes>"
      ]
     },
     "metadata": {
      "needs_background": "light"
     },
     "output_type": "display_data"
    }
   ],
   "source": [
    "df_chip = df_chips[df_chips.image_name == PLANET_ID]\n",
    "\n",
    "# 500 meter buffer\n",
    "df_chip_utm = df_chip.to_crs(planet_crs).buffer(500, join_style=2)\n",
    "df_chip_utm.plot()"
   ]
  },
  {
   "cell_type": "code",
   "execution_count": 15,
   "metadata": {
    "ExecuteTime": {
     "end_time": "2022-09-14T18:41:31.328540Z",
     "start_time": "2022-09-14T18:41:27.462905Z"
    }
   },
   "outputs": [],
   "source": [
    "with rasterio.open(planet_image_path) as src:\n",
    "    out_image, out_transform = rasterio.mask.mask(src, df_chip_utm.geometry, crop=True)\n",
    "    out_meta = src.meta\n",
    "\n",
    "out_meta.update({\"driver\": \"GTiff\",\n",
    "         \"height\": out_image.shape[1],\n",
    "         \"width\": out_image.shape[2],\n",
    "         \"transform\": out_transform})\n",
    "\n",
    "with rasterio.open(data_dir / f'cropped_{PLANET_ID}.tif', \"w\", **out_meta) as dest:\n",
    "    dest.write(out_image)"
   ]
  },
  {
   "cell_type": "markdown",
   "metadata": {},
   "source": [
    "# Check"
   ]
  },
  {
   "cell_type": "code",
   "execution_count": 16,
   "metadata": {
    "ExecuteTime": {
     "end_time": "2022-09-14T18:41:32.139385Z",
     "start_time": "2022-09-14T18:41:31.330365Z"
    }
   },
   "outputs": [
    {
     "data": {
      "text/plain": [
       "<AxesSubplot:>"
      ]
     },
     "execution_count": 16,
     "metadata": {},
     "output_type": "execute_result"
    },
    {
     "data": {
      "image/png": "[encoded data removed]",
      "text/plain": [
       "<Figure size 432x288 with 1 Axes>"
      ]
     },
     "metadata": {
      "needs_background": "light"
     },
     "output_type": "display_data"
    }
   ],
   "source": [
    "fig, ax = plt.subplots()\n",
    "show(out_image[0,...], transform=out_transform, ax=ax)\n",
    "df_chip_utm.boundary.plot(ax=ax)"
   ]
  }
 ],
 "metadata": {
  "kernelspec": {
   "display_name": "dswx_val",
   "language": "python",
   "name": "dswx_val"
  },
  "language_info": {
   "codemirror_mode": {
    "name": "ipython",
    "version": 3
   },
   "file_extension": ".py",
   "mimetype": "text/x-python",
   "name": "python",
   "nbconvert_exporter": "python",
   "pygments_lexer": "ipython3",
   "version": "3.10.5"
  }
 },
 "nbformat": 4,
 "nbformat_minor": 2
}
