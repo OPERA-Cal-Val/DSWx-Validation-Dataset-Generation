{
 "cells": [
  {
   "cell_type": "markdown",
   "metadata": {},
   "source": [
    "# Download Classification and Manually Edit"
   ]
  },
  {
   "cell_type": "code",
   "execution_count": 15,
   "metadata": {
    "ExecuteTime": {
     "end_time": "2022-09-20T17:25:04.600612Z",
     "start_time": "2022-09-20T17:25:04.593686Z"
    }
   },
   "outputs": [],
   "source": [
    "import geopandas as gpd\n",
    "import boto3\n",
    "import os\n",
    "from tools.addImageCalc import addImageCalc\n",
    "from pathlib import Path"
   ]
  },
  {
   "cell_type": "markdown",
   "metadata": {},
   "source": [
    "### User defines the validation site and the directory where files will be downloaded"
   ]
  },
  {
   "cell_type": "code",
   "execution_count": 16,
   "metadata": {
    "ExecuteTime": {
     "end_time": "2022-09-20T17:25:04.939620Z",
     "start_time": "2022-09-20T17:25:04.936912Z"
    }
   },
   "outputs": [],
   "source": [
    "#Only specify one. Leave the other as ''. If more than one planet image for given chip, PLANET_ID must be specified\n",
    "PLANET_ID = ''\n",
    "SITE_NAME = '3_8'\n",
    "assert((len(PLANET_ID) == 0) ^ (len(SITE_NAME) == 0))"
   ]
  },
  {
   "cell_type": "markdown",
   "metadata": {},
   "source": [
    "### Open AWS session and read image and image_calc tables"
   ]
  },
  {
   "cell_type": "code",
   "execution_count": 23,
   "metadata": {
    "ExecuteTime": {
     "end_time": "2022-09-20T17:25:45.560576Z",
     "start_time": "2022-09-20T17:25:45.393105Z"
    }
   },
   "outputs": [],
   "source": [
    "os.environ[\"AWS_NO_SIGN_REQUEST\"] = \"YES\"\n",
    "\n",
    "session = boto3.session.Session()\n",
    "s3 = session.resource('s3')\n",
    "s3_client = session.client('s3')"
   ]
  },
  {
   "cell_type": "code",
   "execution_count": 24,
   "metadata": {
    "ExecuteTime": {
     "end_time": "2022-09-20T17:25:45.794855Z",
     "start_time": "2022-09-20T17:25:45.792410Z"
    }
   },
   "outputs": [],
   "source": [
    "bucket_name = 'opera-calval-database-dswx'"
   ]
  },
  {
   "cell_type": "code",
   "execution_count": 25,
   "metadata": {
    "ExecuteTime": {
     "end_time": "2022-09-20T17:25:46.561204Z",
     "start_time": "2022-09-20T17:25:45.984275Z"
    }
   },
   "outputs": [],
   "source": [
    "obj = s3.Object(bucket_name,'image.geojson')\n",
    "image_table_data = obj.get()['Body']\n",
    "imageTable = gpd.read_file(image_table_data)"
   ]
  },
  {
   "cell_type": "code",
   "execution_count": 26,
   "metadata": {
    "ExecuteTime": {
     "end_time": "2022-09-20T17:25:46.739001Z",
     "start_time": "2022-09-20T17:25:46.563075Z"
    }
   },
   "outputs": [],
   "source": [
    "obj = s3.Object(bucket_name,'image_calc.geojson')\n",
    "image_table_data = obj.get()['Body']\n",
    "image_calcs = gpd.read_file(image_table_data)"
   ]
  },
  {
   "cell_type": "code",
   "execution_count": 27,
   "metadata": {
    "ExecuteTime": {
     "end_time": "2022-09-20T17:25:46.747954Z",
     "start_time": "2022-09-20T17:25:46.740971Z"
    }
   },
   "outputs": [
    {
     "name": "stdout",
     "output_type": "stream",
     "text": [
      "There was 1 planet images for this chip\n"
     ]
    },
    {
     "data": {
      "text/plain": [
       "('3_8', '20211010_135831_84_227e')"
      ]
     },
     "execution_count": 27,
     "metadata": {},
     "output_type": "execute_result"
    }
   ],
   "source": [
    "# This cell will show the number of planet images found for a given chip. If more than one, ensure the printed Planet\n",
    "# ID matches the planet image used to generate the classification\n",
    "temp = imageTable[['image_name', 'site_name']]\n",
    "df_site2image = temp.set_index('site_name')\n",
    "df_image2site = temp.set_index('image_name')\n",
    "if not PLANET_ID:\n",
    "    values = PLANET_ID = df_site2image.loc[SITE_NAME].tolist()\n",
    "    PLANET_ID = values[0]\n",
    "    print(f'There was {len(values)} planet images for this chip')\n",
    "else:\n",
    "    values = df_image2site.loc[PLANET_ID].tolist()\n",
    "    SITE_NAME = values[0]\n",
    "    print(f'There were {len(values)} chips for this planet_image')\n",
    "\n",
    "(SITE_NAME, PLANET_ID)"
   ]
  },
  {
   "cell_type": "code",
   "execution_count": 28,
   "metadata": {
    "ExecuteTime": {
     "end_time": "2022-09-20T17:25:46.752009Z",
     "start_time": "2022-09-20T17:25:46.749523Z"
    }
   },
   "outputs": [],
   "source": [
    "#Local directory where classification file(s) are located\n",
    "download_dir = Path(f'planet_images_cropped/{PLANET_ID}').absolute()\n",
    "download_dir.mkdir(exist_ok=True, parents=True)"
   ]
  },
  {
   "cell_type": "code",
   "execution_count": 29,
   "metadata": {
    "ExecuteTime": {
     "end_time": "2022-09-20T17:25:46.842582Z",
     "start_time": "2022-09-20T17:25:46.839670Z"
    }
   },
   "outputs": [],
   "source": [
    "def downloadImage_calc(row,download_dir):\n",
    "    bucket = row.bucket.iloc[0]\n",
    "    keys = row.s3_keys.iloc[0]\n",
    "    keys = keys.split(',')\n",
    "    for key in keys:\n",
    "        filename = key.split('/')[-1]\n",
    "        response = s3_client.download_file(bucket,\n",
    "                                           key,\n",
    "                                           str(download_dir / filename))"
   ]
  },
  {
   "cell_type": "markdown",
   "metadata": {},
   "source": [
    "### Search for specific image and classified image for the defined validation site"
   ]
  },
  {
   "cell_type": "code",
   "execution_count": 30,
   "metadata": {
    "ExecuteTime": {
     "end_time": "2022-09-20T17:25:47.269795Z",
     "start_time": "2022-09-20T17:25:47.256063Z"
    }
   },
   "outputs": [
    {
     "data": {
      "text/html": [
       "<div>\n",
       "<style scoped>\n",
       "    .dataframe tbody tr th:only-of-type {\n",
       "        vertical-align: middle;\n",
       "    }\n",
       "\n",
       "    .dataframe tbody tr th {\n",
       "        vertical-align: top;\n",
       "    }\n",
       "\n",
       "    .dataframe thead th {\n",
       "        text-align: right;\n",
       "    }\n",
       "</style>\n",
       "<table border=\"1\" class=\"dataframe\">\n",
       "  <thead>\n",
       "    <tr style=\"text-align: right;\">\n",
       "      <th></th>\n",
       "      <th>bucket</th>\n",
       "      <th>calc_type</th>\n",
       "      <th>calculated_by</th>\n",
       "      <th>image_calc_name</th>\n",
       "      <th>image_name</th>\n",
       "      <th>notes</th>\n",
       "      <th>oversight_level</th>\n",
       "      <th>previous_name</th>\n",
       "      <th>processing_level</th>\n",
       "      <th>public</th>\n",
       "      <th>reviewed_by</th>\n",
       "      <th>s3_keys</th>\n",
       "      <th>upload_date</th>\n",
       "      <th>version</th>\n",
       "      <th>geometry</th>\n",
       "    </tr>\n",
       "  </thead>\n",
       "  <tbody>\n",
       "    <tr>\n",
       "      <th>11</th>\n",
       "      <td>opera-calval-database-dswx</td>\n",
       "      <td>Supervised Classification</td>\n",
       "      <td>Alexander Handwerger</td>\n",
       "      <td>20211010_135831_84_227e_class</td>\n",
       "      <td>20211010_135831_84_227e</td>\n",
       "      <td>None</td>\n",
       "      <td>None</td>\n",
       "      <td>None</td>\n",
       "      <td>Intermediate</td>\n",
       "      <td>True</td>\n",
       "      <td>None</td>\n",
       "      <td>data/site/3_8/image/20211010_135831_84_227e/im...</td>\n",
       "      <td>20220809_091703</td>\n",
       "      <td>NaN</td>\n",
       "      <td>POLYGON ((-64.96109 -11.14220, -64.99808 -11.3...</td>\n",
       "    </tr>\n",
       "    <tr>\n",
       "      <th>15</th>\n",
       "      <td>opera-calval-database-dswx</td>\n",
       "      <td>Manual classification</td>\n",
       "      <td>Alexander Handwerger</td>\n",
       "      <td>20211010_135831_84_227e_classification_v1</td>\n",
       "      <td>20211010_135831_84_227e</td>\n",
       "      <td>Supervised Classification using Semi-automatic...</td>\n",
       "      <td>None</td>\n",
       "      <td>None</td>\n",
       "      <td>Intermediate</td>\n",
       "      <td>True</td>\n",
       "      <td>None</td>\n",
       "      <td>data/site/3_8/image/20211010_135831_84_227e/im...</td>\n",
       "      <td>20220916_160006</td>\n",
       "      <td>1.0</td>\n",
       "      <td>POLYGON ((-64.81607 -11.29998, -64.81607 -11.2...</td>\n",
       "    </tr>\n",
       "  </tbody>\n",
       "</table>\n",
       "</div>"
      ],
      "text/plain": [
       "                        bucket                  calc_type  \\\n",
       "11  opera-calval-database-dswx  Supervised Classification   \n",
       "15  opera-calval-database-dswx      Manual classification   \n",
       "\n",
       "           calculated_by                            image_calc_name  \\\n",
       "11  Alexander Handwerger              20211010_135831_84_227e_class   \n",
       "15  Alexander Handwerger  20211010_135831_84_227e_classification_v1   \n",
       "\n",
       "                 image_name  \\\n",
       "11  20211010_135831_84_227e   \n",
       "15  20211010_135831_84_227e   \n",
       "\n",
       "                                                notes oversight_level  \\\n",
       "11                                               None            None   \n",
       "15  Supervised Classification using Semi-automatic...            None   \n",
       "\n",
       "   previous_name processing_level public reviewed_by  \\\n",
       "11          None     Intermediate   True        None   \n",
       "15          None     Intermediate   True        None   \n",
       "\n",
       "                                              s3_keys      upload_date  \\\n",
       "11  data/site/3_8/image/20211010_135831_84_227e/im...  20220809_091703   \n",
       "15  data/site/3_8/image/20211010_135831_84_227e/im...  20220916_160006   \n",
       "\n",
       "    version                                           geometry  \n",
       "11      NaN  POLYGON ((-64.96109 -11.14220, -64.99808 -11.3...  \n",
       "15      1.0  POLYGON ((-64.81607 -11.29998, -64.81607 -11.2...  "
      ]
     },
     "execution_count": 30,
     "metadata": {},
     "output_type": "execute_result"
    }
   ],
   "source": [
    "#This cell shows all classifications of specified planet image\n",
    "search = image_calcs[image_calcs.image_name == PLANET_ID]\n",
    "search.head(20)"
   ]
  },
  {
   "cell_type": "code",
   "execution_count": 31,
   "metadata": {
    "ExecuteTime": {
     "end_time": "2022-09-20T17:25:47.502099Z",
     "start_time": "2022-09-20T17:25:47.487927Z"
    }
   },
   "outputs": [
    {
     "data": {
      "text/html": [
       "<div>\n",
       "<style scoped>\n",
       "    .dataframe tbody tr th:only-of-type {\n",
       "        vertical-align: middle;\n",
       "    }\n",
       "\n",
       "    .dataframe tbody tr th {\n",
       "        vertical-align: top;\n",
       "    }\n",
       "\n",
       "    .dataframe thead th {\n",
       "        text-align: right;\n",
       "    }\n",
       "</style>\n",
       "<table border=\"1\" class=\"dataframe\">\n",
       "  <thead>\n",
       "    <tr style=\"text-align: right;\">\n",
       "      <th></th>\n",
       "      <th>bucket</th>\n",
       "      <th>calc_type</th>\n",
       "      <th>calculated_by</th>\n",
       "      <th>image_calc_name</th>\n",
       "      <th>image_name</th>\n",
       "      <th>notes</th>\n",
       "      <th>oversight_level</th>\n",
       "      <th>previous_name</th>\n",
       "      <th>processing_level</th>\n",
       "      <th>public</th>\n",
       "      <th>reviewed_by</th>\n",
       "      <th>s3_keys</th>\n",
       "      <th>upload_date</th>\n",
       "      <th>version</th>\n",
       "      <th>geometry</th>\n",
       "    </tr>\n",
       "  </thead>\n",
       "  <tbody>\n",
       "    <tr>\n",
       "      <th>15</th>\n",
       "      <td>opera-calval-database-dswx</td>\n",
       "      <td>Manual classification</td>\n",
       "      <td>Alexander Handwerger</td>\n",
       "      <td>20211010_135831_84_227e_classification_v1</td>\n",
       "      <td>20211010_135831_84_227e</td>\n",
       "      <td>Supervised Classification using Semi-automatic...</td>\n",
       "      <td>None</td>\n",
       "      <td>None</td>\n",
       "      <td>Intermediate</td>\n",
       "      <td>True</td>\n",
       "      <td>None</td>\n",
       "      <td>data/site/3_8/image/20211010_135831_84_227e/im...</td>\n",
       "      <td>20220916_160006</td>\n",
       "      <td>1.0</td>\n",
       "      <td>POLYGON ((-64.81607 -11.29998, -64.81607 -11.2...</td>\n",
       "    </tr>\n",
       "  </tbody>\n",
       "</table>\n",
       "</div>"
      ],
      "text/plain": [
       "                        bucket              calc_type         calculated_by  \\\n",
       "15  opera-calval-database-dswx  Manual classification  Alexander Handwerger   \n",
       "\n",
       "                              image_calc_name               image_name  \\\n",
       "15  20211010_135831_84_227e_classification_v1  20211010_135831_84_227e   \n",
       "\n",
       "                                                notes oversight_level  \\\n",
       "15  Supervised Classification using Semi-automatic...            None   \n",
       "\n",
       "   previous_name processing_level public reviewed_by  \\\n",
       "15          None     Intermediate   True        None   \n",
       "\n",
       "                                              s3_keys      upload_date  \\\n",
       "15  data/site/3_8/image/20211010_135831_84_227e/im...  20220916_160006   \n",
       "\n",
       "    version                                           geometry  \n",
       "15      1.0  POLYGON ((-64.81607 -11.29998, -64.81607 -11.2...  "
      ]
     },
     "execution_count": 31,
     "metadata": {},
     "output_type": "execute_result"
    }
   ],
   "source": [
    "#This cell selects the classificaiton with the highest 'version' value (i.e. the most recent version)\n",
    "search = search[search.version==search['version'].max()]\n",
    "imagecalc_row = search.iloc[[0]]\n",
    "imagecalc_row.head()"
   ]
  },
  {
   "cell_type": "markdown",
   "metadata": {},
   "source": [
    "## Download Metadata \n",
    "\n",
    "Label it by version"
   ]
  },
  {
   "cell_type": "code",
   "execution_count": 32,
   "metadata": {
    "ExecuteTime": {
     "end_time": "2022-09-20T17:25:48.060130Z",
     "start_time": "2022-09-20T17:25:48.048484Z"
    }
   },
   "outputs": [],
   "source": [
    "image_calc_name = imagecalc_row.image_calc_name.iloc[0]\n",
    "version = imagecalc_row.version.iloc[0]\n",
    "imagecalc_row.to_file(download_dir / f'metadata_{PLANET_ID}_v{version}.geojson', driver='GeoJSON')"
   ]
  },
  {
   "cell_type": "markdown",
   "metadata": {},
   "source": [
    "### Download classified image to the specified directory"
   ]
  },
  {
   "cell_type": "code",
   "execution_count": 33,
   "metadata": {
    "ExecuteTime": {
     "end_time": "2022-09-20T17:25:49.802631Z",
     "start_time": "2022-09-20T17:25:48.912123Z"
    }
   },
   "outputs": [],
   "source": [
    "downloadImage_calc(imagecalc_row,download_dir)"
   ]
  }
 ],
 "metadata": {
  "kernelspec": {
   "display_name": "Python 3",
   "language": "python",
   "name": "python3"
  },
  "language_info": {
   "codemirror_mode": {
    "name": "ipython",
    "version": 3
   },
   "file_extension": ".py",
   "mimetype": "text/x-python",
   "name": "python",
   "nbconvert_exporter": "python",
   "pygments_lexer": "ipython3",
   "version": "3.8.5"
  }
 },
 "nbformat": 4,
 "nbformat_minor": 2
}
