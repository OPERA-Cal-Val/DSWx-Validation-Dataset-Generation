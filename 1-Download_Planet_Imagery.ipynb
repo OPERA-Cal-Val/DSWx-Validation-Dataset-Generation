{
 "cells": [
  {
   "cell_type": "markdown",
   "metadata": {},
   "source": [
    "# Download Planet Imagery\n",
    "\n",
    "This notebook shows how to download planet imagery using the Planet API using the validation table."
   ]
  },
  {
   "cell_type": "code",
   "execution_count": 1,
   "metadata": {
    "ExecuteTime": {
     "end_time": "2022-09-22T20:11:59.446525Z",
     "start_time": "2022-09-22T20:11:57.340197Z"
    }
   },
   "outputs": [
    {
     "name": "stderr",
     "output_type": "stream",
     "text": [
      "/var/folders/8n/5vt18h_951x4s3gkft9856s52mqg85/T/ipykernel_72809/3810697560.py:2: ClientV1DeprecationWarning: The planet.api module is deprecated and will be removed in version 2.0.0. For more details please see the discussion at https://github.com/planetlabs/planet-client-python/discussions.\n",
      "  from planet import api\n"
     ]
    }
   ],
   "source": [
    "import geopandas as gpd\n",
    "from planet import api\n",
    "from planet.api import downloader\n",
    "from planet.api.downloader import create\n",
    "import os\n",
    "import rasterio\n",
    "from pathlib import Path\n",
    "from dotenv import dotenv_values\n",
    "from rasterio.plot import show\n",
    "import matplotlib.pyplot as plt\n",
    "import pandas as pd\n",
    "from rasterio.warp import transform_bounds"
   ]
  },
  {
   "cell_type": "markdown",
   "metadata": {},
   "source": [
    "# Parameters\n",
    "\n",
    "Specify *exactly* one. The `site_name` or the `planet_id`. The former is given to the chip by the validation team. Because we are not selecting multiple planet scenes per chip and not selecting planet images that cover multiple chips (they are sufficiently spaced apart), this should be a 1 to 1 mapping."
   ]
  },
  {
   "cell_type": "code",
   "execution_count": 2,
   "metadata": {
    "ExecuteTime": {
     "end_time": "2022-09-22T20:11:59.450966Z",
     "start_time": "2022-09-22T20:11:59.448500Z"
    }
   },
   "outputs": [],
   "source": [
    "PLANET_ID = ''\n",
    "SITE_NAME = '3_12'\n",
    "\n",
    "# ^ is exclusive or; makes sure you only specified one\n",
    "assert((len(PLANET_ID) == 0) ^ (len(SITE_NAME) == 0))"
   ]
  },
  {
   "cell_type": "markdown",
   "metadata": {},
   "source": [
    "# Environment\n",
    "\n",
    "Ensure we can make AWS anonymous requests and obtain the planet API key."
   ]
  },
  {
   "cell_type": "code",
   "execution_count": 3,
   "metadata": {
    "ExecuteTime": {
     "end_time": "2022-09-22T20:11:59.456361Z",
     "start_time": "2022-09-22T20:11:59.452905Z"
    }
   },
   "outputs": [],
   "source": [
    "os.environ[\"AWS_NO_SIGN_REQUEST\"] = \"YES\"\n",
    "\n",
    "config = dotenv_values()\n",
    "PLANET_API_KEY = config['PLANET_API_KEY']"
   ]
  },
  {
   "cell_type": "markdown",
   "metadata": {},
   "source": [
    "# Get Image Database"
   ]
  },
  {
   "cell_type": "code",
   "execution_count": 7,
   "metadata": {
    "ExecuteTime": {
     "end_time": "2022-09-22T20:12:00.276567Z",
     "start_time": "2022-09-22T20:11:59.458990Z"
    }
   },
   "outputs": [
    {
     "data": {
      "text/html": [
       "<div>\n",
       "<style scoped>\n",
       "    .dataframe tbody tr th:only-of-type {\n",
       "        vertical-align: middle;\n",
       "    }\n",
       "\n",
       "    .dataframe tbody tr th {\n",
       "        vertical-align: top;\n",
       "    }\n",
       "\n",
       "    .dataframe thead th {\n",
       "        text-align: right;\n",
       "    }\n",
       "</style>\n",
       "<table border=\"1\" class=\"dataframe\">\n",
       "  <thead>\n",
       "    <tr style=\"text-align: right;\">\n",
       "      <th></th>\n",
       "      <th>collocated_dswx</th>\n",
       "      <th>dswx_cloud_cover</th>\n",
       "      <th>datetime</th>\n",
       "      <th>image_name</th>\n",
       "      <th>cloud_cover</th>\n",
       "      <th>site_coverage</th>\n",
       "      <th>instrument</th>\n",
       "      <th>provider</th>\n",
       "      <th>resolution</th>\n",
       "      <th>timeDelta_days</th>\n",
       "      <th>site_name</th>\n",
       "      <th>Strata</th>\n",
       "      <th>geometry</th>\n",
       "    </tr>\n",
       "  </thead>\n",
       "  <tbody>\n",
       "    <tr>\n",
       "      <th>24</th>\n",
       "      <td>HLS.S30.T44ULD.2021300T054929.v2.0</td>\n",
       "      <td>2.0</td>\n",
       "      <td>2021-10-28 04:54:55.028000+00:00</td>\n",
       "      <td>20211028_045455_02_2459</td>\n",
       "      <td>0.0</td>\n",
       "      <td>100.0</td>\n",
       "      <td>PSB.SD</td>\n",
       "      <td>planetscope</td>\n",
       "      <td>3.0</td>\n",
       "      <td>0.958691</td>\n",
       "      <td>3_12</td>\n",
       "      <td>3.0</td>\n",
       "      <td>POLYGON ((78.44116 53.15357, 78.36138 52.96335...</td>\n",
       "    </tr>\n",
       "  </tbody>\n",
       "</table>\n",
       "</div>"
      ],
      "text/plain": [
       "                       collocated_dswx  dswx_cloud_cover  \\\n",
       "24  HLS.S30.T44ULD.2021300T054929.v2.0               2.0   \n",
       "\n",
       "                           datetime               image_name  cloud_cover  \\\n",
       "24 2021-10-28 04:54:55.028000+00:00  20211028_045455_02_2459          0.0   \n",
       "\n",
       "    site_coverage instrument     provider  resolution  timeDelta_days  \\\n",
       "24          100.0     PSB.SD  planetscope         3.0        0.958691   \n",
       "\n",
       "   site_name  Strata                                           geometry  \n",
       "24      3_12     3.0  POLYGON ((78.44116 53.15357, 78.36138 52.96335...  "
      ]
     },
     "execution_count": 7,
     "metadata": {},
     "output_type": "execute_result"
    }
   ],
   "source": [
    "df_images = gpd.read_file('s3://opera-calval-database-dswx/image.geojson')\n",
    "df_images.dropna(inplace=True)\n",
    "#df_images.head()\n",
    "df_images[df_images.site_name == SITE_NAME]"
   ]
  },
  {
   "cell_type": "code",
   "execution_count": 12,
   "metadata": {
    "ExecuteTime": {
     "end_time": "2022-09-22T20:12:00.286314Z",
     "start_time": "2022-09-22T20:12:00.278260Z"
    }
   },
   "outputs": [
    {
     "data": {
      "text/html": [
       "<div>\n",
       "<style scoped>\n",
       "    .dataframe tbody tr th:only-of-type {\n",
       "        vertical-align: middle;\n",
       "    }\n",
       "\n",
       "    .dataframe tbody tr th {\n",
       "        vertical-align: top;\n",
       "    }\n",
       "\n",
       "    .dataframe thead th {\n",
       "        text-align: right;\n",
       "    }\n",
       "</style>\n",
       "<table border=\"1\" class=\"dataframe\">\n",
       "  <thead>\n",
       "    <tr style=\"text-align: right;\">\n",
       "      <th></th>\n",
       "      <th>image_name</th>\n",
       "    </tr>\n",
       "    <tr>\n",
       "      <th>site_name</th>\n",
       "      <th></th>\n",
       "    </tr>\n",
       "  </thead>\n",
       "  <tbody>\n",
       "    <tr>\n",
       "      <th>3_38</th>\n",
       "      <td>20210929_212809_16_2442</td>\n",
       "    </tr>\n",
       "    <tr>\n",
       "      <th>4_43</th>\n",
       "      <td>20210927_095537_0f15</td>\n",
       "    </tr>\n",
       "    <tr>\n",
       "      <th>3_1</th>\n",
       "      <td>20210925_072712_16_2254</td>\n",
       "    </tr>\n",
       "    <tr>\n",
       "      <th>4_34</th>\n",
       "      <td>20210901_175205_71_2426</td>\n",
       "    </tr>\n",
       "    <tr>\n",
       "      <th>3_30</th>\n",
       "      <td>20210911_005129_82_106a</td>\n",
       "    </tr>\n",
       "  </tbody>\n",
       "</table>\n",
       "</div>"
      ],
      "text/plain": [
       "                        image_name\n",
       "site_name                         \n",
       "3_38       20210929_212809_16_2442\n",
       "4_43          20210927_095537_0f15\n",
       "3_1        20210925_072712_16_2254\n",
       "4_34       20210901_175205_71_2426\n",
       "3_30       20210911_005129_82_106a"
      ]
     },
     "execution_count": 12,
     "metadata": {},
     "output_type": "execute_result"
    }
   ],
   "source": [
    "temp = df_images[['image_name', 'site_name']]\n",
    "df_site2image = temp.set_index('site_name')\n",
    "df_image2site = temp.set_index('image_name')\n",
    "df_site2image.head()\n"
   ]
  },
  {
   "cell_type": "code",
   "execution_count": 13,
   "metadata": {
    "ExecuteTime": {
     "end_time": "2022-09-22T20:12:00.292785Z",
     "start_time": "2022-09-22T20:12:00.288321Z"
    }
   },
   "outputs": [
    {
     "name": "stdout",
     "output_type": "stream",
     "text": [
      "There was 1 planet images for this chip\n"
     ]
    },
    {
     "data": {
      "text/plain": [
       "('3_12', '20211028_045455_02_2459')"
      ]
     },
     "execution_count": 13,
     "metadata": {},
     "output_type": "execute_result"
    }
   ],
   "source": [
    "if not PLANET_ID:\n",
    "    values = PLANET_ID = df_site2image.loc[SITE_NAME].tolist()\n",
    "    PLANET_ID = values[0]\n",
    "    print(f'There was {len(values)} planet images for this chip')\n",
    "else:\n",
    "    values = df_image2site.loc[PLANET_ID].tolist()\n",
    "    SITE_NAME = values[0]\n",
    "    print(f'There were {len(values)} chips for this planet_image')\n",
    "\n",
    "(SITE_NAME, PLANET_ID)"
   ]
  },
  {
   "cell_type": "code",
   "execution_count": 14,
   "metadata": {
    "ExecuteTime": {
     "end_time": "2022-09-22T20:12:01.035935Z",
     "start_time": "2022-09-22T20:12:01.033128Z"
    }
   },
   "outputs": [],
   "source": [
    "data_dir = Path(f'data/{PLANET_ID}/')\n",
    "data_dir.mkdir(exist_ok=True, parents=True)"
   ]
  },
  {
   "cell_type": "markdown",
   "metadata": {
    "ExecuteTime": {
     "end_time": "2022-09-13T20:49:35.990381Z",
     "start_time": "2022-09-13T20:49:35.990368Z"
    }
   },
   "source": [
    "# Download\n",
    "\n",
    "These are async functions. You will not only have to interrupt the kernel, but also run `downloader.shutdown()` to re-run this section. Currently, they are commented out."
   ]
  },
  {
   "cell_type": "code",
   "execution_count": 15,
   "metadata": {
    "ExecuteTime": {
     "end_time": "2022-09-22T20:12:16.444120Z",
     "start_time": "2022-09-22T20:12:16.441678Z"
    }
   },
   "outputs": [],
   "source": [
    "ITEM_TYPE = 'PSScene'\n",
    "ASSET_TYPES = ['ortho_analytic_8b_sr', \n",
    "               'ortho_analytic_8b_xml']\n",
    "\n",
    "# Uncomment if the 8 band above is not available.\n",
    "# ASSET_TYPES = ['ortho_analytic_4b_sr', \n",
    "#                'ortho_analytic_4b_xml']"
   ]
  },
  {
   "cell_type": "markdown",
   "metadata": {},
   "source": [
    "**Important Note**: if you notice that when you attempt to download imagery, nothing happens - it will be because the 8 band asset is not available. Unfortunately, the below will \"fail silently\"."
   ]
  },
  {
   "cell_type": "code",
   "execution_count": 16,
   "metadata": {
    "ExecuteTime": {
     "end_time": "2022-09-22T20:12:06.941051Z",
     "start_time": "2022-09-22T20:12:06.937109Z"
    }
   },
   "outputs": [
    {
     "data": {
      "text/plain": [
       "<planet.api.downloader._Downloader at 0x1a464afb0>"
      ]
     },
     "execution_count": 16,
     "metadata": {},
     "output_type": "execute_result"
    }
   ],
   "source": [
    "from planet.api import downloader\n",
    "\n",
    "client = api.ClientV1(api_key=PLANET_API_KEY)\n",
    "downloader = downloader.create(client)\n",
    "downloader"
   ]
  },
  {
   "cell_type": "code",
   "execution_count": 17,
   "metadata": {
    "ExecuteTime": {
     "end_time": "2022-09-22T20:12:08.409794Z",
     "start_time": "2022-09-22T20:12:07.873100Z"
    }
   },
   "outputs": [
    {
     "data": {
      "text/plain": [
       "['basic_analytic_4b',\n",
       " 'basic_analytic_4b_rpc',\n",
       " 'basic_analytic_4b_xml',\n",
       " 'basic_analytic_8b',\n",
       " 'basic_analytic_8b_xml',\n",
       " 'basic_udm2',\n",
       " 'ortho_analytic_4b',\n",
       " 'ortho_analytic_4b_sr',\n",
       " 'ortho_analytic_4b_xml',\n",
       " 'ortho_analytic_8b',\n",
       " 'ortho_analytic_8b_sr',\n",
       " 'ortho_analytic_8b_xml',\n",
       " 'ortho_udm2',\n",
       " 'ortho_visual']"
      ]
     },
     "execution_count": 17,
     "metadata": {},
     "output_type": "execute_result"
    }
   ],
   "source": [
    "req = client.get_item(ITEM_TYPE, \n",
    "                      PLANET_ID)\n",
    "resp = req.get()\n",
    "resp['assets']"
   ]
  },
  {
   "cell_type": "code",
   "execution_count": 21,
   "metadata": {
    "ExecuteTime": {
     "end_time": "2022-09-14T18:32:45.443065Z",
     "start_time": "2022-09-14T18:32:45.440610Z"
    }
   },
   "outputs": [],
   "source": [
    "items_to_download = [resp] * len(ASSET_TYPES)"
   ]
  },
  {
   "cell_type": "code",
   "execution_count": 22,
   "metadata": {
    "ExecuteTime": {
     "end_time": "2022-09-14T18:32:47.036036Z",
     "start_time": "2022-09-14T18:32:45.444896Z"
    }
   },
   "outputs": [
    {
     "ename": "KeyboardInterrupt",
     "evalue": "",
     "output_type": "error",
     "traceback": [
      "\u001b[0;31m---------------------------------------------------------------------------\u001b[0m",
      "\u001b[0;31mKeyboardInterrupt\u001b[0m                         Traceback (most recent call last)",
      "\u001b[1;32m/Users/handwerg/Desktop/OPERA/DSWx-Validation-Dataset-Generation/1-Download_Planet_Imagery.ipynb Cell 18\u001b[0m in \u001b[0;36m<cell line: 1>\u001b[0;34m()\u001b[0m\n\u001b[0;32m----> <a href='vscode-notebook-cell:/Users/handwerg/Desktop/OPERA/DSWx-Validation-Dataset-Generation/1-Download_Planet_Imagery.ipynb#ch0000017?line=0'>1</a>\u001b[0m resp_ac \u001b[39m=\u001b[39m downloader\u001b[39m.\u001b[39;49mactivate(\u001b[39miter\u001b[39;49m(items_to_download), ASSET_TYPES)\n\u001b[1;32m      <a href='vscode-notebook-cell:/Users/handwerg/Desktop/OPERA/DSWx-Validation-Dataset-Generation/1-Download_Planet_Imagery.ipynb#ch0000017?line=1'>2</a>\u001b[0m resp_ac\n",
      "File \u001b[0;32m~/tools/miniconda3/envs/dswx_val/lib/python3.10/site-packages/planet/api/downloader.py:355\u001b[0m, in \u001b[0;36m_Downloader.activate\u001b[0;34m(self, items, asset_types)\u001b[0m\n\u001b[1;32m    354\u001b[0m \u001b[39mdef\u001b[39;00m \u001b[39mactivate\u001b[39m(\u001b[39mself\u001b[39m, items, asset_types):\n\u001b[0;32m--> 355\u001b[0m     \u001b[39mreturn\u001b[39;00m \u001b[39mself\u001b[39;49m\u001b[39m.\u001b[39;49m_run(items, asset_types)\n",
      "File \u001b[0;32m~/tools/miniconda3/envs/dswx_val/lib/python3.10/site-packages/planet/api/downloader.py:388\u001b[0m, in \u001b[0;36m_Downloader._run\u001b[0;34m(self, items, asset_types, dest)\u001b[0m\n\u001b[1;32m    386\u001b[0m \u001b[39mwhile\u001b[39;00m \u001b[39mself\u001b[39m\u001b[39m.\u001b[39m_stages:\n\u001b[1;32m    387\u001b[0m     \u001b[39mtry\u001b[39;00m:\n\u001b[0;32m--> 388\u001b[0m         n \u001b[39m=\u001b[39m last\u001b[39m.\u001b[39;49mnext()\n\u001b[1;32m    389\u001b[0m         \u001b[39mif\u001b[39;00m n \u001b[39mis\u001b[39;00m \u001b[39mFalse\u001b[39;00m:\n\u001b[1;32m    390\u001b[0m             \u001b[39mbreak\u001b[39;00m\n",
      "File \u001b[0;32m~/tools/miniconda3/envs/dswx_val/lib/python3.10/site-packages/planet/api/downloader.py:91\u001b[0m, in \u001b[0;36m_Stage.next\u001b[0;34m(self)\u001b[0m\n\u001b[1;32m     89\u001b[0m \u001b[39mdef\u001b[39;00m \u001b[39mnext\u001b[39m(\u001b[39mself\u001b[39m):\n\u001b[1;32m     90\u001b[0m     \u001b[39mtry\u001b[39;00m:\n\u001b[0;32m---> 91\u001b[0m         \u001b[39mreturn\u001b[39;00m \u001b[39mself\u001b[39;49m\u001b[39m.\u001b[39;49m_results\u001b[39m.\u001b[39;49mget()\n\u001b[1;32m     92\u001b[0m     \u001b[39mexcept\u001b[39;00m queue\u001b[39m.\u001b[39mEmpty:\n\u001b[1;32m     93\u001b[0m         \u001b[39mif\u001b[39;00m \u001b[39mnot\u001b[39;00m \u001b[39mself\u001b[39m\u001b[39m.\u001b[39m_alive():\n",
      "File \u001b[0;32m~/tools/miniconda3/envs/dswx_val/lib/python3.10/queue.py:171\u001b[0m, in \u001b[0;36mQueue.get\u001b[0;34m(self, block, timeout)\u001b[0m\n\u001b[1;32m    169\u001b[0m \u001b[39melif\u001b[39;00m timeout \u001b[39mis\u001b[39;00m \u001b[39mNone\u001b[39;00m:\n\u001b[1;32m    170\u001b[0m     \u001b[39mwhile\u001b[39;00m \u001b[39mnot\u001b[39;00m \u001b[39mself\u001b[39m\u001b[39m.\u001b[39m_qsize():\n\u001b[0;32m--> 171\u001b[0m         \u001b[39mself\u001b[39;49m\u001b[39m.\u001b[39;49mnot_empty\u001b[39m.\u001b[39;49mwait()\n\u001b[1;32m    172\u001b[0m \u001b[39melif\u001b[39;00m timeout \u001b[39m<\u001b[39m \u001b[39m0\u001b[39m:\n\u001b[1;32m    173\u001b[0m     \u001b[39mraise\u001b[39;00m \u001b[39mValueError\u001b[39;00m(\u001b[39m\"\u001b[39m\u001b[39m'\u001b[39m\u001b[39mtimeout\u001b[39m\u001b[39m'\u001b[39m\u001b[39m must be a non-negative number\u001b[39m\u001b[39m\"\u001b[39m)\n",
      "File \u001b[0;32m~/tools/miniconda3/envs/dswx_val/lib/python3.10/threading.py:320\u001b[0m, in \u001b[0;36mCondition.wait\u001b[0;34m(self, timeout)\u001b[0m\n\u001b[1;32m    318\u001b[0m \u001b[39mtry\u001b[39;00m:    \u001b[39m# restore state no matter what (e.g., KeyboardInterrupt)\u001b[39;00m\n\u001b[1;32m    319\u001b[0m     \u001b[39mif\u001b[39;00m timeout \u001b[39mis\u001b[39;00m \u001b[39mNone\u001b[39;00m:\n\u001b[0;32m--> 320\u001b[0m         waiter\u001b[39m.\u001b[39;49macquire()\n\u001b[1;32m    321\u001b[0m         gotit \u001b[39m=\u001b[39m \u001b[39mTrue\u001b[39;00m\n\u001b[1;32m    322\u001b[0m     \u001b[39melse\u001b[39;00m:\n",
      "\u001b[0;31mKeyboardInterrupt\u001b[0m: "
     ]
    }
   ],
   "source": [
    "resp_ac = downloader.activate(iter(items_to_download), ASSET_TYPES)\n",
    "resp_ac"
   ]
  },
  {
   "cell_type": "code",
   "execution_count": 24,
   "metadata": {
    "ExecuteTime": {
     "end_time": "2022-09-14T18:32:47.040533Z",
     "start_time": "2022-09-14T18:32:47.038051Z"
    }
   },
   "outputs": [],
   "source": [
    "#downloader.shutdown()"
   ]
  },
  {
   "cell_type": "code",
   "execution_count": null,
   "metadata": {
    "ExecuteTime": {
     "end_time": "2022-09-14T18:37:46.754445Z",
     "start_time": "2022-09-14T18:32:47.042373Z"
    }
   },
   "outputs": [],
   "source": [
    "resp_dl = downloader.download(iter(items_to_download), ASSET_TYPES, str(data_dir))\n",
    "resp_dl"
   ]
  },
  {
   "cell_type": "code",
   "execution_count": null,
   "metadata": {
    "ExecuteTime": {
     "end_time": "2022-09-14T18:37:46.758472Z",
     "start_time": "2022-09-14T18:37:46.756316Z"
    }
   },
   "outputs": [],
   "source": [
    "#downloader.shutdown()"
   ]
  },
  {
   "cell_type": "markdown",
   "metadata": {},
   "source": [
    "# Check (optional)\n",
    "\n",
    "Let's check the extent of the image tables with the image we downloaded. They should align. "
   ]
  },
  {
   "cell_type": "code",
   "execution_count": null,
   "metadata": {
    "ExecuteTime": {
     "end_time": "2022-09-14T18:37:46.778195Z",
     "start_time": "2022-09-14T18:37:46.760111Z"
    }
   },
   "outputs": [],
   "source": [
    "n = len(PLANET_ID)\n",
    "planet_images = list(data_dir.glob('*.tif'))\n",
    "planet_image_path = list(filter(lambda x: x.name[:n] == PLANET_ID, planet_images))[0]\n",
    "planet_image_path"
   ]
  },
  {
   "cell_type": "code",
   "execution_count": null,
   "metadata": {
    "ExecuteTime": {
     "end_time": "2022-09-14T18:37:56.695215Z",
     "start_time": "2022-09-14T18:37:46.780043Z"
    }
   },
   "outputs": [],
   "source": [
    "import numpy as np\n",
    "\n",
    "with rasterio.open(planet_image_path) as ds:\n",
    "    planet_crs = ds.crs\n",
    "    full_planet_image = ds.read(1).astype(float)\n",
    "    nodata = ds.nodata\n",
    "    profile = ds.profile\n",
    "    \n",
    "full_planet_image[full_planet_image == nodata] = np.nan"
   ]
  },
  {
   "cell_type": "code",
   "execution_count": null,
   "metadata": {
    "ExecuteTime": {
     "end_time": "2022-09-14T18:37:56.705899Z",
     "start_time": "2022-09-14T18:37:56.696996Z"
    }
   },
   "outputs": [],
   "source": [
    "df_image = df_images[df_images.image_name == PLANET_ID]\n",
    "df_image_utm = df_image.to_crs(planet_crs)"
   ]
  },
  {
   "cell_type": "code",
   "execution_count": null,
   "metadata": {
    "ExecuteTime": {
     "end_time": "2022-09-14T18:38:08.103835Z",
     "start_time": "2022-09-14T18:37:56.707676Z"
    }
   },
   "outputs": [],
   "source": [
    "fig, ax = plt.subplots()\n",
    "show(full_planet_image, transform=profile['transform'], ax=ax)\n",
    "df_image_utm.boundary.plot(ax=ax, color='yellow')"
   ]
  },
  {
   "cell_type": "markdown",
   "metadata": {
    "ExecuteTime": {
     "end_time": "2022-09-14T00:53:59.395492Z",
     "start_time": "2022-09-14T00:53:59.391948Z"
    }
   },
   "source": [
    "The yellow line is the boundary of the image in the table."
   ]
  }
 ],
 "metadata": {
  "kernelspec": {
   "display_name": "Python 3.10.6 ('dswx_val')",
   "language": "python",
   "name": "python3"
  },
  "language_info": {
   "codemirror_mode": {
    "name": "ipython",
    "version": 3
   },
   "file_extension": ".py",
   "mimetype": "text/x-python",
   "name": "python",
   "nbconvert_exporter": "python",
   "pygments_lexer": "ipython3",
   "version": "3.10.6"
  },
  "vscode": {
   "interpreter": {
    "hash": "f3ecaeea16fcf69a6486b5ca39899bef74685bea827dd91d1d58fb17902e42ce"
   }
  }
 },
 "nbformat": 4,
 "nbformat_minor": 2
}
