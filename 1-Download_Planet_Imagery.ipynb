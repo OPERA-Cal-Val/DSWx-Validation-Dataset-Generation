{
 "cells": [
  {
   "cell_type": "markdown",
   "metadata": {},
   "source": [
    "# Download Planet Imagery\n",
    "\n",
    "This notebook shows how to download planet imagery using the Planet API using the validation table."
   ]
  },
  {
   "cell_type": "code",
   "execution_count": null,
   "metadata": {
    "ExecuteTime": {
     "end_time": "2022-09-22T20:11:59.446525Z",
     "start_time": "2022-09-22T20:11:57.340197Z"
    }
   },
   "outputs": [],
   "source": [
    "import geopandas as gpd\n",
    "from planet import api\n",
    "from planet.api import downloader\n",
    "from planet.api.downloader import create\n",
    "import os\n",
    "import rasterio\n",
    "from pathlib import Path\n",
    "from dotenv import dotenv_values\n",
    "from rasterio.plot import show\n",
    "import matplotlib.pyplot as plt\n",
    "import pandas as pd\n",
    "from rasterio.warp import transform_bounds"
   ]
  },
  {
   "cell_type": "markdown",
   "metadata": {},
   "source": [
    "# Parameters\n",
    "\n",
    "Specify *exactly* one. The `site_name` or the `planet_id`. The former is given to the chip by the validation team. Because we are not selecting multiple planet scenes per chip and not selecting planet images that cover multiple chips (they are sufficiently spaced apart), this should be a 1 to 1 mapping."
   ]
  },
  {
   "cell_type": "code",
   "execution_count": null,
   "metadata": {
    "ExecuteTime": {
     "end_time": "2022-09-22T20:11:59.450966Z",
     "start_time": "2022-09-22T20:11:59.448500Z"
    }
   },
   "outputs": [],
   "source": [
    "PLANET_ID = ''\n",
    "SITE_NAME = '3_28'\n",
    "\n",
    "# ^ is exclusive or; makes sure you only specified one\n",
    "assert((len(PLANET_ID) == 0) ^ (len(SITE_NAME) == 0))"
   ]
  },
  {
   "cell_type": "markdown",
   "metadata": {},
   "source": [
    "# Environment\n",
    "\n",
    "Ensure we can make AWS anonymous requests and obtain the planet API key."
   ]
  },
  {
   "cell_type": "code",
   "execution_count": null,
   "metadata": {
    "ExecuteTime": {
     "end_time": "2022-09-22T20:11:59.456361Z",
     "start_time": "2022-09-22T20:11:59.452905Z"
    }
   },
   "outputs": [],
   "source": [
    "os.environ[\"AWS_NO_SIGN_REQUEST\"] = \"YES\"\n",
    "\n",
    "config = dotenv_values()\n",
    "PLANET_API_KEY = config['PLANET_API_KEY']"
   ]
  },
  {
   "cell_type": "markdown",
   "metadata": {},
   "source": [
    "# Get Image Database"
   ]
  },
  {
   "cell_type": "code",
   "execution_count": null,
   "metadata": {
    "ExecuteTime": {
     "end_time": "2022-09-22T20:12:00.276567Z",
     "start_time": "2022-09-22T20:11:59.458990Z"
    }
   },
   "outputs": [],
   "source": [
    "df_images = gpd.read_file('s3://opera-calval-database-dswx/image.geojson')\n",
    "df_images.dropna(inplace=True)\n",
    "df_images.head()"
   ]
  },
  {
   "cell_type": "code",
   "execution_count": null,
   "metadata": {
    "ExecuteTime": {
     "end_time": "2022-09-22T20:12:00.286314Z",
     "start_time": "2022-09-22T20:12:00.278260Z"
    }
   },
   "outputs": [],
   "source": [
    "temp = df_images[['image_name', 'site_name']]\n",
    "df_site2image = temp.set_index('site_name')\n",
    "df_image2site = temp.set_index('image_name')\n",
    "df_site2image.head()"
   ]
  },
  {
   "cell_type": "code",
   "execution_count": null,
   "metadata": {
    "ExecuteTime": {
     "end_time": "2022-09-22T20:12:00.292785Z",
     "start_time": "2022-09-22T20:12:00.288321Z"
    }
   },
   "outputs": [],
   "source": [
    "if not PLANET_ID:\n",
    "    values = PLANET_ID = df_site2image.loc[SITE_NAME].tolist()\n",
    "    PLANET_ID = values[0]\n",
    "    print(f'There was {len(values)} planet images for this chip')\n",
    "else:\n",
    "    values = df_image2site.loc[PLANET_ID].tolist()\n",
    "    SITE_NAME = values[0]\n",
    "    print(f'There were {len(values)} chips for this planet_image')\n",
    "\n",
    "(SITE_NAME, PLANET_ID)"
   ]
  },
  {
   "cell_type": "code",
   "execution_count": null,
   "metadata": {
    "ExecuteTime": {
     "end_time": "2022-09-22T20:12:01.035935Z",
     "start_time": "2022-09-22T20:12:01.033128Z"
    }
   },
   "outputs": [],
   "source": [
    "data_dir = Path(f'data/{PLANET_ID}/')\n",
    "data_dir.mkdir(exist_ok=True, parents=True)"
   ]
  },
  {
   "cell_type": "markdown",
   "metadata": {
    "ExecuteTime": {
     "end_time": "2022-09-13T20:49:35.990381Z",
     "start_time": "2022-09-13T20:49:35.990368Z"
    }
   },
   "source": [
    "# Download\n",
    "\n",
    "These are async functions. You will not only have to interrupt the kernel, but also run `downloader.shutdown()` to re-run this section. Currently, they are commented out."
   ]
  },
  {
   "cell_type": "code",
   "execution_count": null,
   "metadata": {
    "ExecuteTime": {
     "end_time": "2022-09-22T20:12:16.444120Z",
     "start_time": "2022-09-22T20:12:16.441678Z"
    }
   },
   "outputs": [],
   "source": [
    "ITEM_TYPE = 'PSScene'\n",
    "ASSET_TYPES = ['ortho_analytic_8b_sr', \n",
    "               'ortho_analytic_8b_xml']\n",
    "\n",
    "# Uncomment if the 8 band above is not available.\n",
    "# ASSET_TYPES = ['ortho_analytic_4b_sr', \n",
    "#                'ortho_analytic_4b_xml']"
   ]
  },
  {
   "cell_type": "markdown",
   "metadata": {},
   "source": [
    "**Important Note**: if you notice that when you attempt to download imagery, nothing happens - it will be because the 8 band assett is not available. Unfortunately, the below will \"fail silently\"."
   ]
  },
  {
   "cell_type": "code",
   "execution_count": null,
   "metadata": {
    "ExecuteTime": {
     "end_time": "2022-09-22T20:12:06.941051Z",
     "start_time": "2022-09-22T20:12:06.937109Z"
    }
   },
   "outputs": [],
   "source": [
    "from planet.api import downloader\n",
    "\n",
    "client = api.ClientV1(api_key=PLANET_API_KEY)\n",
    "downloader = downloader.create(client)\n",
    "downloader"
   ]
  },
  {
   "cell_type": "code",
   "execution_count": null,
   "metadata": {
    "ExecuteTime": {
     "end_time": "2022-09-22T20:12:08.409794Z",
     "start_time": "2022-09-22T20:12:07.873100Z"
    }
   },
   "outputs": [],
   "source": [
    "req = client.get_item(ITEM_TYPE, \n",
    "                      PLANET_ID)\n",
    "resp = req.get()\n",
    "resp['assets']"
   ]
  },
  {
   "cell_type": "code",
   "execution_count": null,
   "metadata": {
    "ExecuteTime": {
     "end_time": "2022-09-14T18:32:45.443065Z",
     "start_time": "2022-09-14T18:32:45.440610Z"
    }
   },
   "outputs": [],
   "source": [
    "items_to_download = [resp] * len(ASSET_TYPES)"
   ]
  },
  {
   "cell_type": "code",
   "execution_count": null,
   "metadata": {
    "ExecuteTime": {
     "end_time": "2022-09-14T18:32:47.036036Z",
     "start_time": "2022-09-14T18:32:45.444896Z"
    }
   },
   "outputs": [],
   "source": [
    "resp_ac = downloader.activate(iter(items_to_download), ASSET_TYPES)\n",
    "resp_ac"
   ]
  },
  {
   "cell_type": "code",
   "execution_count": null,
   "metadata": {
    "ExecuteTime": {
     "end_time": "2022-09-14T18:32:47.040533Z",
     "start_time": "2022-09-14T18:32:47.038051Z"
    }
   },
   "outputs": [],
   "source": [
    "#downloader.shutdown()"
   ]
  },
  {
   "cell_type": "code",
   "execution_count": null,
   "metadata": {
    "ExecuteTime": {
     "end_time": "2022-09-14T18:37:46.754445Z",
     "start_time": "2022-09-14T18:32:47.042373Z"
    }
   },
   "outputs": [],
   "source": [
    "resp_dl = downloader.download(iter(items_to_download), ASSET_TYPES, str(data_dir))\n",
    "resp_dl"
   ]
  },
  {
   "cell_type": "code",
   "execution_count": null,
   "metadata": {
    "ExecuteTime": {
     "end_time": "2022-09-14T18:37:46.758472Z",
     "start_time": "2022-09-14T18:37:46.756316Z"
    }
   },
   "outputs": [],
   "source": [
    "#downloader.shutdown()"
   ]
  },
  {
   "cell_type": "markdown",
   "metadata": {},
   "source": [
    "# Check (optional)\n",
    "\n",
    "Let's check the extent of the image tables with the image we downloaded. They should align. "
   ]
  },
  {
   "cell_type": "code",
   "execution_count": null,
   "metadata": {
    "ExecuteTime": {
     "end_time": "2022-09-14T18:37:46.778195Z",
     "start_time": "2022-09-14T18:37:46.760111Z"
    }
   },
   "outputs": [],
   "source": [
    "n = len(PLANET_ID)\n",
    "planet_images = list(data_dir.glob('*.tif'))\n",
    "planet_image_path = list(filter(lambda x: x.name[:n] == PLANET_ID, planet_images))[0]\n",
    "planet_image_path"
   ]
  },
  {
   "cell_type": "code",
   "execution_count": null,
   "metadata": {
    "ExecuteTime": {
     "end_time": "2022-09-14T18:37:56.695215Z",
     "start_time": "2022-09-14T18:37:46.780043Z"
    }
   },
   "outputs": [],
   "source": [
    "import numpy as np\n",
    "\n",
    "with rasterio.open(planet_image_path) as ds:\n",
    "    planet_crs = ds.crs\n",
    "    full_planet_image = ds.read(1).astype(float)\n",
    "    nodata = ds.nodata\n",
    "    profile = ds.profile\n",
    "    \n",
    "full_planet_image[full_planet_image == nodata] = np.nan"
   ]
  },
  {
   "cell_type": "code",
   "execution_count": null,
   "metadata": {
    "ExecuteTime": {
     "end_time": "2022-09-14T18:37:56.705899Z",
     "start_time": "2022-09-14T18:37:56.696996Z"
    }
   },
   "outputs": [],
   "source": [
    "df_image = df_images[df_images.image_name == PLANET_ID]\n",
    "df_image_utm = df_image.to_crs(planet_crs)"
   ]
  },
  {
   "cell_type": "code",
   "execution_count": null,
   "metadata": {
    "ExecuteTime": {
     "end_time": "2022-09-14T18:38:08.103835Z",
     "start_time": "2022-09-14T18:37:56.707676Z"
    }
   },
   "outputs": [],
   "source": [
    "fig, ax = plt.subplots()\n",
    "show(full_planet_image, transform=profile['transform'], ax=ax)\n",
    "df_image_utm.boundary.plot(ax=ax, color='yellow')"
   ]
  },
  {
   "cell_type": "markdown",
   "metadata": {
    "ExecuteTime": {
     "end_time": "2022-09-14T00:53:59.395492Z",
     "start_time": "2022-09-14T00:53:59.391948Z"
    }
   },
   "source": [
    "The yellow line is the boundary of the image in the table."
   ]
  }
 ],
 "metadata": {
  "kernelspec": {
   "display_name": "dswx_val",
   "language": "python",
   "name": "dswx_val"
  },
  "language_info": {
   "codemirror_mode": {
    "name": "ipython",
    "version": 3
   },
   "file_extension": ".py",
   "mimetype": "text/x-python",
   "name": "python",
   "nbconvert_exporter": "python",
   "pygments_lexer": "ipython3",
   "version": "3.10.6"
  }
 },
 "nbformat": 4,
 "nbformat_minor": 2
}
