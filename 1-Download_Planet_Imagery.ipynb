{
 "cells": [
  {
   "cell_type": "markdown",
   "metadata": {},
   "source": [
    "# Download Planet Imagery\n",
    "\n",
    "This notebook shows how to download planet imagery using the Planet API using the validation table."
   ]
  },
  {
   "cell_type": "code",
   "execution_count": 1,
   "metadata": {
    "ExecuteTime": {
     "end_time": "2022-09-14T18:32:44.604440Z",
     "start_time": "2022-09-14T18:32:43.620287Z"
    }
   },
   "outputs": [
    {
     "name": "stderr",
     "output_type": "stream",
     "text": [
      "/Users/cmarshak/opt/anaconda3/envs/dswx_val/lib/python3.10/site-packages/planet/api/__init__.py:38: ClientV1DeprecationWarning: The planet.api module is deprecated and will be removed in version 2.0.0. For more details please see the discussion at https://github.com/planetlabs/planet-client-python/discussions.\n",
      "  warnings.warn(\n"
     ]
    }
   ],
   "source": [
    "import geopandas as gpd\n",
    "from planet import api\n",
    "from planet.api import downloader\n",
    "from planet.api.downloader import create\n",
    "import os\n",
    "import rasterio\n",
    "from pathlib import Path\n",
    "from dotenv import dotenv_values\n",
    "from rasterio.plot import show\n",
    "import matplotlib.pyplot as plt\n",
    "import pandas as pd"
   ]
  },
  {
   "cell_type": "markdown",
   "metadata": {},
   "source": [
    "# Parameters\n",
    "\n",
    "Specify *exactly* one. The `site_name` or the `planet_id`. The former is given to the chip by the validation team. Because we are not selecting multiple planet scenes per chip and not selecting planet images that cover multiple chips (they are sufficiently spaced apart), this should be a 1 to 1 mapping."
   ]
  },
  {
   "cell_type": "code",
   "execution_count": 2,
   "metadata": {
    "ExecuteTime": {
     "end_time": "2022-09-14T18:32:44.609225Z",
     "start_time": "2022-09-14T18:32:44.606790Z"
    }
   },
   "outputs": [],
   "source": [
    "PLANET_ID = ''\n",
    "SITE_NAME = '3_28'\n",
    "\n",
    "# ^ is exclusive or; makes sure you only specified one\n",
    "assert((len(PLANET_ID) == 0) ^ (len(SITE_NAME) == 0))"
   ]
  },
  {
   "cell_type": "markdown",
   "metadata": {},
   "source": [
    "# Environment\n",
    "\n",
    "Ensure we can make AWS anonymous requests and obtain the planet API key."
   ]
  },
  {
   "cell_type": "code",
   "execution_count": 3,
   "metadata": {
    "ExecuteTime": {
     "end_time": "2022-09-14T18:32:44.614178Z",
     "start_time": "2022-09-14T18:32:44.611054Z"
    }
   },
   "outputs": [],
   "source": [
    "os.environ[\"AWS_NO_SIGN_REQUEST\"] = \"YES\"\n",
    "\n",
    "config = dotenv_values()\n",
    "PLANET_API_KEY = config['PLANET_API_KEY']"
   ]
  },
  {
   "cell_type": "markdown",
   "metadata": {},
   "source": [
    "# Get Image Database"
   ]
  },
  {
   "cell_type": "code",
   "execution_count": 4,
   "metadata": {
    "ExecuteTime": {
     "end_time": "2022-09-14T18:32:45.151187Z",
     "start_time": "2022-09-14T18:32:44.616458Z"
    }
   },
   "outputs": [
    {
     "data": {
      "text/html": [
       "<div>\n",
       "<style scoped>\n",
       "    .dataframe tbody tr th:only-of-type {\n",
       "        vertical-align: middle;\n",
       "    }\n",
       "\n",
       "    .dataframe tbody tr th {\n",
       "        vertical-align: top;\n",
       "    }\n",
       "\n",
       "    .dataframe thead th {\n",
       "        text-align: right;\n",
       "    }\n",
       "</style>\n",
       "<table border=\"1\" class=\"dataframe\">\n",
       "  <thead>\n",
       "    <tr style=\"text-align: right;\">\n",
       "      <th></th>\n",
       "      <th>collocated_dswx</th>\n",
       "      <th>dswx_cloud_cover</th>\n",
       "      <th>datetime</th>\n",
       "      <th>image_name</th>\n",
       "      <th>cloud_cover</th>\n",
       "      <th>site_coverage</th>\n",
       "      <th>instrument</th>\n",
       "      <th>provider</th>\n",
       "      <th>resolution</th>\n",
       "      <th>timeDelta_days</th>\n",
       "      <th>site_name</th>\n",
       "      <th>Strata</th>\n",
       "      <th>geometry</th>\n",
       "    </tr>\n",
       "  </thead>\n",
       "  <tbody>\n",
       "    <tr>\n",
       "      <th>0</th>\n",
       "      <td>HLS.S30.T04WDB.2021271T225541.v2.0</td>\n",
       "      <td>4.0</td>\n",
       "      <td>2021-09-29 21:28:09.168000+00:00</td>\n",
       "      <td>20210929_212809_16_2442</td>\n",
       "      <td>0.0</td>\n",
       "      <td>90.820013</td>\n",
       "      <td>PSB.SD</td>\n",
       "      <td>planetscope</td>\n",
       "      <td>3.0</td>\n",
       "      <td>0.938606</td>\n",
       "      <td>3_38</td>\n",
       "      <td>3.0</td>\n",
       "      <td>POLYGON ((-160.00896 69.30478, -160.21043 69.1...</td>\n",
       "    </tr>\n",
       "    <tr>\n",
       "      <th>1</th>\n",
       "      <td>HLS.S30.T33WXP.2021270T104719.v2.0</td>\n",
       "      <td>16.0</td>\n",
       "      <td>2021-09-27 09:55:37.877000+00:00</td>\n",
       "      <td>20210927_095537_0f15</td>\n",
       "      <td>0.0</td>\n",
       "      <td>41.216128</td>\n",
       "      <td>PS2</td>\n",
       "      <td>planetscope</td>\n",
       "      <td>3.0</td>\n",
       "      <td>0.039303</td>\n",
       "      <td>4_43</td>\n",
       "      <td>4.0</td>\n",
       "      <td>POLYGON ((17.22275 66.09223, 17.16459 66.02168...</td>\n",
       "    </tr>\n",
       "    <tr>\n",
       "      <th>2</th>\n",
       "      <td>HLS.L30.T40WFU.2021268T073033.v2.0</td>\n",
       "      <td>2.0</td>\n",
       "      <td>2021-09-25 07:27:12.166000+00:00</td>\n",
       "      <td>20210925_072712_16_2254</td>\n",
       "      <td>0.0</td>\n",
       "      <td>72.272530</td>\n",
       "      <td>PSB.SD</td>\n",
       "      <td>planetscope</td>\n",
       "      <td>3.0</td>\n",
       "      <td>0.002335</td>\n",
       "      <td>3_1</td>\n",
       "      <td>3.0</td>\n",
       "      <td>POLYGON ((59.00446 65.95517, 58.85023 65.76646...</td>\n",
       "    </tr>\n",
       "    <tr>\n",
       "      <th>3</th>\n",
       "      <td>HLS.S30.T14VPQ.2021244T175911.v2.0</td>\n",
       "      <td>2.0</td>\n",
       "      <td>2021-09-01 17:52:05.712000+00:00</td>\n",
       "      <td>20210901_175205_71_2426</td>\n",
       "      <td>0.0</td>\n",
       "      <td>100.000000</td>\n",
       "      <td>PSB.SD</td>\n",
       "      <td>planetscope</td>\n",
       "      <td>3.0</td>\n",
       "      <td>0.010000</td>\n",
       "      <td>4_34</td>\n",
       "      <td>4.0</td>\n",
       "      <td>POLYGON ((-96.94381 62.88876, -97.07609 62.707...</td>\n",
       "    </tr>\n",
       "    <tr>\n",
       "      <th>4</th>\n",
       "      <td>HLS.S30.T52VFP.2021253T023549.v2.0</td>\n",
       "      <td>2.0</td>\n",
       "      <td>2021-09-11 00:51:29.821000+00:00</td>\n",
       "      <td>20210911_005129_82_106a</td>\n",
       "      <td>0.0</td>\n",
       "      <td>100.000000</td>\n",
       "      <td>PS2.SD</td>\n",
       "      <td>planetscope</td>\n",
       "      <td>3.0</td>\n",
       "      <td>0.924389</td>\n",
       "      <td>3_30</td>\n",
       "      <td>3.0</td>\n",
       "      <td>POLYGON ((130.86458 61.50211, 130.95358 61.357...</td>\n",
       "    </tr>\n",
       "  </tbody>\n",
       "</table>\n",
       "</div>"
      ],
      "text/plain": [
       "                      collocated_dswx  dswx_cloud_cover  \\\n",
       "0  HLS.S30.T04WDB.2021271T225541.v2.0               4.0   \n",
       "1  HLS.S30.T33WXP.2021270T104719.v2.0              16.0   \n",
       "2  HLS.L30.T40WFU.2021268T073033.v2.0               2.0   \n",
       "3  HLS.S30.T14VPQ.2021244T175911.v2.0               2.0   \n",
       "4  HLS.S30.T52VFP.2021253T023549.v2.0               2.0   \n",
       "\n",
       "                          datetime               image_name  cloud_cover  \\\n",
       "0 2021-09-29 21:28:09.168000+00:00  20210929_212809_16_2442          0.0   \n",
       "1 2021-09-27 09:55:37.877000+00:00     20210927_095537_0f15          0.0   \n",
       "2 2021-09-25 07:27:12.166000+00:00  20210925_072712_16_2254          0.0   \n",
       "3 2021-09-01 17:52:05.712000+00:00  20210901_175205_71_2426          0.0   \n",
       "4 2021-09-11 00:51:29.821000+00:00  20210911_005129_82_106a          0.0   \n",
       "\n",
       "   site_coverage instrument     provider  resolution  timeDelta_days  \\\n",
       "0      90.820013     PSB.SD  planetscope         3.0        0.938606   \n",
       "1      41.216128        PS2  planetscope         3.0        0.039303   \n",
       "2      72.272530     PSB.SD  planetscope         3.0        0.002335   \n",
       "3     100.000000     PSB.SD  planetscope         3.0        0.010000   \n",
       "4     100.000000     PS2.SD  planetscope         3.0        0.924389   \n",
       "\n",
       "  site_name  Strata                                           geometry  \n",
       "0      3_38     3.0  POLYGON ((-160.00896 69.30478, -160.21043 69.1...  \n",
       "1      4_43     4.0  POLYGON ((17.22275 66.09223, 17.16459 66.02168...  \n",
       "2       3_1     3.0  POLYGON ((59.00446 65.95517, 58.85023 65.76646...  \n",
       "3      4_34     4.0  POLYGON ((-96.94381 62.88876, -97.07609 62.707...  \n",
       "4      3_30     3.0  POLYGON ((130.86458 61.50211, 130.95358 61.357...  "
      ]
     },
     "execution_count": 4,
     "metadata": {},
     "output_type": "execute_result"
    }
   ],
   "source": [
    "df_images = gpd.read_file('s3://opera-calval-database-dswx/image.geojson')\n",
    "df_images.dropna(inplace=True)\n",
    "df_images.head()"
   ]
  },
  {
   "cell_type": "code",
   "execution_count": 5,
   "metadata": {
    "ExecuteTime": {
     "end_time": "2022-09-14T18:32:45.160500Z",
     "start_time": "2022-09-14T18:32:45.153048Z"
    }
   },
   "outputs": [
    {
     "data": {
      "text/html": [
       "<div>\n",
       "<style scoped>\n",
       "    .dataframe tbody tr th:only-of-type {\n",
       "        vertical-align: middle;\n",
       "    }\n",
       "\n",
       "    .dataframe tbody tr th {\n",
       "        vertical-align: top;\n",
       "    }\n",
       "\n",
       "    .dataframe thead th {\n",
       "        text-align: right;\n",
       "    }\n",
       "</style>\n",
       "<table border=\"1\" class=\"dataframe\">\n",
       "  <thead>\n",
       "    <tr style=\"text-align: right;\">\n",
       "      <th></th>\n",
       "      <th>image_name</th>\n",
       "    </tr>\n",
       "    <tr>\n",
       "      <th>site_name</th>\n",
       "      <th></th>\n",
       "    </tr>\n",
       "  </thead>\n",
       "  <tbody>\n",
       "    <tr>\n",
       "      <th>3_38</th>\n",
       "      <td>20210929_212809_16_2442</td>\n",
       "    </tr>\n",
       "    <tr>\n",
       "      <th>4_43</th>\n",
       "      <td>20210927_095537_0f15</td>\n",
       "    </tr>\n",
       "    <tr>\n",
       "      <th>3_1</th>\n",
       "      <td>20210925_072712_16_2254</td>\n",
       "    </tr>\n",
       "    <tr>\n",
       "      <th>4_34</th>\n",
       "      <td>20210901_175205_71_2426</td>\n",
       "    </tr>\n",
       "    <tr>\n",
       "      <th>3_30</th>\n",
       "      <td>20210911_005129_82_106a</td>\n",
       "    </tr>\n",
       "  </tbody>\n",
       "</table>\n",
       "</div>"
      ],
      "text/plain": [
       "                        image_name\n",
       "site_name                         \n",
       "3_38       20210929_212809_16_2442\n",
       "4_43          20210927_095537_0f15\n",
       "3_1        20210925_072712_16_2254\n",
       "4_34       20210901_175205_71_2426\n",
       "3_30       20210911_005129_82_106a"
      ]
     },
     "execution_count": 5,
     "metadata": {},
     "output_type": "execute_result"
    }
   ],
   "source": [
    "temp = df_images[['image_name', 'site_name']]\n",
    "df_site2image = temp.set_index('site_name')\n",
    "df_image2site = temp.set_index('image_name')\n",
    "df_site2image.head()"
   ]
  },
  {
   "cell_type": "code",
   "execution_count": 6,
   "metadata": {
    "ExecuteTime": {
     "end_time": "2022-09-14T18:32:45.166577Z",
     "start_time": "2022-09-14T18:32:45.162158Z"
    }
   },
   "outputs": [
    {
     "name": "stdout",
     "output_type": "stream",
     "text": [
      "There was 1 planet images for this chip\n"
     ]
    },
    {
     "data": {
      "text/plain": [
       "('3_28', '20210906_101112_28_225a')"
      ]
     },
     "execution_count": 6,
     "metadata": {},
     "output_type": "execute_result"
    }
   ],
   "source": [
    "if not PLANET_ID:\n",
    "    values = PLANET_ID = df_site2image.loc[SITE_NAME].tolist()\n",
    "    PLANET_ID = values[0]\n",
    "    print(f'There was {len(values)} planet images for this chip')\n",
    "else:\n",
    "    values = df_image2site.loc[PLANET_ID].tolist()\n",
    "    SITE_NAME = values[0]\n",
    "    print(f'There were {len(values)} chips for this planet_image')\n",
    "\n",
    "(SITE_NAME, PLANET_ID)"
   ]
  },
  {
   "cell_type": "code",
   "execution_count": 7,
   "metadata": {
    "ExecuteTime": {
     "end_time": "2022-09-14T18:32:45.171074Z",
     "start_time": "2022-09-14T18:32:45.168402Z"
    }
   },
   "outputs": [],
   "source": [
    "data_dir = Path(f'data/{PLANET_ID}/')\n",
    "data_dir.mkdir(exist_ok=True, parents=True)"
   ]
  },
  {
   "cell_type": "markdown",
   "metadata": {
    "ExecuteTime": {
     "end_time": "2022-09-13T20:49:35.990381Z",
     "start_time": "2022-09-13T20:49:35.990368Z"
    }
   },
   "source": [
    "# Download\n",
    "\n",
    "These are async functions. You will not only have to interrupt the kernel, but also run `downloader.shutdown()` to re-run this section. Currently, they are commented out."
   ]
  },
  {
   "cell_type": "code",
   "execution_count": 8,
   "metadata": {
    "ExecuteTime": {
     "end_time": "2022-09-14T18:32:45.174977Z",
     "start_time": "2022-09-14T18:32:45.172963Z"
    }
   },
   "outputs": [],
   "source": [
    "ITEM_TYPE = 'PSScene'\n",
    "ASSET_TYPES = ['ortho_analytic_8b_sr', \n",
    "               'ortho_analytic_8b_xml']"
   ]
  },
  {
   "cell_type": "code",
   "execution_count": 9,
   "metadata": {
    "ExecuteTime": {
     "end_time": "2022-09-14T18:32:45.181003Z",
     "start_time": "2022-09-14T18:32:45.176947Z"
    }
   },
   "outputs": [
    {
     "data": {
      "text/plain": [
       "<planet.api.downloader._Downloader at 0x1bb026fb0>"
      ]
     },
     "execution_count": 9,
     "metadata": {},
     "output_type": "execute_result"
    }
   ],
   "source": [
    "from planet.api import downloader\n",
    "\n",
    "client = api.ClientV1(api_key=PLANET_API_KEY)\n",
    "downloader = downloader.create(client)\n",
    "downloader"
   ]
  },
  {
   "cell_type": "code",
   "execution_count": 10,
   "metadata": {
    "ExecuteTime": {
     "end_time": "2022-09-14T18:32:45.438714Z",
     "start_time": "2022-09-14T18:32:45.184462Z"
    }
   },
   "outputs": [
    {
     "data": {
      "text/plain": [
       "['basic_analytic_4b',\n",
       " 'basic_analytic_4b_rpc',\n",
       " 'basic_analytic_4b_xml',\n",
       " 'basic_analytic_8b',\n",
       " 'basic_analytic_8b_xml',\n",
       " 'basic_udm2',\n",
       " 'ortho_analytic_4b',\n",
       " 'ortho_analytic_4b_sr',\n",
       " 'ortho_analytic_4b_xml',\n",
       " 'ortho_analytic_8b',\n",
       " 'ortho_analytic_8b_sr',\n",
       " 'ortho_analytic_8b_xml',\n",
       " 'ortho_udm2',\n",
       " 'ortho_visual']"
      ]
     },
     "execution_count": 10,
     "metadata": {},
     "output_type": "execute_result"
    }
   ],
   "source": [
    "req = client.get_item(ITEM_TYPE, \n",
    "                      PLANET_ID)\n",
    "resp = req.get()\n",
    "resp['assets']"
   ]
  },
  {
   "cell_type": "code",
   "execution_count": 11,
   "metadata": {
    "ExecuteTime": {
     "end_time": "2022-09-14T18:32:45.443065Z",
     "start_time": "2022-09-14T18:32:45.440610Z"
    }
   },
   "outputs": [],
   "source": [
    "items_to_download = [resp] * len(ASSET_TYPES)"
   ]
  },
  {
   "cell_type": "code",
   "execution_count": 12,
   "metadata": {
    "ExecuteTime": {
     "end_time": "2022-09-14T18:32:47.036036Z",
     "start_time": "2022-09-14T18:32:45.444896Z"
    }
   },
   "outputs": [
    {
     "data": {
      "text/plain": [
       "{'paging': False, 'activating': 0, 'pending': 0, 'complete': 2}"
      ]
     },
     "execution_count": 12,
     "metadata": {},
     "output_type": "execute_result"
    }
   ],
   "source": [
    "resp_ac = downloader.activate(iter(items_to_download), ASSET_TYPES)\n",
    "resp_ac"
   ]
  },
  {
   "cell_type": "code",
   "execution_count": 13,
   "metadata": {
    "ExecuteTime": {
     "end_time": "2022-09-14T18:32:47.040533Z",
     "start_time": "2022-09-14T18:32:47.038051Z"
    }
   },
   "outputs": [],
   "source": [
    "#downloader.shutdown()"
   ]
  },
  {
   "cell_type": "code",
   "execution_count": 14,
   "metadata": {
    "ExecuteTime": {
     "end_time": "2022-09-14T18:37:46.754445Z",
     "start_time": "2022-09-14T18:32:47.042373Z"
    }
   },
   "outputs": [
    {
     "name": "stderr",
     "output_type": "stream",
     "text": [
      "`background_callback` is deprecated and will be removed in 1.0, use `hooks` instead\n",
      "`background_callback` is deprecated and will be removed in 1.0, use `hooks` instead\n",
      "`background_callback` is deprecated and will be removed in 1.0, use `hooks` instead\n",
      "`background_callback` is deprecated and will be removed in 1.0, use `hooks` instead\n"
     ]
    },
    {
     "data": {
      "text/plain": [
       "{'paging': False,\n",
       " 'activating': 0,\n",
       " 'pending': 0,\n",
       " 'complete': 4,\n",
       " 'downloading': 0,\n",
       " 'downloaded': '2127.39MB'}"
      ]
     },
     "execution_count": 14,
     "metadata": {},
     "output_type": "execute_result"
    }
   ],
   "source": [
    "resp_dl = downloader.download(iter(items_to_download), ASSET_TYPES, str(data_dir))\n",
    "resp_dl"
   ]
  },
  {
   "cell_type": "code",
   "execution_count": 15,
   "metadata": {
    "ExecuteTime": {
     "end_time": "2022-09-14T18:37:46.758472Z",
     "start_time": "2022-09-14T18:37:46.756316Z"
    }
   },
   "outputs": [],
   "source": [
    "#downloader.shutdown()"
   ]
  },
  {
   "cell_type": "markdown",
   "metadata": {},
   "source": [
    "# Check (optional)\n",
    "\n",
    "Let's check the extent of the image tables with the image we downloaded. They should align. "
   ]
  },
  {
   "cell_type": "code",
   "execution_count": 16,
   "metadata": {
    "ExecuteTime": {
     "end_time": "2022-09-14T18:37:46.778195Z",
     "start_time": "2022-09-14T18:37:46.760111Z"
    }
   },
   "outputs": [
    {
     "data": {
      "text/plain": [
       "PosixPath('data/20210906_101112_28_225a/20210906_101112_28_225a_3B_AnalyticMS_SR_8b.tif')"
      ]
     },
     "execution_count": 16,
     "metadata": {},
     "output_type": "execute_result"
    }
   ],
   "source": [
    "n = len(PLANET_ID)\n",
    "planet_images = list(data_dir.glob('*.tif'))\n",
    "planet_image_path = list(filter(lambda x: x.name[:n] == PLANET_ID, planet_images))[0]\n",
    "planet_image_path"
   ]
  },
  {
   "cell_type": "code",
   "execution_count": 17,
   "metadata": {
    "ExecuteTime": {
     "end_time": "2022-09-14T18:37:56.695215Z",
     "start_time": "2022-09-14T18:37:46.780043Z"
    }
   },
   "outputs": [],
   "source": [
    "import numpy as np\n",
    "\n",
    "with rasterio.open(planet_image_path) as ds:\n",
    "    planet_crs = ds.crs\n",
    "    full_planet_image = ds.read(1).astype(float)\n",
    "    nodata = ds.nodata\n",
    "    profile = ds.profile\n",
    "    \n",
    "full_planet_image[full_planet_image == nodata] = np.nan"
   ]
  },
  {
   "cell_type": "code",
   "execution_count": 18,
   "metadata": {
    "ExecuteTime": {
     "end_time": "2022-09-14T18:37:56.705899Z",
     "start_time": "2022-09-14T18:37:56.696996Z"
    }
   },
   "outputs": [],
   "source": [
    "df_image = df_images[df_images.image_name == PLANET_ID]\n",
    "df_image_utm = df_image.to_crs(planet_crs)"
   ]
  },
  {
   "cell_type": "code",
   "execution_count": 19,
   "metadata": {
    "ExecuteTime": {
     "end_time": "2022-09-14T18:38:08.103835Z",
     "start_time": "2022-09-14T18:37:56.707676Z"
    }
   },
   "outputs": [
    {
     "data": {
      "text/plain": [
       "<AxesSubplot:>"
      ]
     },
     "execution_count": 19,
     "metadata": {},
     "output_type": "execute_result"
    },
    {
     "data": {
      "image/png": "[encoded data removed]",
      "text/plain": [
       "<Figure size 432x288 with 1 Axes>"
      ]
     },
     "metadata": {
      "needs_background": "light"
     },
     "output_type": "display_data"
    }
   ],
   "source": [
    "fig, ax = plt.subplots()\n",
    "show(full_planet_image, transform=profile['transform'], ax=ax)\n",
    "df_image_utm.boundary.plot(ax=ax, color='yellow')"
   ]
  },
  {
   "cell_type": "markdown",
   "metadata": {
    "ExecuteTime": {
     "end_time": "2022-09-14T00:53:59.395492Z",
     "start_time": "2022-09-14T00:53:59.391948Z"
    }
   },
   "source": [
    "The yellow line is the boundary of the image in the table."
   ]
  }
 ],
 "metadata": {
  "kernelspec": {
   "display_name": "dswx_val",
   "language": "python",
   "name": "dswx_val"
  },
  "language_info": {
   "codemirror_mode": {
    "name": "ipython",
    "version": 3
   },
   "file_extension": ".py",
   "mimetype": "text/x-python",
   "name": "python",
   "nbconvert_exporter": "python",
   "pygments_lexer": "ipython3",
   "version": "3.10.5"
  }
 },
 "nbformat": 4,
 "nbformat_minor": 2
}
